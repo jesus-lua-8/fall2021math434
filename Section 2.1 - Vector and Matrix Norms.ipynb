{
 "cells": [
  {
   "cell_type": "markdown",
   "metadata": {},
   "source": [
    "---\n",
    "# Section 2.1: Vector and Matrix Norms\n",
    "---"
   ]
  },
  {
   "cell_type": "markdown",
   "metadata": {},
   "source": [
    "## Motivation\n",
    "\n",
    "When solving $Ax = b$ numerically, we get a solution $\\hat{x}$ that satisfies\n",
    "\n",
    "$$\n",
    "\\hat{A} \\hat{x} = \\hat{b}.\n",
    "$$\n",
    "\n",
    "We hope that $\\hat{A} \\approx A$ and $\\hat{b} \\approx b$.\n",
    "\n",
    "It is for this reason that we need a way to measure the distance between both matrices and vectors."
   ]
  },
  {
   "cell_type": "markdown",
   "metadata": {},
   "source": [
    "---"
   ]
  },
  {
   "cell_type": "markdown",
   "metadata": {},
   "source": [
    "## Vector norms\n",
    "\n",
    "A (vector) **norm** is a function \n",
    "\n",
    "$$\n",
    "\\|\\cdot\\| : \\mathbb{R}^n \\rightarrow \\mathbb{R}\n",
    "$$\n",
    "\n",
    "that satisfies\n",
    "\n",
    "1. $\\|x\\| > 0$ if $x \\neq 0$ and $\\|0\\| = 0$\n",
    "2. $\\|\\alpha x\\| = |\\alpha| \\|x\\|$\n",
    "3. $\\|x + y\\| \\leq \\|x\\| + \\|y\\| \\qquad$ (triangle inequality)\n",
    "\n",
    "The **distance** between vectors $x$ and $y$ can then be measured by\n",
    "\n",
    "$$\n",
    "\\mathrm{dist}(x,y) = \\| x - y \\|.\n",
    "$$"
   ]
  },
  {
   "cell_type": "markdown",
   "metadata": {},
   "source": [
    "---"
   ]
  },
  {
   "cell_type": "markdown",
   "metadata": {},
   "source": [
    "## The $p$-norm\n",
    "\n",
    "$$\n",
    "\\|x\\|_p = \\left( \\sum_{i=1}^n \\left|x_i\\right|^p \\right)^{1/p}, \\quad 1 \\leq p \\leq \\infty.\n",
    "$$\n",
    "\n",
    "Some examples are:\n",
    "\n",
    "$$\n",
    "\\begin{array}{llclll}\n",
    "\\|x\\|_1 &=& \\displaystyle{\\sum_{i=1}^n |x_i|} &=& \\texttt{norm(x, 1)} \\qquad &\\text{(Manhattan norm)} \\\\\n",
    "\\|x\\|_2 &=& \\displaystyle{\\sqrt{\\sum_{i=1}^n |x_i|^2}} &=& \\texttt{norm(x)} \\qquad &\\text{(Euclidean norm)} \\\\\n",
    "\\|x\\|_\\infty &=& \\displaystyle{\\max_{i=1,\\ldots,n} |x_i|} &=& \\texttt{norm(x, Inf)} \\qquad &\\text{(max-norm)} \\\\\n",
    "\\end{array}\n",
    "$$\n",
    "\n",
    "The **unit $p$-norm ball** is the set of vectors having $p$-norm at most $1$:\n",
    "\n",
    "$$\n",
    "B_p = \\big\\{ x \\in \\mathbb{R}^n : \\lVert x \\rVert_p \\leq 1 \\big\\}.\n",
    "$$"
   ]
  },
  {
   "cell_type": "markdown",
   "metadata": {},
   "source": [
    "---"
   ]
  },
  {
   "cell_type": "markdown",
   "metadata": {},
   "source": [
    "## `norm` of a vector"
   ]
  },
  {
   "cell_type": "code",
   "execution_count": null,
   "metadata": {},
   "outputs": [],
   "source": [
    "using LinearAlgebra"
   ]
  },
  {
   "cell_type": "code",
   "execution_count": null,
   "metadata": {},
   "outputs": [],
   "source": [
    "?norm"
   ]
  },
  {
   "cell_type": "code",
   "execution_count": null,
   "metadata": {},
   "outputs": [],
   "source": [
    "x = Float64[1, -2, 1]"
   ]
  },
  {
   "cell_type": "code",
   "execution_count": null,
   "metadata": {},
   "outputs": [],
   "source": [
    "y = Float64[0.9, -1.9, 1.1]"
   ]
  },
  {
   "cell_type": "code",
   "execution_count": null,
   "metadata": {},
   "outputs": [],
   "source": [
    "# The 1-norm of x\n",
    "norm(x, 1)"
   ]
  },
  {
   "cell_type": "code",
   "execution_count": null,
   "metadata": {},
   "outputs": [],
   "source": [
    "# The 0-norm counts the number of nonzero entries in x\n",
    "norm([1, 0, 0, 0, 1], 0)"
   ]
  },
  {
   "cell_type": "code",
   "execution_count": null,
   "metadata": {},
   "outputs": [],
   "source": [
    "# The Manhattan distance between x and y\n",
    "norm(x - y, 1)"
   ]
  },
  {
   "cell_type": "code",
   "execution_count": null,
   "metadata": {},
   "outputs": [],
   "source": [
    "x"
   ]
  },
  {
   "cell_type": "code",
   "execution_count": null,
   "metadata": {},
   "outputs": [],
   "source": [
    "# The Euclidean norm of x\n",
    "norm(x, 2)"
   ]
  },
  {
   "cell_type": "code",
   "execution_count": null,
   "metadata": {},
   "outputs": [],
   "source": [
    "sqrt(1 + 4 + 1)"
   ]
  },
  {
   "cell_type": "code",
   "execution_count": null,
   "metadata": {},
   "outputs": [],
   "source": [
    "# The default norm is the Euclidean norm\n",
    "norm(x)"
   ]
  },
  {
   "cell_type": "code",
   "execution_count": null,
   "metadata": {},
   "outputs": [],
   "source": [
    "# The Euclidean distance between x and y\n",
    "norm(x - y)"
   ]
  },
  {
   "cell_type": "code",
   "execution_count": null,
   "metadata": {},
   "outputs": [],
   "source": [
    "x"
   ]
  },
  {
   "cell_type": "code",
   "execution_count": null,
   "metadata": {},
   "outputs": [],
   "source": [
    "# The max-norm of x\n",
    "norm(x, Inf)"
   ]
  },
  {
   "cell_type": "code",
   "execution_count": null,
   "metadata": {},
   "outputs": [],
   "source": [
    "# The max-norm distance between x and y\n",
    "norm(x - y, Inf)"
   ]
  },
  {
   "cell_type": "markdown",
   "metadata": {},
   "source": [
    "---"
   ]
  },
  {
   "cell_type": "markdown",
   "metadata": {},
   "source": [
    "## The $A$-norm\n",
    "\n",
    "$$\n",
    "\\|x\\|_A = \\sqrt{x^T A x}\n",
    "$$\n",
    "\n",
    "where $A$ is an $n \\times n$ positive definite matrix.\n",
    "\n",
    "For example, when $A = I$, we have the usual Euclidean norm:\n",
    "\n",
    "$$\n",
    "\\|x\\|_I = \\|x\\|_2.\n",
    "$$"
   ]
  },
  {
   "cell_type": "markdown",
   "metadata": {},
   "source": [
    "---"
   ]
  },
  {
   "cell_type": "markdown",
   "metadata": {},
   "source": [
    "## The resistance distance on a social network\n",
    "\n",
    "A practical example of the $A$-norm is the **resistance distance** between individuals on a **social network**. \n",
    "\n",
    "A social network can be represented as a **graph** where individuals are **nodes** which are connected by an **edge** if they are friends.\n",
    "\n",
    "This graph can be represented using an **adjacency matrix** $A = [a_{ij}]$ where $a_{ij} = 1$ if $i$ and $j$ are friends, otherwise $a_{ij} = 0$; you cannot be friends with yourself, so $a_{ii} = 0$.\n",
    "\n",
    "The **Laplacian matrix** $L = [l_{ij}]$ of the graph has $l_{ii} = \\deg(i)$ (i.e., the number of friends of $i$), and $l_{ij} = -a_{ij}$ for $i \\neq j$. That is,\n",
    "\n",
    "$$\n",
    "L = \\mathrm{Diag}(Ae) - A,\n",
    "$$\n",
    "\n",
    "where $e$ is the vector of all ones, and $\\mathrm{Diag}(Ae)$ is the diagonal matrix with the vector $Ae$ on its diagonal.\n",
    "\n",
    "The **resistance distance** between $i$ and $j$ is then given by\n",
    "\n",
    "$$\n",
    "\\mathrm{dist}(i,j) = \\|e_i - e_j\\|_B,  \\qquad \\text{where $B = (L + ee^T)^{-1}$}.\n",
    "$$\n",
    "\n",
    "Here $e_i$ and $e_j$ are the $i^\\mathrm{th}$ and $j^\\mathrm{th}$ columns of the identity matrix. (Note: it can be shown that $L + ee^T$ is positive definite, which implies that $(L + ee^T)^{-1}$ is positive definite.)"
   ]
  },
  {
   "cell_type": "code",
   "execution_count": null,
   "metadata": {},
   "outputs": [],
   "source": [
    "n = 6\n",
    "A = Symmetric(rand(n, n))\n",
    "A = round.(A)\n",
    "A = A - diagm(diag(A))  # Make the diagonal zero"
   ]
  },
  {
   "cell_type": "code",
   "execution_count": null,
   "metadata": {},
   "outputs": [],
   "source": [
    "e = ones(n)\n",
    "L = diagm(A*e) - A"
   ]
  },
  {
   "cell_type": "code",
   "execution_count": null,
   "metadata": {},
   "outputs": [],
   "source": [
    "L + e*e'"
   ]
  },
  {
   "cell_type": "code",
   "execution_count": null,
   "metadata": {},
   "outputs": [],
   "source": [
    "isposdef(L + e*e')"
   ]
  },
  {
   "cell_type": "code",
   "execution_count": null,
   "metadata": {},
   "outputs": [],
   "source": [
    "B = inv(L + e*e')"
   ]
  },
  {
   "cell_type": "code",
   "execution_count": null,
   "metadata": {},
   "outputs": [],
   "source": [
    "cholesky(Symmetric(B))"
   ]
  },
  {
   "cell_type": "code",
   "execution_count": null,
   "metadata": {},
   "outputs": [],
   "source": [
    "eigvals(Symmetric(B))"
   ]
  },
  {
   "cell_type": "code",
   "execution_count": null,
   "metadata": {},
   "outputs": [],
   "source": [
    "isposdef(Symmetric(B))"
   ]
  },
  {
   "cell_type": "code",
   "execution_count": null,
   "metadata": {},
   "outputs": [],
   "source": [
    "# Define the resistance norm\n",
    "resnorm(x) = sqrt(x'*B*x)[1]\n",
    "\n",
    "# Form the matrix of distances between all nodes\n",
    "I = diagm(ones(n))\n",
    "D = Float64[resnorm(I[:,i] - I[:,j]) for i = 1:n, j = 1:n]"
   ]
  },
  {
   "cell_type": "code",
   "execution_count": null,
   "metadata": {},
   "outputs": [],
   "source": [
    "D[3,4]"
   ]
  },
  {
   "cell_type": "code",
   "execution_count": null,
   "metadata": {},
   "outputs": [],
   "source": [
    "D[3,6]"
   ]
  },
  {
   "cell_type": "code",
   "execution_count": null,
   "metadata": {},
   "outputs": [],
   "source": [
    "D[3,4] > D[3,6]"
   ]
  },
  {
   "cell_type": "code",
   "execution_count": null,
   "metadata": {},
   "outputs": [],
   "source": [
    "using GraphPlot, LightGraphs"
   ]
  },
  {
   "cell_type": "code",
   "execution_count": null,
   "metadata": {},
   "outputs": [],
   "source": [
    "g = Graph(A)\n",
    "gplot(g, nodelabel=1:n)"
   ]
  },
  {
   "cell_type": "markdown",
   "metadata": {},
   "source": [
    "---"
   ]
  },
  {
   "cell_type": "markdown",
   "metadata": {},
   "source": [
    "## The Euclidean norm is a norm\n",
    "\n",
    "To prove that the **Euclidean norm** is indeed a norm, we need to show it satisfies the **triangle inequality**:\n",
    "\n",
    "$$\n",
    "\\|x + y\\|_2 \\leq \\|x\\|_2 + \\|y\\|_2.\n",
    "$$\n",
    "\n",
    "We will prove this using the following fundamental result.\n",
    "\n",
    "> ### Theorem: (Cauchy-Schwarz Inequality)\n",
    ">\n",
    "> $$\n",
    "\\left|x^Ty\\right| \\leq \\|x\\|_2 \\|y\\|_2, \\qquad \\forall x, y \\in \\mathbb{R}^n.\n",
    "$$"
   ]
  },
  {
   "cell_type": "markdown",
   "metadata": {},
   "source": [
    "### Proof of the triangle inequality.\n",
    "\n",
    "Let $x, y \\in \\mathbb{R}^n$\n",
    "\n",
    "$$\n",
    "\\begin{align}\n",
    "\\|x + y\\|_2^2 \n",
    "&= (x+y)^T(x+y) \\\\\n",
    "&= x^Tx + x^Ty + y^Tx + y^Ty \\\\\n",
    "&= \\|x\\|_2^2 + 2x^Ty + \\|y\\|_2^2 \\\\\n",
    "&\\leq \\|x\\|_2^2 + 2\\|x\\|_2\\|y\\|_2 + \\|y\\|_2^2 \\qquad \\text{(Cauchy-Schwarz inequality)} \\\\\n",
    "&= \\big(\\|x\\|_2 + \\|y\\|_2\\big)^2. \\\\\n",
    "\\end{align}\n",
    "$$\n",
    "\n",
    "Taking the square root of both sides, we obtain $\\|x + y\\|_2 \\leq \\|x\\|_2 + \\|y\\|_2$. $\\blacksquare$"
   ]
  },
  {
   "cell_type": "markdown",
   "metadata": {},
   "source": [
    "---"
   ]
  },
  {
   "cell_type": "markdown",
   "metadata": {},
   "source": [
    "Now let's see a proof of the Cauchy-Schwarz inequality.\n",
    "\n",
    "### Proof of Cauchy-Schwarz.\n",
    "\n",
    "Let $t \\in \\mathbb{R}$. Then\n",
    "\n",
    "$$\n",
    "\\begin{align}\n",
    "0 \\leq \\|x + ty\\|_2^2 \n",
    "&= (x + ty)^T(x + ty) \\\\\n",
    "&= x^T x + 2tx^Ty + t^2y^Ty \\\\\n",
    "&= \\|x\\|_2^2 + \\big(2x^Ty\\big) t + \\|y\\|_2^2 t^2  \\\\\n",
    "&= c + bt + at^2,\n",
    "\\end{align}\n",
    "$$\n",
    "\n",
    "where \n",
    "\n",
    "$$\n",
    "a = \\|y\\|_2^2, \\qquad\n",
    "b = 2x^Ty, \\qquad \n",
    "c = \\|x\\|_2^2.\n",
    "$$"
   ]
  },
  {
   "cell_type": "markdown",
   "metadata": {},
   "source": [
    "$\\therefore$ $at^2 + bt + c \\geq 0$, $\\forall t \\in \\mathbb{R}$.\n",
    "\n",
    "This implies that the equation\n",
    "\n",
    "$$\n",
    "at^2 + bt + c = 0\n",
    "$$\n",
    "\n",
    "either has no solution or exactly one solution. By the **quadratic formula**,\n",
    "\n",
    "$$\n",
    "t = \\frac{-b \\pm \\sqrt{b^2 - 4ac}}{2a},\n",
    "$$\n",
    "\n",
    "we must have $b^2 - 4ac \\leq 0$."
   ]
  },
  {
   "cell_type": "markdown",
   "metadata": {},
   "source": [
    "Thus, \n",
    "\n",
    "$$\n",
    "\\big(2x^Ty\\big)^2 - 4 \\|y\\|_2^2 \\|x\\|_2^2 \\leq 0,\n",
    "$$\n",
    "\n",
    "which simplifies to\n",
    "\n",
    "$$\n",
    "\\left|x^Ty\\right| \\leq \\|x\\|_2 \\|y\\|_2. \\qquad \\blacksquare\n",
    "$$"
   ]
  },
  {
   "cell_type": "markdown",
   "metadata": {},
   "source": [
    "---"
   ]
  },
  {
   "cell_type": "markdown",
   "metadata": {},
   "source": [
    "## Matrix norms\n",
    "\n",
    "A **matrix norm** is a function \n",
    "\n",
    "$$\n",
    "\\|\\cdot\\| : \\mathbb{R}^{n \\times n} \\rightarrow \\mathbb{R}\n",
    "$$\n",
    "\n",
    "that satisfies\n",
    "\n",
    "1. $\\|A\\| > 0$ if $A \\neq 0$ and $\\|0\\| = 0$\n",
    "2. $\\|\\alpha A\\| = |\\alpha| \\|A\\|$\n",
    "3. $\\|A + B\\| \\leq \\|A\\| + \\|B\\|$\n",
    "4. $\\|AB\\| \\leq \\|A\\|\\|B\\| \\qquad$ (submultiplicativity)\n",
    "\n",
    "The **distance** between matrices $A$ and $B$ can then be measured by\n",
    "\n",
    "$$\n",
    "\\mathrm{dist}(A, B) = \\| A - B \\|.\n",
    "$$"
   ]
  },
  {
   "cell_type": "markdown",
   "metadata": {},
   "source": [
    "---"
   ]
  },
  {
   "cell_type": "markdown",
   "metadata": {},
   "source": [
    "### The Frobenius norm\n",
    "\n",
    "$$\n",
    "\\|A\\|_F = \\sqrt{\\sum_{i=1}^n \\sum_{j=1}^n |a_{ij}|^2} = \\texttt{norm(A)}\n",
    "$$"
   ]
  },
  {
   "cell_type": "code",
   "execution_count": null,
   "metadata": {},
   "outputs": [],
   "source": [
    "A = [1 2; 3 4.0]"
   ]
  },
  {
   "cell_type": "code",
   "execution_count": null,
   "metadata": {},
   "outputs": [],
   "source": [
    "norm(A)"
   ]
  },
  {
   "cell_type": "code",
   "execution_count": null,
   "metadata": {},
   "outputs": [],
   "source": [
    "sqrt(30)"
   ]
  },
  {
   "cell_type": "markdown",
   "metadata": {},
   "source": [
    "---"
   ]
  },
  {
   "cell_type": "markdown",
   "metadata": {},
   "source": [
    "### Exercise\n",
    "\n",
    "Compute $\\lVert I \\rVert_F$, where $I$ is the $n \\times n$ identity matrix."
   ]
  },
  {
   "cell_type": "markdown",
   "metadata": {},
   "source": [
    "---"
   ]
  },
  {
   "cell_type": "code",
   "execution_count": null,
   "metadata": {},
   "outputs": [],
   "source": [
    "I = diagm(ones(4))"
   ]
  },
  {
   "cell_type": "code",
   "execution_count": null,
   "metadata": {},
   "outputs": [],
   "source": [
    "norm(I)"
   ]
  },
  {
   "cell_type": "markdown",
   "metadata": {},
   "source": [
    "---"
   ]
  },
  {
   "cell_type": "markdown",
   "metadata": {},
   "source": [
    "## Induced Matrix Norms\n",
    "\n",
    "Let $\\|\\cdot\\| : \\mathbb{R}^n \\rightarrow \\mathbb{R}$ be a vector norm.\n",
    "\n",
    "The **induced matrix norm** (a.k.a. the **operator norm**) is defined as\n",
    "\n",
    "$$\n",
    "\\|A\\| = \\max_{x \\neq 0} \\frac{\\|Ax\\|}{\\|x\\|} = \\max_{\\|x\\| = 1} \\|Ax\\|.\n",
    "$$\n",
    "\n",
    "The induced matrix norm is a norm."
   ]
  },
  {
   "cell_type": "markdown",
   "metadata": {},
   "source": [
    "---"
   ]
  },
  {
   "cell_type": "markdown",
   "metadata": {},
   "source": [
    "## Exercise\n",
    "\n",
    "Let $\\|\\cdot\\|$ be an induced matrix norm. Compute $\\|I\\|$."
   ]
  },
  {
   "cell_type": "markdown",
   "metadata": {},
   "source": [
    "---"
   ]
  },
  {
   "cell_type": "markdown",
   "metadata": {},
   "source": [
    "## Examples\n",
    "\n",
    "$$\n",
    "\\begin{array}{llclll}\n",
    "\\|A\\|_p &=& \\displaystyle{\\max_{x \\neq 0} \\frac{\\|Ax\\|_p}{\\|x\\|_p}} &=& \\texttt{opnorm(A, p)} \\qquad &\\text{($p$-norm)} \\\\\n",
    "\\|A\\|_1 &=& \\displaystyle{\\max_{1 \\leq j \\leq n} \\sum_{i=1}^n |a_{ij}|} &=& \\texttt{opnorm(A, 1)} \\qquad &\\text{(max-column-sum)} \\\\\n",
    "\\|A\\|_2 &=& \\displaystyle{\\sqrt{\\lambda_{\\max}\\left(A^TA\\right)}} &=& \\texttt{opnorm(A)} \\qquad &\\text{(spectral norm)} \\\\\n",
    "\\|A\\|_\\infty &=& \\displaystyle{\\max_{1 \\leq i \\leq n} \\sum_{j=1}^n |a_{ij}|} &=& \\texttt{opnorm(A, Inf)} \\qquad &\\text{(max-row-sum)} \\\\\n",
    "\\end{array}\n",
    "$$\n",
    "\n",
    "**Note:** $\\lambda_{\\max}\\left(A^TA\\right)$ is the **largest eigenvalue** of the symmetric matrix $A^TA$; $\\sqrt{\\lambda_{\\max}\\left(A^TA\\right)}$ is the **largest singular value** of the matrix $A$.\n",
    "\n",
    "However, the Frobenius norm is **not** an induced matrix norm."
   ]
  },
  {
   "cell_type": "code",
   "execution_count": null,
   "metadata": {},
   "outputs": [],
   "source": [
    "A = [1 3; -2 0.0]\n",
    "\n",
    "sqrt(maximum(eigvals(A'*A)))"
   ]
  },
  {
   "cell_type": "code",
   "execution_count": null,
   "metadata": {},
   "outputs": [],
   "source": [
    "maximum(svdvals(A))"
   ]
  },
  {
   "cell_type": "markdown",
   "metadata": {},
   "source": [
    "---"
   ]
  },
  {
   "cell_type": "markdown",
   "metadata": {},
   "source": [
    "## `opnorm` of a matrix"
   ]
  },
  {
   "cell_type": "code",
   "execution_count": null,
   "metadata": {},
   "outputs": [],
   "source": [
    "A = [1 2 3; 4 5 6; 7 8 9.0]"
   ]
  },
  {
   "cell_type": "code",
   "execution_count": null,
   "metadata": {},
   "outputs": [],
   "source": [
    "# max-column-sum\n",
    "opnorm(A, 1)"
   ]
  },
  {
   "cell_type": "code",
   "execution_count": null,
   "metadata": {},
   "outputs": [],
   "source": [
    "# max-row-sum\n",
    "opnorm(A, Inf)"
   ]
  },
  {
   "cell_type": "code",
   "execution_count": null,
   "metadata": {},
   "outputs": [],
   "source": [
    "# spectral norm\n",
    "opnorm(A)"
   ]
  },
  {
   "cell_type": "code",
   "execution_count": null,
   "metadata": {},
   "outputs": [],
   "source": [
    "# The spectral norm of A is the \n",
    "# maximum singular value of A\n",
    "svdvals(A)"
   ]
  },
  {
   "cell_type": "code",
   "execution_count": null,
   "metadata": {},
   "outputs": [],
   "source": [
    "# The singular values of A are the square root of the\n",
    "# eigenvalues of A'*A\n",
    "λ = max.(eigvals(A'*A),0)\n",
    "sqrt.(λ)"
   ]
  },
  {
   "cell_type": "markdown",
   "metadata": {},
   "source": [
    "---"
   ]
  },
  {
   "cell_type": "markdown",
   "metadata": {},
   "source": [
    "## Induced Matrix Norm Inequality\n",
    "\n",
    "> ### Theorem: (Induced Matrix Norm Inequality)\n",
    ">\n",
    "> Let $\\|\\cdot\\| : \\mathbb{R}^n \\rightarrow \\mathbb{R}$ be a vector norm. Then the corresponding induced matrix norm satisfies\n",
    ">\n",
    "> $$\\|Ax\\| \\leq \\|A\\|\\|x\\|,\\qquad \\text{for all $A \\in \\mathbb{R}^{n \\times n}$ and $x \\in \\mathbb{R}^n$.}$$"
   ]
  },
  {
   "cell_type": "markdown",
   "metadata": {},
   "source": [
    "### Proof:\n",
    "\n",
    "Let $x \\in \\mathbb{R}^n$. If $x = 0$, then $\\|Ax\\| \\le \\|A\\|\\|x\\|$ clearly holds since both sides of the inequality would equal zero. Now suppose that $x \\ne 0$. Then,\n",
    "\n",
    "$$\n",
    "\\frac{\\|Ax\\|}{\\|x\\|} \\le \\max_{y \\ne 0} \\frac{\\|Ay\\|}{\\|y\\|} = \\|A\\|.\n",
    "$$\n",
    "\n",
    "Multiplying both sides by $\\|x\\|$, we have $\\|Ax\\| \\le \\|A\\|\\|x\\|$. $\\blacksquare$"
   ]
  },
  {
   "cell_type": "markdown",
   "metadata": {},
   "source": [
    "---"
   ]
  }
 ],
 "metadata": {
  "anaconda-cloud": {},
  "kernelspec": {
   "display_name": "Julia 1.6.2",
   "language": "julia",
   "name": "julia-1.6"
  },
  "language_info": {
   "file_extension": ".jl",
   "mimetype": "application/julia",
   "name": "julia",
   "version": "1.6.2"
  }
 },
 "nbformat": 4,
 "nbformat_minor": 1
}
