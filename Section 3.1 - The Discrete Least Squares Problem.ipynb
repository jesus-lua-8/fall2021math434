{
 "cells": [
  {
   "cell_type": "markdown",
   "metadata": {},
   "source": [
    "---\n",
    "# Section 3.1: The Discrete Least Squares Problem\n",
    "---"
   ]
  },
  {
   "cell_type": "markdown",
   "metadata": {},
   "source": [
    "## Over-determined linear systems\n",
    "\n",
    "Let $A \\in \\mathbb{R}^{m \\times n}$ and $b \\in \\mathbb{R}^m$. \n",
    "\n",
    "If $m > n$, we say the linear system \n",
    "\n",
    "$$\n",
    "Ax = b\n",
    "$$ \n",
    "\n",
    "is **over-determined**.\n",
    "\n",
    "Often over-determined linear systems have no solution, typically due to measurement errors in  $b$."
   ]
  },
  {
   "cell_type": "markdown",
   "metadata": {},
   "source": [
    "---"
   ]
  },
  {
   "cell_type": "markdown",
   "metadata": {},
   "source": [
    "## Example"
   ]
  },
  {
   "cell_type": "code",
   "execution_count": null,
   "metadata": {},
   "outputs": [],
   "source": [
    "using LinearAlgebra"
   ]
  },
  {
   "cell_type": "code",
   "execution_count": null,
   "metadata": {},
   "outputs": [],
   "source": [
    "A = rand(5, 2)"
   ]
  },
  {
   "cell_type": "code",
   "execution_count": null,
   "metadata": {},
   "outputs": [],
   "source": [
    "b = rand(5)"
   ]
  },
  {
   "cell_type": "code",
   "execution_count": null,
   "metadata": {},
   "outputs": [],
   "source": [
    "x = A\\b"
   ]
  },
  {
   "cell_type": "code",
   "execution_count": null,
   "metadata": {},
   "outputs": [],
   "source": [
    "r = b - A*x"
   ]
  },
  {
   "cell_type": "code",
   "execution_count": null,
   "metadata": {},
   "outputs": [],
   "source": [
    "norm(r)"
   ]
  },
  {
   "cell_type": "code",
   "execution_count": null,
   "metadata": {},
   "outputs": [],
   "source": [
    "x = randn(2)\n",
    "r = b - A*x\n",
    "norm(r)"
   ]
  },
  {
   "cell_type": "markdown",
   "metadata": {},
   "source": [
    "---"
   ]
  },
  {
   "cell_type": "markdown",
   "metadata": {},
   "source": [
    "## Minimizing the error\n",
    "\n",
    "Since we cannot solve $Ax=b$ exactly, we want to find $x$ such that the **residual**\n",
    "\n",
    "$$\n",
    "r = b - Ax\n",
    "$$\n",
    "\n",
    "is as small as possible:\n",
    "\n",
    "$$\n",
    "\\min_x \\|b - Ax\\|\n",
    "$$\n",
    "\n",
    "We can consider many different norms, such as:\n",
    "\n",
    "$$\n",
    "\\|b - Ax\\|_1 = \\sum_{i=1}^m \\big| b_i - (Ax)_i \\big| = \\sum_{i=1}^m \\big| b_i - a_i^Tx \\big|\n",
    "$$\n",
    "\n",
    "$$\n",
    "\\|b - Ax\\|_2 = \\sqrt{\\sum_{i=1}^m \\big( b_i - (Ax)_i \\big)^2} = \\sqrt{\\sum_{i=1}^m \\big( b_i - a_i^Tx \\big)^2}\n",
    "$$\n",
    "\n",
    "$$\n",
    "\\|b - Ax\\|_\\infty = \\max_{1\\leq i\\leq m} \\big| b_i - (Ax)_i \\big| = \\max_{1\\leq i\\leq m} \\big| b_i - a_i^Tx \\big|\n",
    "$$\n",
    "\n",
    "\n",
    "\n"
   ]
  },
  {
   "cell_type": "markdown",
   "metadata": {},
   "source": [
    "---"
   ]
  },
  {
   "cell_type": "markdown",
   "metadata": {},
   "source": [
    "## Least squares\n",
    "\n",
    "When the error in the entries of $b$ are believed to be **identically and independently [normally distributed](https://en.wikipedia.org/wiki/Normal_distribution)** with **zero mean** and **constant variance**, the best choice is to minimize $\\|b - Ax\\|_2$. \n",
    "\n",
    "In this case, the $x$ that minimizes $\\|b - Ax\\|_2$ is the **maximum likelihood estimator** of the true solution.\n",
    "\n",
    "Minimizing $\\|b - Ax\\|_2$ is equivalent to minimizing\n",
    "\n",
    "$$\n",
    "\\|b - Ax\\|_2^2 = \\sum_{i=1}^m \\big( b_i - (Ax)_i \\big)^2.\n",
    "$$\n",
    "\n",
    "\n",
    "The $x$ that minimizes $\\|b - Ax\\|_2$ (or equivalently $\\|b - Ax\\|_2^2$) is called the **least-squares solution** because it is minimizing the **sum-of-the-squares** of the errors."
   ]
  },
  {
   "cell_type": "markdown",
   "metadata": {},
   "source": [
    "---"
   ]
  },
  {
   "cell_type": "markdown",
   "metadata": {},
   "source": [
    "## `randn`"
   ]
  },
  {
   "cell_type": "code",
   "execution_count": null,
   "metadata": {},
   "outputs": [],
   "source": [
    "?randn"
   ]
  },
  {
   "cell_type": "code",
   "execution_count": null,
   "metadata": {},
   "outputs": [],
   "source": [
    "v = randn(10^6)"
   ]
  },
  {
   "cell_type": "code",
   "execution_count": null,
   "metadata": {},
   "outputs": [],
   "source": [
    "using Statistics"
   ]
  },
  {
   "cell_type": "code",
   "execution_count": null,
   "metadata": {},
   "outputs": [],
   "source": [
    "mean(v)"
   ]
  },
  {
   "cell_type": "code",
   "execution_count": null,
   "metadata": {},
   "outputs": [],
   "source": [
    "cov(v)"
   ]
  },
  {
   "cell_type": "code",
   "execution_count": null,
   "metadata": {},
   "outputs": [],
   "source": [
    "using Plots"
   ]
  },
  {
   "cell_type": "code",
   "execution_count": null,
   "metadata": {},
   "outputs": [],
   "source": [
    "histogram(v, normalize=true, bins=100, label=nothing)"
   ]
  },
  {
   "cell_type": "markdown",
   "metadata": {},
   "source": [
    "---"
   ]
  },
  {
   "cell_type": "markdown",
   "metadata": {},
   "source": [
    "## Solving the least-squares problem\n",
    "\n",
    "In Julia (or MATLAB), we can solve the least-squares problem\n",
    "\n",
    "$$\n",
    "\\min_x \\|b - Ax\\|_2\n",
    "$$\n",
    "\n",
    "by using the same **backslash** function that we used to solve $n \\times n$ linear systems:\n",
    "\n",
    "```julia\n",
    "x = A\\b\n",
    "```\n",
    "\n",
    "Julia will recognize that the linear system is over-determined and will use an algorithm for solving the least-squares problem that is based on the $QR$-factorization of $A$."
   ]
  },
  {
   "cell_type": "markdown",
   "metadata": {},
   "source": [
    "---"
   ]
  },
  {
   "cell_type": "markdown",
   "metadata": {},
   "source": [
    "## Example"
   ]
  },
  {
   "cell_type": "code",
   "execution_count": null,
   "metadata": {},
   "outputs": [],
   "source": [
    "A = rand(5, 2)"
   ]
  },
  {
   "cell_type": "code",
   "execution_count": null,
   "metadata": {},
   "outputs": [],
   "source": [
    "xtrue = rand(2)\n",
    "b = A*xtrue + 0.01*randn(5)  # Add random noise to b\n",
    "[A*xtrue b]"
   ]
  },
  {
   "cell_type": "code",
   "execution_count": null,
   "metadata": {},
   "outputs": [],
   "source": [
    "# Solve the least-squares problem:  minimize norm(b - A*x)\n",
    "x = A\\b"
   ]
  },
  {
   "cell_type": "code",
   "execution_count": null,
   "metadata": {},
   "outputs": [],
   "source": [
    "xtrue"
   ]
  },
  {
   "cell_type": "code",
   "execution_count": null,
   "metadata": {},
   "outputs": [],
   "source": [
    "b - A*x"
   ]
  },
  {
   "cell_type": "code",
   "execution_count": null,
   "metadata": {},
   "outputs": [],
   "source": [
    "norm(b - A*x)"
   ]
  },
  {
   "cell_type": "code",
   "execution_count": null,
   "metadata": {},
   "outputs": [],
   "source": [
    "norm(b - A*xtrue)"
   ]
  },
  {
   "cell_type": "markdown",
   "metadata": {},
   "source": [
    "---"
   ]
  },
  {
   "cell_type": "markdown",
   "metadata": {},
   "source": [
    "## The $QR$-factorization\n",
    "\n",
    "The $QR$-factorization of $A$ is\n",
    "\n",
    "$$\n",
    "A = QR\n",
    "$$\n",
    "\n",
    "where \n",
    "\n",
    "- $Q$ is an $m \\times m$ orthogonal matrix ($Q^TQ = QQ^T = I$),\n",
    "- $R$ is an $m \\times n$ \"upper-triangular\" matrix.\n",
    "\n",
    "Alternatively, we can obtain a more compact $QR$-factorization $A = QR$, where\n",
    "\n",
    "- $Q$ is an $m \\times n$ matrix with orthonormal columns ($Q^TQ = I$),\n",
    "- $R$ is an $n \\times n$ upper-triangular matrix."
   ]
  },
  {
   "cell_type": "markdown",
   "metadata": {},
   "source": [
    "---"
   ]
  },
  {
   "cell_type": "markdown",
   "metadata": {},
   "source": [
    "## `qr`"
   ]
  },
  {
   "cell_type": "code",
   "execution_count": null,
   "metadata": {},
   "outputs": [],
   "source": [
    "A = rand(5, 2)"
   ]
  },
  {
   "cell_type": "code",
   "execution_count": null,
   "metadata": {
    "scrolled": false
   },
   "outputs": [],
   "source": [
    "?qr"
   ]
  },
  {
   "cell_type": "code",
   "execution_count": null,
   "metadata": {},
   "outputs": [],
   "source": [
    "# Q, R = qr(A)\n",
    "\n",
    "F = qr(A)"
   ]
  },
  {
   "cell_type": "code",
   "execution_count": null,
   "metadata": {},
   "outputs": [],
   "source": [
    "Q = F.Q"
   ]
  },
  {
   "cell_type": "code",
   "execution_count": null,
   "metadata": {},
   "outputs": [],
   "source": [
    "R = F.R"
   ]
  },
  {
   "cell_type": "code",
   "execution_count": null,
   "metadata": {},
   "outputs": [],
   "source": [
    "Q*R - A"
   ]
  },
  {
   "cell_type": "code",
   "execution_count": null,
   "metadata": {},
   "outputs": [],
   "source": [
    "dump(Q)"
   ]
  },
  {
   "cell_type": "code",
   "execution_count": null,
   "metadata": {},
   "outputs": [],
   "source": [
    "Qthin = Matrix(Q)"
   ]
  },
  {
   "cell_type": "code",
   "execution_count": null,
   "metadata": {},
   "outputs": [],
   "source": [
    "Qthin*R - A"
   ]
  },
  {
   "cell_type": "code",
   "execution_count": null,
   "metadata": {},
   "outputs": [],
   "source": [
    "Qfull = Q*Matrix(I, 5, 5)"
   ]
  },
  {
   "cell_type": "code",
   "execution_count": null,
   "metadata": {},
   "outputs": [],
   "source": [
    "[R; zeros(3,2)]"
   ]
  },
  {
   "cell_type": "code",
   "execution_count": null,
   "metadata": {},
   "outputs": [],
   "source": [
    "Qfull*[R; zeros(3,2)] - A"
   ]
  },
  {
   "cell_type": "code",
   "execution_count": null,
   "metadata": {},
   "outputs": [],
   "source": [
    "Qfull'*Qfull"
   ]
  },
  {
   "cell_type": "code",
   "execution_count": null,
   "metadata": {},
   "outputs": [],
   "source": [
    "Qfull*Qfull'"
   ]
  },
  {
   "cell_type": "code",
   "execution_count": null,
   "metadata": {},
   "outputs": [],
   "source": [
    "Qthin'*Qthin"
   ]
  },
  {
   "cell_type": "code",
   "execution_count": null,
   "metadata": {},
   "outputs": [],
   "source": [
    "Qthin*Qthin'"
   ]
  },
  {
   "cell_type": "markdown",
   "metadata": {},
   "source": [
    "---"
   ]
  },
  {
   "cell_type": "markdown",
   "metadata": {},
   "source": [
    "## Data-fitting\n",
    "\n",
    "Suppose we are trying to approximate the true function\n",
    "\n",
    "$$\n",
    "y(t) = 1 + e^t + 3e^{-t}\n",
    "$$\n",
    "\n",
    "given a number of noisy **data points**\n",
    "\n",
    "$$\n",
    "(t_1, y_1), \\ldots, (t_m, y_m)\n",
    "$$\n",
    "\n",
    "where\n",
    "\n",
    "$$\n",
    "y_i = y(t_i) + \\varepsilon_i, \\quad i = 1,\\ldots,m,\n",
    "$$\n",
    "\n",
    "and each $\\varepsilon_i$ is drawn from a [normal distribution](https://en.wikipedia.org/wiki/Normal_distribution) with mean $0$ and variance $\\sigma^2$:\n",
    "\n",
    "$$\n",
    "\\varepsilon_i \\sim \\mathcal{N}(0,\\sigma^2).\n",
    "$$"
   ]
  },
  {
   "cell_type": "code",
   "execution_count": null,
   "metadata": {},
   "outputs": [],
   "source": [
    "using Plots\n",
    "\n",
    "y(t) = 1 + exp(t) + 3*exp(-t)\n",
    "\n",
    "m = 100\n",
    "tt = range(0, 1, length=m)\n",
    "\n",
    "σ = 0.1\n",
    "err = σ*randn(m)\n",
    "yy = y.(tt) .+ err\n",
    "\n",
    "plot(tt, y.(tt), label=\"True solution\")\n",
    "scatter!(tt, yy, label=\"Noisy data\")"
   ]
  },
  {
   "cell_type": "markdown",
   "metadata": {},
   "source": [
    "We let our approximation be given by\n",
    "\n",
    "$$\n",
    "p(t) = x_1 + x_2 e^t + x_3 e^{-t}\n",
    "$$\n",
    "\n",
    "and we want to find the **maximum likelihood estimate** of the coefficients $x_1, x_2, x_3$.\n",
    "\n",
    "We want to minimize\n",
    "\n",
    "$$\n",
    "\\sum_{i=1}^m \\big(y_i - p(t_i)\\big)^2.\n",
    "$$\n",
    "\n",
    "The residual $y_i - p(t_i)$ can be written as\n",
    "\n",
    "$$\n",
    "y_i - \\left(x_1 + x_2 e^{t_i} + x_3 e^{-t_i}\\right) = y_i - \\begin{bmatrix} 1 & e^{t_i} & e^{-t_i} \\end{bmatrix} \\begin{bmatrix} x_1 \\\\ x_2 \\\\ x_3 \\end{bmatrix}.\n",
    "$$"
   ]
  },
  {
   "cell_type": "markdown",
   "metadata": {},
   "source": [
    "Therefore, the $i^\\mathrm{th}$-row of the matrix $A$ is $\\begin{bmatrix} 1 & e^{t_i} & e^{-t_i} \\end{bmatrix}$:\n",
    "\n",
    "$$\n",
    "A = \n",
    "\\begin{bmatrix} \n",
    "1 & e^{t_1} & e^{-t_1} \\\\\n",
    "1 & e^{t_2} & e^{-t_2} \\\\\n",
    "\\vdots&\\vdots&\\vdots\\\\\n",
    "1 & e^{t_m} & e^{-t_m} \\\\\n",
    "\\end{bmatrix}\n",
    "$$\n",
    "\n",
    "and $b \\in \\mathbb{R}^m$ such that $b_i = y_i$ for $i = 1,\\ldots,m$. \n",
    "\n",
    "Then \n",
    "\n",
    "$$\n",
    "\\sum_{i=1}^m \\big(y_i - p(t_i)\\big)^2 = \\|b - Ax\\|_2^2.\n",
    "$$"
   ]
  },
  {
   "cell_type": "code",
   "execution_count": null,
   "metadata": {},
   "outputs": [],
   "source": [
    "## True model:  y = 1 + exp(t) + 3*exp(-t)\n",
    "A = [ones(m) exp.(tt) exp.(-tt)]\n",
    "b = yy\n",
    "\n",
    "## Solve the least squares problem:  min norm(b - A*x)\n",
    "x = A\\b"
   ]
  },
  {
   "cell_type": "code",
   "execution_count": null,
   "metadata": {},
   "outputs": [],
   "source": [
    "## Compute the norm of the residual\n",
    "r = b - A*x\n",
    "norm(r)"
   ]
  },
  {
   "cell_type": "code",
   "execution_count": null,
   "metadata": {},
   "outputs": [],
   "source": [
    "p(t) = x[1] + x[2]*exp(t) + x[3]*exp(-t)\n",
    "\n",
    "plot(tt, y.(tt), label=\"True solution\")\n",
    "plot!(tt, p.(tt), label=\"Least-squares solution\", c=3)\n",
    "scatter!(tt, yy, label=\"Noisy data\", c=2)"
   ]
  },
  {
   "cell_type": "markdown",
   "metadata": {},
   "source": [
    "---"
   ]
  }
 ],
 "metadata": {
  "anaconda-cloud": {},
  "kernelspec": {
   "display_name": "Julia 1.6.2",
   "language": "julia",
   "name": "julia-1.6"
  },
  "language_info": {
   "file_extension": ".jl",
   "mimetype": "application/julia",
   "name": "julia",
   "version": "1.6.2"
  }
 },
 "nbformat": 4,
 "nbformat_minor": 1
}
