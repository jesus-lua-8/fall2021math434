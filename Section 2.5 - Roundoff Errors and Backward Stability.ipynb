{
 "cells": [
  {
   "cell_type": "markdown",
   "metadata": {},
   "source": [
    "---\n",
    "# Section 2.5: Roundoff Errors and Backward Stability"
   ]
  },
  {
   "cell_type": "markdown",
   "metadata": {},
   "source": [
    "---\n",
    "\n",
    "## Base-10 floating point numbers\n",
    "\n",
    "Consider the following 6 digit numbers written using base-10 floating-point notation:\n",
    "\n",
    "$$\n",
    "\\begin{align}\n",
    "1.23456 \\times 10^3    &= 1234.56 \\\\\n",
    "1.23456 \\times 10^{-2} &= 0.0123456 \\\\\n",
    "\\end{align}\n",
    "$$\n",
    "\n",
    "We can use this floating-point notation to write down both large and small numbers very compactly:\n",
    "\n",
    "$$\n",
    "1.23 \\times 10^{50}, \\qquad -1.234 \\times 10^{-100}.\n",
    "$$\n",
    "\n",
    "The first is a number with 3 significant digits, and the second has 4 significant digits."
   ]
  },
  {
   "cell_type": "markdown",
   "metadata": {},
   "source": [
    "---\n",
    "\n",
    "## Roundoff error\n",
    "\n",
    "Base-10 with 4 significant digits:\n",
    "\n",
    "$$\n",
    "(1.112 \\times 10^1) \\times (1.112 \\times 10^2) = \\fbox{1.236}544 \\times 10^3 \\xrightarrow{\\text{roundoff}} 1.237 \\times 10^3\n",
    "$$\n",
    "\n",
    "Therefore, we have made the following error:\n",
    "\n",
    "$$\n",
    "\\delta x = 1.237 \\times 10^3 - 1.236544 \\times 10^3 = 0.456\n",
    "$$\n",
    "\n",
    "The relative error is:\n",
    "\n",
    "$$\n",
    "\\frac{\\delta x}{x} = \\frac{.456}{1.236544 \\times 10^3} \\approx 4 \\times 10^{-4} = 0.04 \\%\n",
    "$$"
   ]
  },
  {
   "cell_type": "markdown",
   "metadata": {},
   "source": [
    "---\n",
    "\n",
    "## Machine epsilon `eps(Float64)`\n",
    "\n",
    "`1.0 + eps(Float64)` is the first `Float64` that is larger than `1.0`:\n",
    "\n",
    "$$\\mathtt{eps(Float64)} = 2^{-52} \\approx 2.2 \\times 10^{-16}$$"
   ]
  },
  {
   "cell_type": "markdown",
   "metadata": {},
   "source": [
    "---\n",
    "\n",
    "## The unit roundoff $u$\n",
    "\n",
    "$u = $ `eps(Float64)/2.0` is the largest possible relative error due to roundoff:\n",
    "\n",
    "$$u = 2^{-53} \\approx 1.1 \\times 10^{-16}$$\n",
    "\n",
    "It is for this reason that `Float64` accuracy is limited to **16 decimal places**."
   ]
  },
  {
   "cell_type": "code",
   "execution_count": null,
   "metadata": {
    "jupyter": {
     "outputs_hidden": false
    }
   },
   "outputs": [],
   "source": [
    "u = eps()/2.0"
   ]
  },
  {
   "cell_type": "markdown",
   "metadata": {},
   "source": [
    "---\n",
    "\n",
    "## Floating-point error bounds\n",
    "\n",
    "Let $\\varepsilon =$ relative error computing $C$ using floats.\n",
    "\n",
    "Then\n",
    "\n",
    "$$\n",
    "\\frac{\\mathrm{fl}(C) - C}{C} = \\varepsilon \n",
    "\\qquad \\implies \\qquad\n",
    "\\mathrm{fl}(C) = C(1 + \\varepsilon)\n",
    "$$"
   ]
  },
  {
   "cell_type": "markdown",
   "metadata": {},
   "source": [
    "IEEE floating-point standard guarantees:\n",
    "\n",
    "$$\n",
    "\\begin{split}\n",
    "\\mathrm{fl}(x \\pm y) &= (x \\pm y)(1 + \\varepsilon_1) \\\\\n",
    "\\mathrm{fl}(x \\times y) &= (x \\times y)(1 + \\varepsilon_2) \\\\\n",
    "\\mathrm{fl}(x \\div y) &= (x \\div y)(1 + \\varepsilon_3) \\\\\n",
    "\\end{split}\n",
    "$$\n",
    "\n",
    "where $|\\varepsilon_i| \\leq u$, for $i = 1,2,3$, where $u$ is the unit roundoff.\n"
   ]
  },
  {
   "cell_type": "markdown",
   "metadata": {},
   "source": [
    "---\n",
    "\n",
    "## Roundoff error accumulation\n",
    "\n",
    "Suppose we already have errors in $x$ and $y$:\n",
    "\n",
    "$$\n",
    "\\hat{x} = x(1 + \\varepsilon_1), \\qquad |\\varepsilon_1| \\ll 1\n",
    "$$\n",
    "\n",
    "$$\n",
    "\\hat{y} = y(1 + \\varepsilon_2), \\qquad |\\varepsilon_2| \\ll 1\n",
    "$$"
   ]
  },
  {
   "cell_type": "markdown",
   "metadata": {},
   "source": [
    "**Multiplication:**\n",
    "\n",
    "$$\n",
    "\\begin{split}\n",
    "\\hat{x}\\hat{y} \n",
    "&= x(1 + \\varepsilon_1) y(1 + \\varepsilon_2)\\\\\n",
    "&= xy (1 + \\varepsilon_1 + \\varepsilon_2 + \\varepsilon_1 \\varepsilon_2)\\\\\n",
    "&= xy (1 + \\hat{\\varepsilon}),\\\\\n",
    "\\end{split}\n",
    "$$\n",
    "\n",
    "where $\\hat{\\varepsilon} = \\varepsilon_1 + \\varepsilon_2 + \\varepsilon_1 \\varepsilon_2$, so $|\\hat{\\varepsilon}| \\ll 1$.\n",
    "\n",
    "Now let's compare the true value of $xy$ with the computed value of $\\mathrm{fl}(\\hat{x}\\hat{y})$.\n",
    "\n",
    "We have\n",
    "\n",
    "$$\n",
    "\\begin{split}\n",
    "\\mathrm{fl}(\\hat{x}\\hat{y}) \n",
    "&= \\hat{x}\\hat{y}(1 + \\varepsilon_3) \\qquad \\qquad (|\\varepsilon_3| \\leq u) \\\\\n",
    "&= xy (1 + \\hat{\\varepsilon})(1 + \\varepsilon_3) \\\\\n",
    "&= xy (1 + \\hat\\varepsilon + \\varepsilon_3 + \\hat\\varepsilon \\varepsilon_3)\\\\\n",
    "&= xy (1 + \\varepsilon),\\\\\n",
    "\\end{split}\n",
    "$$\n",
    "\n",
    "where $\\varepsilon = \\hat\\varepsilon + \\varepsilon_3 + \\hat\\varepsilon \\varepsilon_3$, so $|\\varepsilon| \\ll 1$."
   ]
  },
  {
   "cell_type": "markdown",
   "metadata": {},
   "source": [
    "**Division:**\n",
    "\n",
    "$$\n",
    "\\frac{\\hat{x}}{\\hat{y}} = \\frac{x(1 + \\varepsilon_1)}{y(1 + \\varepsilon_2)}\n",
    "\\approx \\frac{x}{y}(1 + \\varepsilon_1)(1 - \\varepsilon_2)\n",
    "= \\frac{x}{y} (1 + \\varepsilon_1 - \\varepsilon_2 - \\varepsilon_1 \\varepsilon_2)\\\\\n",
    "= \\frac{x}{y} (1 + \\hat{\\varepsilon}),\\\\\n",
    "$$\n",
    "\n",
    "where $\\hat{\\varepsilon} = \\varepsilon_1 - \\varepsilon_2 - \\varepsilon_1 \\varepsilon_2$, so $|\\hat{\\varepsilon}| \\ll 1$.\n",
    "\n",
    "Therefore, using a similar argument as above, we have\n",
    "\n",
    "$$\n",
    "\\mathrm{fl}\\left(\\frac{\\hat{x}}{\\hat{y}}\\right) = \\frac{x}{y} (1 + \\varepsilon), \\qquad \\text{where $|\\varepsilon| \\ll 1$}.\n",
    "$$"
   ]
  },
  {
   "cell_type": "markdown",
   "metadata": {},
   "source": [
    "**Addition and subtraction:**\n",
    "\n",
    "$$\n",
    "\\begin{split}\n",
    "\\hat{x} + \\hat{y} \n",
    "&= x(1 + \\varepsilon_1) + y(1 + \\varepsilon_2) \\\\\n",
    "&= (x + y) + x \\varepsilon_1 + y \\varepsilon_2 \\\\\n",
    "&= (x + y)\\left(1 + \\frac{x}{x+y} \\varepsilon_1 + \\frac{y}{x+y} \\varepsilon_2 \\right) \\\\\n",
    "&= (x + y)\\left(1 + \\hat\\varepsilon \\right), \\\\\n",
    "\\end{split}\n",
    "$$\n",
    "\n",
    "where $\\hat\\varepsilon = \\frac{x}{x+y} \\varepsilon_1 + \\frac{y}{x+y} \\varepsilon_2$.\n",
    "\n",
    "If $x + y$ is very small compared to $x$ or $y$, then $\\hat\\varepsilon$ could be very large."
   ]
  },
  {
   "cell_type": "markdown",
   "metadata": {},
   "source": [
    "---\n",
    "\n",
    "### Example:\n",
    "\n",
    "Suppose\n",
    "\n",
    "$$\n",
    "\\begin{align}\n",
    "x &= 1.23450, & \\hat{x} &= 1.23451, \\\\\n",
    "y &= -1.23460, & \\hat{y} &= -1.23459. \\\\\n",
    "\\end{align}\n",
    "$$\n",
    "\n",
    "Then:\n",
    "\n",
    "$$\n",
    "\\hat{x} = x(1 + \\varepsilon_1), \\qquad \\text{where $|\\varepsilon_1| \\approx 8 \\times 10^{-6}$};\n",
    "$$\n",
    "\n",
    "$$\n",
    "\\hat{y} = y(1 + \\varepsilon_2), \\qquad \\text{where $|\\varepsilon_2| \\approx 8 \\times 10^{-6}$}.\n",
    "$$"
   ]
  },
  {
   "cell_type": "code",
   "execution_count": null,
   "metadata": {
    "jupyter": {
     "outputs_hidden": false
    }
   },
   "outputs": [],
   "source": [
    "x = 1.23450\n",
    "xhat = 1.23451\n",
    "ɛ₁ = (x - xhat)/x\n",
    "abs(ɛ₁)"
   ]
  },
  {
   "cell_type": "code",
   "execution_count": null,
   "metadata": {
    "jupyter": {
     "outputs_hidden": false
    }
   },
   "outputs": [],
   "source": [
    "y = -1.23460\n",
    "yhat = -1.23459\n",
    "ɛ₂ = (y - yhat)/y\n",
    "abs(ɛ₂)"
   ]
  },
  {
   "cell_type": "code",
   "execution_count": null,
   "metadata": {
    "jupyter": {
     "outputs_hidden": false
    }
   },
   "outputs": [],
   "source": [
    "xhat + yhat"
   ]
  },
  {
   "cell_type": "code",
   "execution_count": null,
   "metadata": {
    "jupyter": {
     "outputs_hidden": false
    }
   },
   "outputs": [],
   "source": [
    "x + y"
   ]
  },
  {
   "cell_type": "code",
   "execution_count": null,
   "metadata": {
    "jupyter": {
     "outputs_hidden": false
    }
   },
   "outputs": [],
   "source": [
    "ɛ = ((x + y) - (xhat + yhat))/(x + y)"
   ]
  },
  {
   "cell_type": "markdown",
   "metadata": {},
   "source": [
    "Therefore,\n",
    "\n",
    "$$\n",
    "\\hat{x} + \\hat{y} = (x+y)(1 + \\varepsilon), \\qquad \\text{where $|\\varepsilon| \\approx 2 \\times 10^{-1}$}!!!\n",
    "$$\n",
    "\n",
    "This is called **catastrophic cancellation** and can lead to a sudden loss of accuracy in a calculation."
   ]
  },
  {
   "cell_type": "markdown",
   "metadata": {},
   "source": [
    "---\n",
    "\n",
    "## Backward error analysis\n",
    "\n",
    "We say that a computation $C(x_1,\\ldots,x_n)$ is **backwards stable** if\n",
    "\n",
    "$$\n",
    "\\mathrm{fl}(C(x_1,\\ldots,x_n)) = C(\\bar{x_1},\\ldots,\\bar{x_n}),\n",
    "$$\n",
    "\n",
    "where the error in $\\bar{x_1},\\ldots,\\bar{x_n}$ is a **small multiple** of the unit roundoff $u$."
   ]
  },
  {
   "cell_type": "markdown",
   "metadata": {},
   "source": [
    "---\n",
    "\n",
    "## Example:\n",
    "\n",
    "Suppose the computation $C(A, b)$ returns the solution $x$ to $Ax = b$ and \n",
    "\n",
    "$$\n",
    "\\hat{x} = \\mathrm{fl}(C(A, b)) = C(\\hat{A}, \\hat{b}).\n",
    "$$\n",
    "\n",
    "Then $\\hat{A} \\hat{x} = \\hat{b}$.\n",
    "\n",
    "If $C(A, b)$ is **backwards stable**, then $(A + \\delta A)\\hat{x} = b + \\delta b$, where\n",
    "\n",
    "$$\n",
    "\\frac{\\lVert \\delta A \\rVert}{\\lVert A \\rVert} \\quad \\text{and} \\quad\n",
    "\\frac{\\lVert \\delta b \\rVert}{\\lVert b \\rVert} \\quad \\text{are small multiples of $u$}.\n",
    "$$\n",
    "\n",
    "If $A$ is also **well-conditioned**, then\n",
    "\n",
    "$$\n",
    "\\frac{\\lVert \\delta x \\rVert}{\\lVert x \\rVert}\n",
    "\\leq \n",
    "\\kappa(A) \\left( \\frac{\\lVert \\delta A \\rVert}{\\lVert A \\rVert} + \\frac{\\lVert \\delta b \\rVert}{\\lVert b \\rVert} \\right)\n",
    "$$\n",
    "\n",
    "implies that $\\frac{\\lVert \\delta x \\rVert}{\\lVert x \\rVert}$ is also a small multiple of $u$, so $\\hat{x}$ is an **accurate approximation** of the true solution $x$."
   ]
  },
  {
   "cell_type": "markdown",
   "metadata": {},
   "source": [
    "---\n",
    "\n",
    "## Residual test\n",
    "\n",
    "After computing $\\hat{x} = \\mathrm{fl}(C(A, b))$, we can check that the computation is **backward stable** by finding the **residual**,\n",
    "\n",
    "$$\n",
    "\\hat{r} = b - A \\hat{x}.\n",
    "$$\n",
    "\n",
    "Then $A \\hat{x} = b + \\delta b$, where $\\delta b = -\\hat{r}$.\n",
    "\n",
    "If $\\frac{\\lVert \\delta b \\rVert}{\\lVert b \\rVert}$ is a small multiple of $u$, then computation of $\\hat{x}$ was **backward stable**."
   ]
  },
  {
   "cell_type": "markdown",
   "metadata": {},
   "source": [
    "---\n",
    "\n",
    "## Summary\n",
    "\n",
    "To verify accuracy of $\\hat{x}$, we need to check **two things**:\n",
    "\n",
    "1. The computation $\\hat{x} = \\mathrm{fl}(C(A, b))$ is **backward stable**.\n",
    "2. $A$ is **well-conditioned**."
   ]
  },
  {
   "cell_type": "markdown",
   "metadata": {},
   "source": [
    "---"
   ]
  }
 ],
 "metadata": {
  "anaconda-cloud": {},
  "kernelspec": {
   "display_name": "Julia 1.6.2",
   "language": "julia",
   "name": "julia-1.6"
  },
  "language_info": {
   "file_extension": ".jl",
   "mimetype": "application/julia",
   "name": "julia",
   "version": "1.6.2"
  }
 },
 "nbformat": 4,
 "nbformat_minor": 4
}
