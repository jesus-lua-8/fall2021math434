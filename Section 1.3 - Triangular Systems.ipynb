{
 "cells": [
  {
   "cell_type": "markdown",
   "metadata": {},
   "source": [
    "---\n",
    "# Section 1.3: Triangular Systems\n",
    "---\n",
    "\n",
    "Let $L \\in \\mathbb{R}^{n \\times n}$ be a **lower-triangular matrix** and $U \\in \\mathbb{R}^{n \\times n}$ be an **upper-triangular matrix**. Then,\n",
    "\n",
    "$$\n",
    "L = \n",
    "\\begin{bmatrix}\n",
    "l_{11} \\\\\n",
    "\\vdots & \\ddots \\\\\n",
    "l_{n1} & \\cdots & l_{nn}\n",
    "\\end{bmatrix}\n",
    "\\qquad \\text{and} \\qquad\n",
    "U = \n",
    "\\begin{bmatrix}\n",
    "u_{11} & \\cdots & u_{1n} \\\\\n",
    "& \\ddots & \\vdots \\\\\n",
    "& & u_{nn}\n",
    "\\end{bmatrix}.\n",
    "$$\n",
    "\n",
    "> ### Theorem:\n",
    "> Let $G$ be an $n \\times n$ triangular matrix. Then\n",
    "> \n",
    "> $$ \n",
    "\\text{$G$ is nonsingular} \\quad \\Longleftrightarrow \\quad g_{ii} \\neq 0, \\quad i = 1,\\ldots,n.\n",
    "$$"
   ]
  },
  {
   "cell_type": "markdown",
   "metadata": {},
   "source": [
    "---\n",
    "### Exercise: \n",
    "\n",
    "Prove the above theorem."
   ]
  },
  {
   "cell_type": "markdown",
   "metadata": {},
   "source": [
    "### Proof:\n",
    "\n",
    "Since $G$ is triangular, $\\det(G) = g_{11} g_{22} \\cdots g_{nn}$. Therefore, $\\det(G) \\ne 0$ if and only if $g_{ii} \\ne 0$ for $i = 1,\\ldots,n$. $\\blacksquare$"
   ]
  },
  {
   "cell_type": "markdown",
   "metadata": {},
   "source": [
    "---\n",
    "\n",
    "### Exercise:\n",
    "Solve the following lower-triangular system $Lx = b$ and use `Julia` to check your answer.\n",
    "\n",
    "$$\n",
    "\\begin{bmatrix}\n",
    "2 & 0 & 0 & 0 \\\\\n",
    "-1 & 2 & 0 & 0 \\\\\n",
    "3 & 1 & -1 & 0 \\\\\n",
    "4 & 1 & -3 & 3\n",
    "\\end{bmatrix}\n",
    "\\begin{bmatrix}\n",
    "x_1 \\\\ x_2 \\\\ x_3 \\\\ x_4\n",
    "\\end{bmatrix} =\n",
    "\\begin{bmatrix}\n",
    "2 \\\\ 3 \\\\ 2 \\\\ 9\n",
    "\\end{bmatrix}.\n",
    "$$"
   ]
  },
  {
   "cell_type": "markdown",
   "metadata": {},
   "source": [
    "$2 x_1 = 2 \\implies x_1 = 1$\n",
    "\n",
    "$-x_1 + 2x_2 = 3 \\implies -1 + 2x_2 = 3 \\implies 2x_2 = 4 \\implies x_2 = 2$\n",
    "\n",
    "$3x_1 + x_2 - x_3 = 2 \\implies 3 + 2 - x_3 = 2 \\implies -x_3 = -3 \\implies x_3 = 3$\n",
    "\n",
    "$4x_1 + x_2 - 3x_3 + 3x_4 = 9 \\implies 4 + 2 - 9 + 3x_4 = 9 \\implies 3x_4 = 12 \\implies x_4 = 4$"
   ]
  },
  {
   "cell_type": "markdown",
   "metadata": {},
   "source": [
    "Therefore,\n",
    "\n",
    "$$\n",
    "x =\n",
    "\\begin{bmatrix}\n",
    "1 \\\\ 2 \\\\ 3 \\\\ 4\n",
    "\\end{bmatrix}.\n",
    "$$"
   ]
  },
  {
   "cell_type": "code",
   "execution_count": null,
   "metadata": {},
   "outputs": [],
   "source": [
    "L = [\n",
    "    2 0 0 0\n",
    "    -1 2 0 0\n",
    "    3 1 -1 0\n",
    "    4 1 -3 3.0\n",
    "]\n",
    "b = [2, 3, 2, 9.0]\n",
    "x = L\\b"
   ]
  },
  {
   "cell_type": "code",
   "execution_count": null,
   "metadata": {},
   "outputs": [],
   "source": [
    "using LinearAlgebra"
   ]
  },
  {
   "cell_type": "code",
   "execution_count": null,
   "metadata": {},
   "outputs": [],
   "source": [
    "istril(L)"
   ]
  },
  {
   "cell_type": "code",
   "execution_count": null,
   "metadata": {},
   "outputs": [],
   "source": [
    "M = LowerTriangular(L)"
   ]
  },
  {
   "cell_type": "code",
   "execution_count": null,
   "metadata": {},
   "outputs": [],
   "source": [
    "istril(M)"
   ]
  },
  {
   "cell_type": "markdown",
   "metadata": {},
   "source": [
    "---\n",
    "\n",
    "In general, the solution of a lower-triangular system $Lx = b$ is given by\n",
    "\n",
    "$$\n",
    "x_i = \\left( b_i - \\sum_{j=1}^{i-1} l_{ij}x_j \\right) \\bigg/ l_{ii}, \\quad i = 1, \\ldots, n.\n",
    "$$"
   ]
  },
  {
   "cell_type": "markdown",
   "metadata": {},
   "source": [
    "---\n",
    "\n",
    "### Exercise:\n",
    "\n",
    "Write a `Julia` function, `x = row_fs(L, b)`, that returns the solution $x$ of a lower-triangular system $Lx = b$ using _forward substitution_. Make sure to include a check that the matrix $L$ is nonsingular. Test your code for accuracy and efficiency."
   ]
  },
  {
   "cell_type": "code",
   "execution_count": null,
   "metadata": {},
   "outputs": [],
   "source": [
    "L"
   ]
  },
  {
   "cell_type": "code",
   "execution_count": null,
   "metadata": {},
   "outputs": [],
   "source": [
    "b"
   ]
  },
  {
   "cell_type": "code",
   "execution_count": null,
   "metadata": {},
   "outputs": [],
   "source": [
    "function row_fs(L, b)\n",
    "    #if any(diag(L) .== 0)\n",
    "    #    error(\"Error: Matrix L is singular.\")\n",
    "    #end\n",
    "    n = length(b)\n",
    "    x = copy(b)\n",
    "    for i = 1:n\n",
    "        for j = 1:i-1\n",
    "            x[i] -= L[i,j]*x[j]\n",
    "        end\n",
    "        if L[i,i] == 0\n",
    "            error(\"Error: Matrix L is singular.\")\n",
    "        end\n",
    "        x[i] /= L[i,i]\n",
    "    end\n",
    "    return x\n",
    "end"
   ]
  },
  {
   "cell_type": "code",
   "execution_count": null,
   "metadata": {},
   "outputs": [],
   "source": [
    "x = row_fs(L,b)"
   ]
  },
  {
   "cell_type": "code",
   "execution_count": null,
   "metadata": {},
   "outputs": [],
   "source": [
    "L = [\n",
    "    1 0 0\n",
    "    1 0 0\n",
    "    2 3 1.0\n",
    "]"
   ]
  },
  {
   "cell_type": "code",
   "execution_count": null,
   "metadata": {},
   "outputs": [],
   "source": [
    "det(L)"
   ]
  },
  {
   "cell_type": "code",
   "execution_count": null,
   "metadata": {},
   "outputs": [],
   "source": [
    "x = row_fs(L,b)"
   ]
  },
  {
   "cell_type": "code",
   "execution_count": null,
   "metadata": {},
   "outputs": [],
   "source": [
    "n = 100\n",
    "L = LowerTriangular(Float64.(rand(1:9, n, n)))\n",
    "x_true = randn(n)\n",
    "b = L*x_true\n",
    "\n",
    "x = row_fs(L,b)\n",
    "\n",
    "abs.(x - x_true)"
   ]
  },
  {
   "cell_type": "code",
   "execution_count": null,
   "metadata": {},
   "outputs": [],
   "source": [
    "x = L\\b\n",
    "abs.(x - x_true)"
   ]
  },
  {
   "cell_type": "code",
   "execution_count": null,
   "metadata": {},
   "outputs": [],
   "source": [
    "residual = b - L*x"
   ]
  },
  {
   "cell_type": "code",
   "execution_count": null,
   "metadata": {},
   "outputs": [],
   "source": [
    "cond(L)"
   ]
  },
  {
   "cell_type": "markdown",
   "metadata": {},
   "source": [
    "**Note:** This matrix $L$ has a large condition number, so solving $Lx = b$ is very sensitive to small changes in the input."
   ]
  },
  {
   "cell_type": "code",
   "execution_count": null,
   "metadata": {},
   "outputs": [],
   "source": [
    "A = rand(n,n)"
   ]
  },
  {
   "cell_type": "code",
   "execution_count": null,
   "metadata": {},
   "outputs": [],
   "source": [
    "F = qr(A)\n",
    "L = F.R'\n",
    "cond(L)"
   ]
  },
  {
   "cell_type": "markdown",
   "metadata": {},
   "source": [
    "**Note:** This lower triangular matrix $L$ has a much smaller condition number so is less sensitive to small changes in the input."
   ]
  },
  {
   "cell_type": "code",
   "execution_count": null,
   "metadata": {},
   "outputs": [],
   "source": [
    "b = L*x_true\n",
    "x = row_fs(L, b)\n",
    "abs.(x_true - x)"
   ]
  },
  {
   "cell_type": "markdown",
   "metadata": {},
   "source": [
    "Our function `row_fs` appears to give accurate solutions to $Lx = b$ when $L$ is not ill-condition (having a large condition number)."
   ]
  },
  {
   "cell_type": "code",
   "execution_count": null,
   "metadata": {},
   "outputs": [],
   "source": [
    "using BenchmarkTools"
   ]
  },
  {
   "cell_type": "code",
   "execution_count": null,
   "metadata": {},
   "outputs": [],
   "source": [
    "n = 1000\n",
    "L = LowerTriangular(rand(n,n))\n",
    "b = rand(n);"
   ]
  },
  {
   "cell_type": "code",
   "execution_count": null,
   "metadata": {},
   "outputs": [],
   "source": [
    "@btime row_fs(L,b);"
   ]
  },
  {
   "cell_type": "code",
   "execution_count": null,
   "metadata": {},
   "outputs": [],
   "source": [
    "@btime L\\b;"
   ]
  },
  {
   "cell_type": "code",
   "execution_count": null,
   "metadata": {},
   "outputs": [],
   "source": [
    "@which L\\b"
   ]
  },
  {
   "cell_type": "markdown",
   "metadata": {},
   "source": [
    "---\n",
    "\n",
    "## Column-oriented forward substitution\n",
    "\n",
    "Notice that the algorithm above is **row-oriented**, which is good for computer languages that store matrices in row-major order (like C/C++ or Python), but is bad for column-major order languages (like Fortran, MATLAB, or Julia).\n",
    "\n",
    "We can produce a forward-substitution algorithm that is **column-oriented** by using the concept of **block-matrix multiplication**."
   ]
  },
  {
   "cell_type": "markdown",
   "metadata": {},
   "source": [
    "---\n",
    "\n",
    "### Exercise:\n",
    "\n",
    "Let the lower-triangular linear system $Lx = b$ be partitioned as\n",
    "\n",
    "$$\n",
    "\\begin{bmatrix}\n",
    "l_{11} & 0 \\\\\n",
    "\\hat{l} & \\hat{L} \\\\\n",
    "\\end{bmatrix}\n",
    "\\begin{bmatrix}\n",
    "x_1 \\\\ \\hat{x}\n",
    "\\end{bmatrix} = \n",
    "\\begin{bmatrix}\n",
    "b_1 \\\\ \\hat{b}\n",
    "\\end{bmatrix}\n",
    "$$\n",
    "\n",
    "where $\\hat{L}$ is an $(n-1) \\times (n-1)$ *lower-triangular* matrix and $\\hat{x}$ and $\\hat{b}$ are vectors of length $n - 1$.\n",
    "\n",
    "1. Perform block-matrix multiplication.\n",
    "\n",
    "2. Determine a _recursive algorithm_ for solving the linear system $Lx = b$.\n",
    "\n",
    "3. Implement your recursive algorithm in `Julia` (name your function `col_rfs`).\n",
    "\n",
    "4. Test your code for accuracy and efficiency."
   ]
  },
  {
   "cell_type": "markdown",
   "metadata": {},
   "source": [
    "$$\n",
    "\\begin{bmatrix}\n",
    "l_{11} & 0 \\\\\n",
    "\\hat{l} & \\hat{L} \\\\\n",
    "\\end{bmatrix}\n",
    "\\begin{bmatrix}\n",
    "x_1 \\\\ \\hat{x}\n",
    "\\end{bmatrix} = \n",
    "\\begin{bmatrix}\n",
    "l_{11} x_1 + 0 \\hat{x} \\\\\n",
    "\\hat{l} x_1 + \\hat{L} \\hat{x}\n",
    "\\end{bmatrix} = \n",
    "\\begin{bmatrix}\n",
    "l_{11} x_1 \\\\\n",
    "x_1 \\hat{l} + \\hat{L} \\hat{x}\n",
    "\\end{bmatrix}\n",
    "$$\n",
    "\n",
    "Therefore,\n",
    "\n",
    "$$\n",
    "\\begin{bmatrix}\n",
    "l_{11} x_1 \\\\\n",
    "x_1 \\hat{l} + \\hat{L} \\hat{x}\n",
    "\\end{bmatrix} =\n",
    "\\begin{bmatrix}\n",
    "b_1 \\\\ \\hat{b}\n",
    "\\end{bmatrix}.\n",
    "$$"
   ]
  },
  {
   "cell_type": "markdown",
   "metadata": {},
   "source": [
    "Thus, we have:\n",
    "\n",
    "1. $l_{11} x_1 = b_1$,\n",
    "2. $x_1 \\hat{l} + \\hat{L} \\hat{x} = \\hat{b}$."
   ]
  },
  {
   "cell_type": "markdown",
   "metadata": {},
   "source": [
    "We can solve the first equation for $x_1$:\n",
    "\n",
    "$$\n",
    "x_1 = \\frac{b_1}{l_{11}}.\n",
    "$$\n",
    "\n",
    "Substituting $x_1$ into the second equation gives us:\n",
    "\n",
    "$$\n",
    "\\hat{L} \\hat{x} = \\hat{b} - x_1 \\hat{l}.\n",
    "$$"
   ]
  },
  {
   "cell_type": "markdown",
   "metadata": {},
   "source": [
    "---\n",
    "\n",
    "### Exercise:\n",
    "\n",
    "Use column-oriented forward substitution to solve the lower-triangular system.\n",
    "\n",
    "$$\n",
    "\\begin{bmatrix}\n",
    "2 & 0 & 0 & 0 \\\\\n",
    "-1 & 2 & 0 & 0 \\\\\n",
    "3 & 1 & -1 & 0 \\\\\n",
    "4 & 1 & -3 & 3\n",
    "\\end{bmatrix}\n",
    "\\begin{bmatrix}\n",
    "x_1 \\\\ x_2 \\\\ x_3 \\\\ x_4\n",
    "\\end{bmatrix} =\n",
    "\\begin{bmatrix}\n",
    "2 \\\\ 3 \\\\ 2 \\\\ 9\n",
    "\\end{bmatrix}\n",
    "$$\n"
   ]
  },
  {
   "cell_type": "markdown",
   "metadata": {},
   "source": [
    "First we have $x_1 = b_1/l_{11} = 2/2 = 1$. Then,\n",
    "\n",
    "$$\n",
    "\\hat{b} - x_1 \\hat{l} = \n",
    "\\begin{bmatrix}\n",
    "3 \\\\ 2 \\\\ 9\n",
    "\\end{bmatrix}\n",
    "- 1\n",
    "\\begin{bmatrix}\n",
    "-1 \\\\ 3 \\\\ 4\n",
    "\\end{bmatrix} = \n",
    "\\begin{bmatrix}\n",
    "4 \\\\ -1 \\\\ 5\n",
    "\\end{bmatrix}.\n",
    "$$"
   ]
  },
  {
   "cell_type": "markdown",
   "metadata": {},
   "source": [
    "Thus, we just need to solve\n",
    "\n",
    "$$\n",
    "\\begin{bmatrix}\n",
    "2 & 0 & 0 \\\\\n",
    "1 & -1 & 0 \\\\\n",
    "1 & -3 & 3\n",
    "\\end{bmatrix}\n",
    "\\begin{bmatrix}\n",
    "x_2 \\\\ x_3 \\\\ x_4\n",
    "\\end{bmatrix} =\n",
    "\\begin{bmatrix}\n",
    "4 \\\\ -1 \\\\ 5\n",
    "\\end{bmatrix}.\n",
    "$$"
   ]
  },
  {
   "cell_type": "markdown",
   "metadata": {},
   "source": [
    "Next we have $x_2 = 4/2 = 2$. Then, our reduced right-hand-side is\n",
    "\n",
    "$$ \n",
    "\\begin{bmatrix}\n",
    "-1 \\\\ 5\n",
    "\\end{bmatrix}\n",
    "- 2\n",
    "\\begin{bmatrix}\n",
    "1 \\\\ 1\n",
    "\\end{bmatrix} = \n",
    "\\begin{bmatrix}\n",
    "-3 \\\\ 3\n",
    "\\end{bmatrix}.\n",
    "$$"
   ]
  },
  {
   "cell_type": "markdown",
   "metadata": {},
   "source": [
    "Thus, we just need to solve\n",
    "\n",
    "$$\n",
    "\\begin{bmatrix}\n",
    "-1 & 0 \\\\\n",
    "-3 & 3\n",
    "\\end{bmatrix}\n",
    "\\begin{bmatrix}\n",
    "x_3 \\\\ x_4\n",
    "\\end{bmatrix} =\n",
    "\\begin{bmatrix}\n",
    "-3 \\\\ 3\n",
    "\\end{bmatrix}.\n",
    "$$"
   ]
  },
  {
   "cell_type": "markdown",
   "metadata": {},
   "source": [
    "Now we have $x_3 = -3/(-1) = 3$. Our new reduced right-hand-side is\n",
    "\n",
    "$$ \n",
    "\\begin{bmatrix}\n",
    "3\n",
    "\\end{bmatrix}\n",
    "- 3\n",
    "\\begin{bmatrix}\n",
    "-3\n",
    "\\end{bmatrix} = \n",
    "\\begin{bmatrix}\n",
    "12\n",
    "\\end{bmatrix}.\n",
    "$$"
   ]
  },
  {
   "cell_type": "markdown",
   "metadata": {},
   "source": [
    "Thus, we just need to solve\n",
    "\n",
    "$$\n",
    "\\begin{bmatrix}\n",
    "3\n",
    "\\end{bmatrix}\n",
    "\\begin{bmatrix}\n",
    "x_4\n",
    "\\end{bmatrix} =\n",
    "\\begin{bmatrix}\n",
    "12\n",
    "\\end{bmatrix}.\n",
    "$$\n",
    "\n",
    "Thus, $x_4 = 12/3 = 4$."
   ]
  },
  {
   "cell_type": "markdown",
   "metadata": {},
   "source": [
    "---\n",
    "\n",
    "### Exercise:\n",
    "\n",
    "Inspired by your calculations in the previous exercise, write a non-recursive column-oriented forward-substitution code in `Julia` (name your function `col_fs`). Test your function for accuracy and efficiency."
   ]
  },
  {
   "cell_type": "code",
   "execution_count": null,
   "metadata": {},
   "outputs": [],
   "source": [
    "function col_fs(L, b)\n",
    "    n = length(b)\n",
    "    x = copy(b)\n",
    "    #@show x\n",
    "    for j = 1:n\n",
    "        if L[j,j] == 0\n",
    "            error(\"Error: Matrix L is singular.\")\n",
    "        end\n",
    "        x[j] /= L[j,j]\n",
    "        # Compute the reduced rhs\n",
    "        for i = j+1:n\n",
    "            x[i] -= L[i,j]*x[j]\n",
    "        end\n",
    "        #@show x\n",
    "    end\n",
    "    return x\n",
    "end"
   ]
  },
  {
   "cell_type": "code",
   "execution_count": null,
   "metadata": {},
   "outputs": [],
   "source": [
    "L = [\n",
    "    2 0 0 0\n",
    "    -1 2 0 0\n",
    "    3 1 -1 0\n",
    "    4 1 -3 3.0\n",
    "]\n",
    "b = [2, 3, 2, 9.0]\n",
    "\n",
    "x = col_fs(L, b)"
   ]
  },
  {
   "cell_type": "code",
   "execution_count": null,
   "metadata": {},
   "outputs": [],
   "source": [
    "n = 1000\n",
    "L = LowerTriangular(rand(n,n))\n",
    "b = rand(n);"
   ]
  },
  {
   "cell_type": "code",
   "execution_count": null,
   "metadata": {},
   "outputs": [],
   "source": [
    "@btime row_fs(L,b);"
   ]
  },
  {
   "cell_type": "code",
   "execution_count": null,
   "metadata": {},
   "outputs": [],
   "source": [
    "@btime col_fs(L,b);"
   ]
  },
  {
   "cell_type": "code",
   "execution_count": null,
   "metadata": {},
   "outputs": [],
   "source": [
    "@btime L\\b;"
   ]
  },
  {
   "cell_type": "markdown",
   "metadata": {},
   "source": [
    "---\n",
    "\n",
    "### Exercise:\n",
    "\n",
    "How do your `row_fs` and `col_fs` functions compare to `Julia`'s built-in `x = L\\b`?"
   ]
  },
  {
   "cell_type": "markdown",
   "metadata": {},
   "source": [
    "---\n",
    "\n",
    "### Exercise:\n",
    "\n",
    "Determine the total number of flops to solve an $n \\times n$ triangular linear system using two different methods:\n",
    "\n",
    "1. Directly count the flops in your nonrecursive code.\n",
    "2. Count the flops using the recursive version of your code."
   ]
  },
  {
   "cell_type": "markdown",
   "metadata": {},
   "source": [
    "### Part 1\n",
    "\n",
    "```julia\n",
    "function col_fs(L, b)\n",
    "    n = length(b)\n",
    "    x = copy(b)\n",
    "    for j = 1:n\n",
    "        x[j] /= L[j,j]\n",
    "        # Compute the reduced rhs\n",
    "        for i = j+1:n\n",
    "            x[i] -= L[i,j]*x[j]\n",
    "        end\n",
    "    end\n",
    "    return x\n",
    "end\n",
    "```"
   ]
  },
  {
   "cell_type": "markdown",
   "metadata": {},
   "source": [
    "1. 2 flops are required for the line `x[i] -= L[i,j]*x[j]`.\n",
    "2. Then the `for i` loop does:\n",
    "$$\n",
    "\\sum_{i=j+1}^n 2.\n",
    "$$\n",
    "3. The division `x[j] /= L[j,j]` is one flop.\n",
    "4. Inside the `for j` loop is\n",
    "$$\n",
    "1 + \\sum_{i=j+1}^n 2\n",
    "$$\n",
    "flops.\n",
    "5. The `for j` loop does:\n",
    "$$\n",
    "\\sum_{j=1}^n \\left(1 + \\sum_{i=j+1}^n 2\\right).\n",
    "$$"
   ]
  },
  {
   "cell_type": "markdown",
   "metadata": {},
   "source": [
    "Suppose $n = 10$ and $j = 4$. Then\n",
    "\n",
    "$$\n",
    "\\sum_{i=j+1}^n 2 = \\sum_{i=5}^{10} 2 = (10 - 5 + 1) \\cdot 2 = 12.\n",
    "$$"
   ]
  },
  {
   "cell_type": "markdown",
   "metadata": {},
   "source": [
    "In general, we have\n",
    "\n",
    "$$\n",
    "\\sum_{i=j+1}^n 2 = (n - (j+1) + 1) \\cdot 2 = 2(n - j).\n",
    "$$"
   ]
  },
  {
   "cell_type": "markdown",
   "metadata": {},
   "source": [
    "Thus, the total number of flops is\n",
    "$$\n",
    "\\sum_{j=1}^n \\left(1 + 2(n - j)\\right) = \\sum_{j=1}^n (1 + 2n) - 2 \\sum_{j=1}^n j.\n",
    "$$\n",
    "\n",
    "A famous formula is that\n",
    "$$\n",
    "\\sum_{j=1}^n j = 1 + 2 + \\cdots + n = \\frac{n(n+1)}{2}.\n",
    "$$"
   ]
  },
  {
   "cell_type": "markdown",
   "metadata": {},
   "source": [
    "Thus, the total flops are\n",
    "\\begin{eqnarray}\n",
    "n(1 + 2n) - 2\\frac{n(n+1)}{2} \n",
    "&=& n(1 + 2n) - n(n + 1)\\\\\n",
    "&=& n + 2n^2 - n^2 - n\\\\\n",
    "&=& n^2. \\\\\n",
    "\\end{eqnarray}"
   ]
  },
  {
   "cell_type": "markdown",
   "metadata": {},
   "source": [
    "### Part 2\n",
    "\n",
    "We can solve the first equation for $x_1$:\n",
    "\n",
    "$$\n",
    "x_1 = \\frac{b_1}{l_{11}}.\n",
    "$$\n",
    "\n",
    "Substituting $x_1$ into the second equation gives us:\n",
    "\n",
    "$$\n",
    "\\hat{L} \\hat{x} = \\hat{b} - x_1 \\hat{l}.\n",
    "$$"
   ]
  },
  {
   "cell_type": "markdown",
   "metadata": {},
   "source": [
    "Let $T_n$ be the number of flops for forward substitution to solve an $n \\times n$ linear system $Lx = b$.\n",
    "\n",
    "First we note that $T_1 = 1$ because solving $l_{11} x_1 = b_1$ requires one division.\n",
    "\n",
    "Now consider the $n \\times n$ case. The recursive algorithm requires three steps:\n",
    "\n",
    "1. calculating $x_1 = b_1/l_{11}$ is 1 flop;\n",
    "2. computing $\\bar{b} = \\hat{b} - x_1 \\hat{l}$ requires $2(n-1)$ flops since $\\hat{b}$ and $\\hat{l}$ are vectors of length $n-1$;\n",
    "3. solving $\\hat{L} \\hat{x} = \\bar{b}$ requires $T_{n-1}$ flops.\n",
    "\n",
    "Thus,\n",
    "\n",
    "$$\n",
    "T_n = 1 + 2(n - 1) + T_{n-1}\n",
    "$$\n",
    "\n",
    "for $n > 1$."
   ]
  },
  {
   "cell_type": "markdown",
   "metadata": {},
   "source": [
    "Then\n",
    "\\begin{eqnarray}\n",
    "T_n\n",
    "&=& 2n - 1 + T_{n-1} \\\\\n",
    "&=& 2n - 1 + 2(n-1) - 1 + T_{n-2} \\\\\n",
    "&=& 2n - 1 + 2(n-1) - 1 + 2(n-2) - 1 + T_{n-3} \\\\\n",
    "&\\vdots& \\\\\n",
    "&=& 2n - 1 + 2(n-1) - 1 + 2(n-2) - 1 + \\cdots + T_{1}. \\\\\n",
    "\\end{eqnarray}"
   ]
  },
  {
   "cell_type": "markdown",
   "metadata": {},
   "source": [
    "Finally,\n",
    "\n",
    "\\begin{eqnarray}\n",
    "T_n \n",
    "&=& \\big(2n + 2(n-1) + \\cdots + 2 \\cdot 2\\big) + \\big( - 1\\cdot(n - 1) \\big) + 1\\\\\n",
    "&=& 2\\sum_{i=2}^n i - (n - 1) + 1 \\\\\n",
    "&=& 2\\left( \\frac{n(n+1)}{2} - 1 \\right) - n + 2  \\\\\n",
    "&=& n(n+1) - 2 - n + 2  \\\\\n",
    "&=& n^2 + n - 2 - n + 2  \\\\\n",
    "&=& n^2.\n",
    "\\end{eqnarray}"
   ]
  },
  {
   "cell_type": "markdown",
   "metadata": {},
   "source": [
    "---\n",
    "\n",
    "### Exercise:\n",
    "\n",
    "Write a `Julia` function `col_fs!(b, L)` that **overwrites** the array `b` with the solution of the linear sytem $Lx = b$. Test the efficiency of your function."
   ]
  },
  {
   "cell_type": "code",
   "execution_count": null,
   "metadata": {},
   "outputs": [],
   "source": [
    "function col_fs!(b, L)\n",
    "    n = length(b)\n",
    "    for j = 1:n\n",
    "        if L[j,j] == 0\n",
    "            error(\"Error: Matrix L is singular.\")\n",
    "        end\n",
    "        b[j] /= L[j,j]\n",
    "        # Compute the reduced rhs\n",
    "        for i = j+1:n\n",
    "            b[i] -= L[i,j]*b[j]\n",
    "        end\n",
    "    end\n",
    "    return b\n",
    "end"
   ]
  },
  {
   "cell_type": "code",
   "execution_count": null,
   "metadata": {},
   "outputs": [],
   "source": [
    "n = 10\n",
    "L = LowerTriangular(rand(n,n))\n",
    "b = rand(n);"
   ]
  },
  {
   "cell_type": "code",
   "execution_count": null,
   "metadata": {},
   "outputs": [],
   "source": [
    "x = copy(b)\n",
    "col_fs!(x, L)\n",
    "L*x - b"
   ]
  },
  {
   "cell_type": "code",
   "execution_count": null,
   "metadata": {},
   "outputs": [],
   "source": [
    "n = 1000\n",
    "L = LowerTriangular(rand(n,n))\n",
    "b = rand(n);"
   ]
  },
  {
   "cell_type": "code",
   "execution_count": null,
   "metadata": {},
   "outputs": [],
   "source": [
    "@btime row_fs(L,b);"
   ]
  },
  {
   "cell_type": "code",
   "execution_count": null,
   "metadata": {},
   "outputs": [],
   "source": [
    "@btime col_fs(L,b);"
   ]
  },
  {
   "cell_type": "code",
   "execution_count": null,
   "metadata": {},
   "outputs": [],
   "source": [
    "@btime col_fs!($(copy(b)), L);"
   ]
  },
  {
   "cell_type": "code",
   "execution_count": null,
   "metadata": {},
   "outputs": [],
   "source": [
    "@btime L\\b;"
   ]
  },
  {
   "cell_type": "code",
   "execution_count": null,
   "metadata": {},
   "outputs": [],
   "source": [
    "x = similar(b)\n",
    "@btime ldiv!(x, L, b);"
   ]
  },
  {
   "cell_type": "code",
   "execution_count": null,
   "metadata": {},
   "outputs": [],
   "source": [
    "?ldiv!"
   ]
  },
  {
   "cell_type": "markdown",
   "metadata": {},
   "source": [
    "---"
   ]
  }
 ],
 "metadata": {
  "@webio": {
   "lastCommId": null,
   "lastKernelId": null
  },
  "kernelspec": {
   "display_name": "Julia 1.6.2",
   "language": "julia",
   "name": "julia-1.6"
  },
  "language_info": {
   "file_extension": ".jl",
   "mimetype": "application/julia",
   "name": "julia",
   "version": "1.6.2"
  }
 },
 "nbformat": 4,
 "nbformat_minor": 1
}
