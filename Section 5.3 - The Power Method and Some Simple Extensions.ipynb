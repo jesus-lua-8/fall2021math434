{
 "cells": [
  {
   "cell_type": "markdown",
   "id": "together-disability",
   "metadata": {},
   "source": [
    "---\n",
    "# Section 5.3: The Power Method and Some Simple Extensions\n",
    "---"
   ]
  },
  {
   "cell_type": "markdown",
   "id": "unexpected-murder",
   "metadata": {},
   "source": [
    "Let $A \\in \\mathbb{C}^{n \\times n}$ be a matrix with _linearly independent_ eigenvectors\n",
    "\n",
    "$$\n",
    "v_1, \\ldots, v_n\n",
    "$$\n",
    "\n",
    "and corresponding eigenvalues\n",
    "\n",
    "$$\n",
    "\\lambda_1, \\ldots, \\lambda_n\n",
    "$$\n",
    "\n",
    "(i.e., $A v_i = \\lambda_i v_i$, for $i=1,\\ldots,n$) ordered such that\n",
    "\n",
    "$$\n",
    "|\\lambda_1| \\ge |\\lambda_2| \\ge \\cdots \\ge |\\lambda_n|.\n",
    "$$\n",
    "\n",
    "We say that $A$ has a **dominant eigenvalue** if\n",
    " \n",
    "$$\n",
    "|\\lambda_1| > |\\lambda_2|.\n",
    "$$"
   ]
  },
  {
   "cell_type": "markdown",
   "id": "pointed-philosophy",
   "metadata": {},
   "source": [
    "---"
   ]
  },
  {
   "cell_type": "markdown",
   "id": "previous-insight",
   "metadata": {},
   "source": [
    "## The Power Method\n",
    "\n",
    "The basic idea of the **power method** is to pick a vector $q \\in \\mathbb{C}^n$ and compute the sequence\n",
    "\n",
    "$$\n",
    "q,\\ A q,\\ A^2 q,\\ A^3 q,\\ \\ldots.\n",
    "$$\n",
    "\n",
    "Since the eigenvectors $v_1,\\ldots,v_n$ form a basis for $\\mathbb{C}^n$, we have that\n",
    "\n",
    "$$\n",
    "q = c_1 v_1 + \\cdots + c_n v_n.\n",
    "$$\n",
    "\n",
    "For a random $q$, we expect $c_1 \\ne 0$.\n",
    "\n",
    "Then\n",
    "\n",
    "$$\n",
    "\\begin{align}\n",
    "A q\n",
    "&= c_1 A v_1 + \\cdots + c_n A v_n \\\\\n",
    "&= c_1 \\lambda_1 v_1 + \\cdots + c_n \\lambda_n v_n\n",
    "\\end{align}\n",
    "$$\n",
    "\n",
    "and\n",
    "\n",
    "$$\n",
    "\\begin{align}\n",
    "A^2 q\n",
    "&= c_1 \\lambda_1 A v_1 + \\cdots + c_n \\lambda_n A v_n \\\\\n",
    "&= c_1 \\lambda_1^2 v_1 + \\cdots + c_n \\lambda_n^2 v_n.\n",
    "\\end{align}\n",
    "$$\n",
    "\n",
    "In general, we have\n",
    "\n",
    "$$\n",
    "A^j q = c_1 \\lambda_1^j v_1 + \\cdots + c_n \\lambda_n^j v_n\n",
    "$$\n",
    "\n",
    "and\n",
    "\n",
    "$$\n",
    "\\frac{A^j q}{\\lambda_1^j} = c_1 v_1 + c_2 \\left(\\frac{\\lambda_2}{\\lambda_1}\\right)^j v_2 + \\cdots + c_n \\left(\\frac{\\lambda_n}{\\lambda_1}\\right)^j v_n.\n",
    "$$"
   ]
  },
  {
   "cell_type": "markdown",
   "id": "hispanic-affect",
   "metadata": {},
   "source": [
    "Letting\n",
    "\n",
    "$$\n",
    "q_j = \\frac{A^j q}{\\lambda_1^j},\n",
    "$$\n",
    "\n",
    "we have\n",
    "\n",
    "$$\n",
    "\\begin{align}\n",
    "\\| q_j - c_1 v_1 \\|\n",
    "&= \\left\\| c_2 \\left(\\frac{\\lambda_2}{\\lambda_1}\\right)^j v_2 + \\cdots + c_n \\left(\\frac{\\lambda_n}{\\lambda_1}\\right)^j v_n \\right\\| \\\\\n",
    "&\\le |c_2| \\left|\\frac{\\lambda_2}{\\lambda_1}\\right|^j \\|v_2\\| + \\cdots + |c_n| \\left|\\frac{\\lambda_n}{\\lambda_1}\\right|^j \\|v_n\\| \\\\\n",
    "&\\le \\left|\\frac{\\lambda_2}{\\lambda_1}\\right|^j \\big(|c_2| \\|v_2\\| + \\cdots + |c_n| \\|v_n\\|\\big).\n",
    "\\end{align}\n",
    "$$\n",
    "\n",
    "Now suppose $|\\lambda_1| > |\\lambda_2|$. Then\n",
    "\n",
    "$$\n",
    "\\left|\\frac{\\lambda_2}{\\lambda_1}\\right| < 1.\n",
    "$$\n",
    "\n",
    "Therefore,\n",
    "\n",
    "$$\n",
    "\\left|\\frac{\\lambda_2}{\\lambda_1}\\right|^j \\to 0 \\quad \\text{as} \\ j \\to \\infty.\n",
    "$$\n",
    "\n",
    "Thus, $\\| q_j - c_1 v_1 \\| \\to 0$ as $j \\to \\infty$, so we conclude that\n",
    "\n",
    "$$\n",
    "q_j \\to c_1 v_1 \\quad \\text{as $j \\to \\infty$.}\n",
    "$$"
   ]
  },
  {
   "cell_type": "markdown",
   "id": "technological-reader",
   "metadata": {},
   "source": [
    "---"
   ]
  },
  {
   "cell_type": "markdown",
   "id": "downtown-fighter",
   "metadata": {},
   "source": [
    "## Example\n",
    "\n",
    "A matrix $A \\in \\mathbb{R}^{n \\times n}$ with nonnegative entries whose columns sum to one is called a [**stochastic matrix**](https://en.wikipedia.org/wiki/Stochastic_matrix). Such a matrix often has a dominant eigenvalue of $\\lambda_1 = 1$ and the corresponding eigenvector $v_1$ represents a _stationary probability vector_.\n",
    "\n",
    "Use the power method to compute the eigenvector $v_1$."
   ]
  },
  {
   "cell_type": "code",
   "execution_count": 199,
   "id": "angry-duncan",
   "metadata": {},
   "outputs": [
    {
     "data": {
      "text/plain": [
       "4×4 Matrix{Float64}:\n",
       " 0.217455  0.42322   0.352961  0.233545\n",
       " 0.168122  0.188025  0.126703  0.335685\n",
       " 0.231962  0.115256  0.337741  0.187925\n",
       " 0.38246   0.273499  0.182594  0.242845"
      ]
     },
     "execution_count": 199,
     "metadata": {},
     "output_type": "execute_result"
    }
   ],
   "source": [
    "using LinearAlgebra\n",
    "\n",
    "n = 4\n",
    "A = rand(n,n)\n",
    "\n",
    "# Scale A so each column sums to one\n",
    "A ./= sum(A,dims=1)"
   ]
  },
  {
   "cell_type": "code",
   "execution_count": 200,
   "id": "narrow-abortion",
   "metadata": {},
   "outputs": [
    {
     "data": {
      "text/plain": [
       "1×4 Matrix{Float64}:\n",
       " 1.0  1.0  1.0  1.0"
      ]
     },
     "execution_count": 200,
     "metadata": {},
     "output_type": "execute_result"
    }
   ],
   "source": [
    "sum(A,dims=1)"
   ]
  },
  {
   "cell_type": "code",
   "execution_count": 271,
   "id": "fitting-turner",
   "metadata": {},
   "outputs": [
    {
     "data": {
      "text/plain": [
       "power_method (generic function with 1 method)"
      ]
     },
     "execution_count": 271,
     "metadata": {},
     "output_type": "execute_result"
    }
   ],
   "source": [
    "function power_method(A; tol=eps(), maxiter=100)\n",
    "    m, n = size(A)\n",
    "    n == m || error(\"Matrix must be square.\")\n",
    "    \n",
    "    q = randn(n)\n",
    "    qold = similar(q)\n",
    "\n",
    "    k = 0\n",
    "    done = false\n",
    "    while !done && k <= maxiter\n",
    "        k += 1\n",
    "        copy!(qold, q)\n",
    "        mul!(q, A, qold)  # q = A*qold\n",
    "        @show k, norm(q - qold)\n",
    "        done = norm(q - qold) < tol\n",
    "        normalize!(q)\n",
    "    end\n",
    "\n",
    "    return q\n",
    "end"
   ]
  },
  {
   "cell_type": "code",
   "execution_count": 280,
   "id": "unknown-production",
   "metadata": {},
   "outputs": [
    {
     "name": "stdout",
     "output_type": "stream",
     "text": [
      "(k, norm(q - qold)) = (1, 1.014377320377164)\n",
      "(k, norm(q - qold)) = (2, 0.308499101992868)\n",
      "(k, norm(q - qold)) = (3, 0.04975802334977585)\n",
      "(k, norm(q - qold)) = (4, 0.009776682575648595)\n",
      "(k, norm(q - qold)) = (5, 0.0017397445513524948)\n",
      "(k, norm(q - qold)) = (6, 0.00026531539949659554)\n",
      "(k, norm(q - qold)) = (7, 4.819203211024785e-5)\n",
      "(k, norm(q - qold)) = (8, 9.12853736410714e-6)\n",
      "(k, norm(q - qold)) = (9, 1.4579830783242e-6)\n",
      "(k, norm(q - qold)) = (10, 2.41541905640608e-7)\n",
      "(k, norm(q - qold)) = (11, 4.623937856379362e-8)\n",
      "(k, norm(q - qold)) = (12, 8.05513292102129e-9)\n",
      "(k, norm(q - qold)) = (13, 1.2661738868307013e-9)\n",
      "(k, norm(q - qold)) = (14, 2.2893869803408798e-10)\n",
      "(k, norm(q - qold)) = (15, 4.378917512769234e-11)\n",
      "(k, norm(q - qold)) = (16, 6.955340106752214e-12)\n",
      "(k, norm(q - qold)) = (17, 1.1450855776469353e-12)\n",
      "(k, norm(q - qold)) = (18, 2.3388175473915523e-13)\n",
      "(k, norm(q - qold)) = (19, 3.915535627258809e-14)\n",
      "(k, norm(q - qold)) = (20, 6.1074881222063774e-15)\n",
      "(k, norm(q - qold)) = (21, 1.1775693440128313e-15)\n",
      "(k, norm(q - qold)) = (22, 2.0014830212433605e-16)\n"
     ]
    },
    {
     "data": {
      "text/plain": [
       "4-element Vector{Float64}:\n",
       " 0.5830987013178677\n",
       " 0.41499146942146264\n",
       " 0.43214785516322773\n",
       " 0.5486585605881436"
      ]
     },
     "execution_count": 280,
     "metadata": {},
     "output_type": "execute_result"
    }
   ],
   "source": [
    "q = power_method(A)"
   ]
  },
  {
   "cell_type": "code",
   "execution_count": 267,
   "id": "expired-breach",
   "metadata": {},
   "outputs": [
    {
     "data": {
      "text/plain": [
       "4-element Vector{Float64}:\n",
       " 0.0\n",
       " 0.0\n",
       " 0.0\n",
       " 1.1102230246251565e-16"
      ]
     },
     "execution_count": 267,
     "metadata": {},
     "output_type": "execute_result"
    }
   ],
   "source": [
    "A*q - q"
   ]
  },
  {
   "cell_type": "code",
   "execution_count": 268,
   "id": "compliant-measurement",
   "metadata": {},
   "outputs": [
    {
     "data": {
      "text/plain": [
       "Eigen{ComplexF64, ComplexF64, Matrix{ComplexF64}, Vector{ComplexF64}}\n",
       "values:\n",
       "4-element Vector{ComplexF64}:\n",
       " -0.10452144834580698 - 0.13799339417016865im\n",
       " -0.10452144834580698 + 0.13799339417016865im\n",
       "   0.1951094977020419 + 0.0im\n",
       "   0.9999999999999991 + 0.0im\n",
       "vectors:\n",
       "4×4 Matrix{ComplexF64}:\n",
       "  0.646636-0.0im        …  -0.0100158+0.0im  -0.583099+0.0im\n",
       " -0.187001-0.451364im         0.49673+0.0im  -0.414991+0.0im\n",
       " -0.181834-0.0303076im      -0.806701+0.0im  -0.432148+0.0im\n",
       " -0.277802+0.481671im        0.319987+0.0im  -0.548659+0.0im"
      ]
     },
     "execution_count": 268,
     "metadata": {},
     "output_type": "execute_result"
    }
   ],
   "source": [
    "eigen(A)"
   ]
  },
  {
   "cell_type": "code",
   "execution_count": null,
   "id": "compressed-cocktail",
   "metadata": {},
   "outputs": [],
   "source": []
  }
 ],
 "metadata": {
  "kernelspec": {
   "display_name": "Julia 1.6.3",
   "language": "julia",
   "name": "julia-1.6"
  },
  "language_info": {
   "file_extension": ".jl",
   "mimetype": "application/julia",
   "name": "julia",
   "version": "1.6.3"
  }
 },
 "nbformat": 4,
 "nbformat_minor": 5
}
