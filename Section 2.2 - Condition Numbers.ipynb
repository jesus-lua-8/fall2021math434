{
 "cells": [
  {
   "cell_type": "markdown",
   "metadata": {},
   "source": [
    "---\n",
    "# Section 2.2: Condition Numbers"
   ]
  },
  {
   "cell_type": "markdown",
   "metadata": {},
   "source": [
    "---\n",
    "\n",
    "Let $A$ be a nonsingular matrix, and suppose we solve \n",
    "\n",
    "$$Ax = b.$$ \n",
    "\n",
    "Due to errors in the data and in the computation using finite precision, we get a solution $\\hat{x}$ that satisfies \n",
    "\n",
    "$$A \\hat{x} = b + \\delta b.$$"
   ]
  },
  {
   "cell_type": "markdown",
   "metadata": {},
   "source": [
    "---\n",
    "\n",
    "## Exercise:\n",
    "\n",
    "1. Let\n",
    "\n",
    "   $$\n",
    "A = \n",
    "\\left[\n",
    "\\begin{array}{cc}\n",
    "5 & 1 \\\\\n",
    "0 & 1 \\\\\n",
    "\\end{array}\n",
    "\\right],\n",
    "\\qquad\n",
    "b = \n",
    "\\left[\n",
    "\\begin{array}{c}\n",
    "7 \\\\\n",
    "2 \\\\\n",
    "\\end{array}\n",
    "\\right],\n",
    "\\qquad\n",
    "\\delta b = \n",
    "\\left[\n",
    "\\begin{array}{c}\n",
    "-1.0 \\\\\n",
    "0.25 \\\\\n",
    "\\end{array}\n",
    "\\right].\n",
    "$$\n",
    "\n",
    "   Solve $Ax = b$ and $A\\hat{x} = b + \\delta b$. Compute $\\|\\delta b\\|$ and $\\|x - \\hat x\\|$.\n",
    "   \n",
    "2. Let\n",
    "\n",
    "   $$\n",
    "A = \n",
    "\\left[\n",
    "\\begin{array}{cc}\n",
    "0.1 & 1 \\\\\n",
    "0 & 1 \\\\\n",
    "\\end{array}\n",
    "\\right],\n",
    "\\qquad\n",
    "b = \n",
    "\\left[\n",
    "\\begin{array}{c}\n",
    "2.1 \\\\\n",
    "2 \\\\\n",
    "\\end{array}\n",
    "\\right],\n",
    "\\qquad\n",
    "\\delta b = \n",
    "\\left[\n",
    "\\begin{array}{c}\n",
    "-0.25 \\\\\n",
    "0.25 \\\\\n",
    "\\end{array}\n",
    "\\right].\n",
    "$$\n",
    "\n",
    "   Solve $Ax = b$ and $A\\hat{x} = b + \\delta b$. Compute $\\|\\delta b\\|$ and $\\|x - \\hat x\\|$.\n",
    "   \n",
    "3. Does small $\\|\\delta b\\|$ imply small $\\|x - \\hat x\\|$?"
   ]
  },
  {
   "cell_type": "code",
   "execution_count": null,
   "metadata": {},
   "outputs": [],
   "source": [
    "using LinearAlgebra"
   ]
  },
  {
   "cell_type": "markdown",
   "metadata": {},
   "source": [
    "---\n",
    "\n",
    "## Exercise 2:\n",
    "\n",
    "Run the following code. What do you observe? Why is this happening?"
   ]
  },
  {
   "cell_type": "code",
   "execution_count": null,
   "metadata": {},
   "outputs": [],
   "source": [
    "using Plots\n",
    "\n",
    "function ploteqns!(plt, A, x, b; color=:red, style=:solid)\n",
    "    # Plot A*x = b equations and solution\n",
    "    for i = 1:2\n",
    "        plot!(plt, x -> (b[i] - A[i,1]*x)/A[i,2], -6, 6, c=color, s=style)\n",
    "    end\n",
    "    plot!(plt, [x[1]], [x[2]], markershape=:circle, markersize=4, c=color)\n",
    "end\n",
    "\n",
    "function myplot(A, b, δb; limits=(-6,6), pltsize=(600,600))\n",
    "    xtrue = A\\b\n",
    "    bhat = b + δb\n",
    "    xhat = A\\bhat\n",
    "    plt = plot(xlim=limits, ylim=limits, size=pltsize, framestyle=:origin, legend=false)\n",
    "    ploteqns!(plt, A, xtrue, b)\n",
    "    ploteqns!(plt, A, xhat, bhat; color=:blue, style=:dash)\n",
    "end\n",
    "\n",
    "A = [5 1; 0 1.0]\n",
    "b = [7, 2.0]\n",
    "δb = [-1, .25]\n",
    "plt1 = myplot(A, b, δb)\n",
    "\n",
    "A = [0.1 1; 0 1]\n",
    "b = [2.1, 2]\n",
    "δb = [-.25, .25]\n",
    "plt2 = myplot(A, b, δb)\n",
    "\n",
    "plot(plt1, plt2, size=(800, 400))"
   ]
  },
  {
   "cell_type": "markdown",
   "metadata": {},
   "source": [
    "---\n",
    "\n",
    "For the matrix \n",
    "\n",
    "$$\n",
    "A = \n",
    "\\left[\n",
    "\\begin{array}{cc}\n",
    "5 & 1 \\\\\n",
    "0 & 1 \\\\\n",
    "\\end{array}\n",
    "\\right],\n",
    "$$\n",
    "\n",
    "a small $\\delta b$ resulted in $\\hat{x} \\approx x$.  That is,\n",
    "\n",
    "$$\n",
    "\\lVert \\delta b \\rVert \\text{ small} \\quad \\implies \\quad \\lVert \\delta x \\rVert = \\lVert \\hat{x} - x \\rVert \\text{ small}.\n",
    "$$\n",
    "\n",
    "When this happens, we say that the matrix $A$ is **well-conditioned**.\n",
    "\n",
    "For the matrix \n",
    "\n",
    "$$\n",
    "A = \n",
    "\\left[\n",
    "\\begin{array}{cc}\n",
    "0.1 & 1 \\\\\n",
    "0 & 1 \\\\\n",
    "\\end{array}\n",
    "\\right],\n",
    "$$\n",
    "\n",
    "even though $\\lVert \\delta b \\rVert$ was small, we got a large error $\\lVert \\delta x \\rVert = \\lVert \\hat{x} - x \\rVert$.\n",
    "\n",
    "When this happens, we say that the matrix $A$ is **ill-conditioned**."
   ]
  },
  {
   "cell_type": "markdown",
   "metadata": {},
   "source": [
    "---"
   ]
  },
  {
   "cell_type": "markdown",
   "metadata": {},
   "source": [
    "## The condition number of $A$\n",
    "\n",
    "We want to estimate the **relative error** in computing $x$,\n",
    "\n",
    "$$\n",
    "\\frac{\\lVert \\delta x \\rVert}{\\lVert x \\rVert},\n",
    "$$\n",
    "\n",
    "in terms of the **relative error** in $b$,\n",
    "\n",
    "$$\n",
    "\\frac{\\lVert \\delta b \\rVert}{\\lVert b \\rVert},\n",
    "$$\n",
    "\n",
    "where\n",
    "\n",
    "$$\n",
    "Ax = b \\qquad \\text{and} \\qquad A(x + \\delta x) = b + \\delta b.\n",
    "$$\n",
    "\n",
    "The **condition number** of $A$ is\n",
    "\n",
    "$$\n",
    "\\kappa(A) = \\lVert A \\rVert \\lVert A^{-1} \\rVert.\n",
    "$$\n",
    "\n",
    "We always have $\\kappa(A) \\ge 1$. Well-conditioned matrices have a small condition number, and ill-conditioned matrices have a very large condition number."
   ]
  },
  {
   "cell_type": "markdown",
   "metadata": {},
   "source": [
    "> ### Theorem: (Relative error bound)\n",
    "> \n",
    "> Let $A$ be nonsingular, $b \\neq 0$, and $Ax = b$. If \n",
    ">\n",
    "> $$A(x + \\delta x) = b + \\delta b,$$\n",
    ">\n",
    "> then\n",
    ">\n",
    "> $$\n",
    "\\frac{\\lVert \\delta x \\rVert}{\\lVert x \\rVert}\n",
    "\\leq \\kappa(A) \\frac{\\lVert \\delta b \\rVert}{\\lVert b \\rVert}.\n",
    "$$\n"
   ]
  },
  {
   "cell_type": "markdown",
   "metadata": {},
   "source": [
    "---\n",
    "\n",
    "## Interpreting the relative error bound\n",
    "\n",
    "If $\\kappa(A)$ is **small**, then\n",
    "\n",
    "$$\n",
    "\\frac{\\lVert \\delta b \\rVert}{\\lVert b \\rVert} \\text{ small} \\quad \\implies \\quad \\frac{\\lVert \\delta x \\rVert}{\\lVert x \\rVert} \\text{ small},\n",
    "$$\n",
    "\n",
    "so $A$ is **well-conditioned**.\n",
    "\n",
    "\n",
    "If $\\kappa(A)$ is **large**, then it is possible to have \n",
    "\n",
    "$$\n",
    "\\frac{\\lVert \\delta b \\rVert}{\\lVert b \\rVert} \\text{ small} \\quad \\text{and} \\quad \\frac{\\lVert \\delta x \\rVert}{\\lVert x \\rVert} \\text{ large},\n",
    "$$\n",
    "\n",
    "so $A$ is **badly conditioned**."
   ]
  },
  {
   "cell_type": "markdown",
   "metadata": {},
   "source": [
    "---"
   ]
  },
  {
   "cell_type": "markdown",
   "metadata": {},
   "source": [
    "## `cond`"
   ]
  },
  {
   "cell_type": "code",
   "execution_count": null,
   "metadata": {},
   "outputs": [],
   "source": [
    "?cond"
   ]
  },
  {
   "cell_type": "code",
   "execution_count": null,
   "metadata": {},
   "outputs": [],
   "source": [
    "# The well-conditioned A\n",
    "A = [5 1; 0 1]\n",
    "cond(A)"
   ]
  },
  {
   "cell_type": "code",
   "execution_count": null,
   "metadata": {},
   "outputs": [],
   "source": [
    "norm(A)*norm(inv(A))"
   ]
  },
  {
   "cell_type": "code",
   "execution_count": null,
   "metadata": {},
   "outputs": [],
   "source": [
    "# The ill-conditioned A\n",
    "A = [.1 1; 0 1]\n",
    "cond(A)"
   ]
  },
  {
   "cell_type": "markdown",
   "metadata": {},
   "source": [
    "---"
   ]
  },
  {
   "cell_type": "markdown",
   "metadata": {},
   "source": [
    "---\n",
    "\n",
    "## Exercise:\n",
    "\n",
    "An extreme example of an ill-conditioned $2 \\times 2$ matrix is\n",
    "\n",
    "$$\n",
    "A = \n",
    "\\begin{bmatrix}\n",
    "1000 & 999 \\\\\n",
    "999 & 998 \\\\\n",
    "\\end{bmatrix}.\n",
    "$$\n",
    "\n",
    "Note that $\\det(A) = 1000 \\cdot 998 - 999 \\cdot 999 = -1$. This means that the entries of its inverse will also be integer due to the formula for the inverse of a $2 \\times 2$ matrix:\n",
    "\n",
    "$$\n",
    "\\begin{bmatrix}\n",
    "a & b \\\\\n",
    "c & d \\\\\n",
    "\\end{bmatrix}^{-1} = \n",
    "\\frac{1}{ad - bc}\n",
    "\\begin{bmatrix}\n",
    "d & -b \\\\\n",
    "-c & a \\\\\n",
    "\\end{bmatrix}.\n",
    "$$\n",
    "\n",
    "1. Find $A^{-1}$ and $\\kappa(A)$.\n",
    "\n",
    "2. Compute the solutions of $Ax = b$ and $A\\hat{x} = \\hat{b}$, where\n",
    "   \n",
    "   $$\n",
    "   b = \n",
    "   \\begin{bmatrix}\n",
    "   1999 \\\\\n",
    "   1997\n",
    "   \\end{bmatrix}\n",
    "   \\qquad\n",
    "   \\text{and}\n",
    "   \\qquad\n",
    "   \\hat{b} = \n",
    "   \\begin{bmatrix}\n",
    "   1998 \\\\\n",
    "   1998\n",
    "   \\end{bmatrix}.\n",
    "   $$\n",
    "   \n",
    "3. We see that $b$ and $\\hat{b}$ are relatively close. Is the same true for $x$ and $\\hat{x}$? Compute the relative errors in $x$ and $b$. What do you observe?"
   ]
  },
  {
   "cell_type": "markdown",
   "metadata": {},
   "source": [
    "---\n",
    "## Worst-case scenario always possible\n",
    "\n",
    "\n",
    "The worst-case scenario is always possible. We just choose $x$ such that\n",
    "\n",
    "$$\n",
    "\\frac{\\lVert Ax \\rVert}{\\lVert x \\rVert} = \n",
    "\\max_{y \\neq 0} \\frac{\\lVert Ay \\rVert}{\\lVert y \\rVert} = \\lVert A \\rVert,\n",
    "$$\n",
    "\n",
    "and choose $\\delta b$ such that\n",
    "\n",
    "$$\n",
    "\\frac{\\lVert A^{-1}\\delta b \\rVert}{\\lVert \\delta b \\rVert} = \n",
    "\\max_{y \\neq 0} \\frac{\\lVert A^{-1}y \\rVert}{\\lVert y \\rVert} = \\lVert A^{-1} \\rVert.\n",
    "$$\n",
    "\n",
    "Then let $b = Ax$ and $\\delta x = A^{-1} \\delta b$, and we obtain\n",
    "\n",
    "$$\n",
    "\\frac{\\lVert \\delta x \\rVert}{\\lVert x \\rVert}\n",
    "= \\kappa(A) \\frac{\\lVert \\delta b \\rVert}{\\lVert b \\rVert}.\n",
    "$$\n"
   ]
  },
  {
   "cell_type": "markdown",
   "metadata": {},
   "source": [
    "---"
   ]
  }
 ],
 "metadata": {
  "anaconda-cloud": {},
  "kernelspec": {
   "display_name": "Julia 1.6.2",
   "language": "julia",
   "name": "julia-1.6"
  },
  "language_info": {
   "file_extension": ".jl",
   "mimetype": "application/julia",
   "name": "julia",
   "version": "1.6.2"
  }
 },
 "nbformat": 4,
 "nbformat_minor": 4
}
