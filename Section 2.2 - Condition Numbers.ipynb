{
 "cells": [
  {
   "cell_type": "markdown",
   "metadata": {},
   "source": [
    "---\n",
    "# Section 2.2: Condition Numbers"
   ]
  },
  {
   "cell_type": "markdown",
   "metadata": {},
   "source": [
    "---\n",
    "\n",
    "Let $A$ be a nonsingular matrix, and suppose we solve \n",
    "\n",
    "$$Ax = b.$$ \n",
    "\n",
    "Due to errors in the data and in the computation using finite precision, we get a solution $\\hat{x}$ that satisfies \n",
    "\n",
    "$$A \\hat{x} = b + \\delta b.$$"
   ]
  },
  {
   "cell_type": "markdown",
   "metadata": {},
   "source": [
    "---\n",
    "\n",
    "## Exercise 1: (Desmos Input 1)\n",
    "\n",
    "1. Let\n",
    "\n",
    "   $$\n",
    "A = \n",
    "\\left[\n",
    "\\begin{array}{cc}\n",
    "5 & 1 \\\\\n",
    "0 & 1 \\\\\n",
    "\\end{array}\n",
    "\\right],\n",
    "\\qquad\n",
    "b = \n",
    "\\left[\n",
    "\\begin{array}{c}\n",
    "7 \\\\\n",
    "2 \\\\\n",
    "\\end{array}\n",
    "\\right],\n",
    "\\qquad\n",
    "\\delta b = \n",
    "\\left[\n",
    "\\begin{array}{c}\n",
    "-1.0 \\\\\n",
    "0.25 \\\\\n",
    "\\end{array}\n",
    "\\right].\n",
    "$$\n",
    "\n",
    "   Solve $Ax = b$ and $A\\hat{x} = b + \\delta b$. Compute $\\|\\delta b\\|$ and $\\|x - \\hat x\\|$.\n",
    "   \n",
    "2. Let\n",
    "\n",
    "   $$\n",
    "A = \n",
    "\\left[\n",
    "\\begin{array}{cc}\n",
    "0.1 & 1 \\\\\n",
    "0 & 1 \\\\\n",
    "\\end{array}\n",
    "\\right],\n",
    "\\qquad\n",
    "b = \n",
    "\\left[\n",
    "\\begin{array}{c}\n",
    "2.1 \\\\\n",
    "2 \\\\\n",
    "\\end{array}\n",
    "\\right],\n",
    "\\qquad\n",
    "\\delta b = \n",
    "\\left[\n",
    "\\begin{array}{c}\n",
    "-0.25 \\\\\n",
    "0.25 \\\\\n",
    "\\end{array}\n",
    "\\right].\n",
    "$$\n",
    "\n",
    "   Solve $Ax = b$ and $A\\hat{x} = b + \\delta b$. Compute $\\|\\delta b\\|$ and $\\|x - \\hat x\\|$.\n",
    "   \n",
    "3. Does small $\\|\\delta b\\|$ imply small $\\|x - \\hat x\\|$?"
   ]
  },
  {
   "cell_type": "code",
   "execution_count": 34,
   "metadata": {},
   "outputs": [],
   "source": [
    "using LinearAlgebra"
   ]
  },
  {
   "cell_type": "markdown",
   "metadata": {},
   "source": [
    "---\n",
    "\n",
    "## Exercise 2: (Desmos Input 2)\n",
    "\n",
    "Run the following code. What do you observe? Why is this happening?"
   ]
  },
  {
   "cell_type": "code",
   "execution_count": 76,
   "metadata": {},
   "outputs": [
    {
     "data": {
      "image/svg+xml": [
       "<?xml version=\"1.0\" encoding=\"utf-8\"?>\n",
       "<svg xmlns=\"http://www.w3.org/2000/svg\" xmlns:xlink=\"http://www.w3.org/1999/xlink\" width=\"1000\" height=\"500\" viewBox=\"0 0 4000 2000\">\n",
       "<defs>\n",
       "  <clipPath id=\"clip1700\">\n",
       "    <rect x=\"0\" y=\"0\" width=\"4000\" height=\"2000\"/>\n",
       "  </clipPath>\n",
       "</defs>\n",
       "<path clip-path=\"url(#clip1700)\" d=\"\n",
       "M0 2000 L4000 2000 L4000 0 L0 0  Z\n",
       "  \" fill=\"#ffffff\" fill-rule=\"evenodd\" fill-opacity=\"1\"/>\n",
       "<defs>\n",
       "  <clipPath id=\"clip1701\">\n",
       "    <rect x=\"800\" y=\"0\" width=\"2801\" height=\"2000\"/>\n",
       "  </clipPath>\n",
       "</defs>\n",
       "<path clip-path=\"url(#clip1700)\" d=\"\n",
       "M157.865 1891.86 L1952.76 1891.86 L1952.76 47.2441 L157.865 47.2441  Z\n",
       "  \" fill=\"#ffffff\" fill-rule=\"evenodd\" fill-opacity=\"1\"/>\n",
       "<defs>\n",
       "  <clipPath id=\"clip1702\">\n",
       "    <rect x=\"157\" y=\"47\" width=\"1796\" height=\"1846\"/>\n",
       "  </clipPath>\n",
       "</defs>\n",
       "<polyline clip-path=\"url(#clip1702)\" style=\"stroke:#000000; stroke-width:2; stroke-opacity:0.1; fill:none\" points=\"\n",
       "  157.865,1891.86 157.865,47.2441 \n",
       "  \"/>\n",
       "<polyline clip-path=\"url(#clip1702)\" style=\"stroke:#000000; stroke-width:2; stroke-opacity:0.1; fill:none\" points=\"\n",
       "  457.013,1891.86 457.013,47.2441 \n",
       "  \"/>\n",
       "<polyline clip-path=\"url(#clip1702)\" style=\"stroke:#000000; stroke-width:2; stroke-opacity:0.1; fill:none\" points=\"\n",
       "  756.162,1891.86 756.162,47.2441 \n",
       "  \"/>\n",
       "<polyline clip-path=\"url(#clip1702)\" style=\"stroke:#000000; stroke-width:2; stroke-opacity:0.1; fill:none\" points=\"\n",
       "  1354.46,1891.86 1354.46,47.2441 \n",
       "  \"/>\n",
       "<polyline clip-path=\"url(#clip1702)\" style=\"stroke:#000000; stroke-width:2; stroke-opacity:0.1; fill:none\" points=\"\n",
       "  1653.61,1891.86 1653.61,47.2441 \n",
       "  \"/>\n",
       "<polyline clip-path=\"url(#clip1702)\" style=\"stroke:#000000; stroke-width:2; stroke-opacity:0.1; fill:none\" points=\"\n",
       "  1952.76,1891.86 1952.76,47.2441 \n",
       "  \"/>\n",
       "<polyline clip-path=\"url(#clip1702)\" style=\"stroke:#000000; stroke-width:2; stroke-opacity:0.1; fill:none\" points=\"\n",
       "  157.865,1891.86 1952.76,1891.86 \n",
       "  \"/>\n",
       "<polyline clip-path=\"url(#clip1702)\" style=\"stroke:#000000; stroke-width:2; stroke-opacity:0.1; fill:none\" points=\"\n",
       "  157.865,1584.42 1952.76,1584.42 \n",
       "  \"/>\n",
       "<polyline clip-path=\"url(#clip1702)\" style=\"stroke:#000000; stroke-width:2; stroke-opacity:0.1; fill:none\" points=\"\n",
       "  157.865,1276.99 1952.76,1276.99 \n",
       "  \"/>\n",
       "<polyline clip-path=\"url(#clip1702)\" style=\"stroke:#000000; stroke-width:2; stroke-opacity:0.1; fill:none\" points=\"\n",
       "  157.865,662.115 1952.76,662.115 \n",
       "  \"/>\n",
       "<polyline clip-path=\"url(#clip1702)\" style=\"stroke:#000000; stroke-width:2; stroke-opacity:0.1; fill:none\" points=\"\n",
       "  157.865,354.68 1952.76,354.68 \n",
       "  \"/>\n",
       "<polyline clip-path=\"url(#clip1702)\" style=\"stroke:#000000; stroke-width:2; stroke-opacity:0.1; fill:none\" points=\"\n",
       "  157.865,47.2441 1952.76,47.2441 \n",
       "  \"/>\n",
       "<polyline clip-path=\"url(#clip1700)\" style=\"stroke:#000000; stroke-width:4; stroke-opacity:1; fill:none\" points=\"\n",
       "  157.865,969.551 1952.76,969.551 \n",
       "  \"/>\n",
       "<polyline clip-path=\"url(#clip1700)\" style=\"stroke:#000000; stroke-width:4; stroke-opacity:1; fill:none\" points=\"\n",
       "  1055.31,1891.86 1055.31,47.2441 \n",
       "  \"/>\n",
       "<polyline clip-path=\"url(#clip1700)\" style=\"stroke:#000000; stroke-width:4; stroke-opacity:1; fill:none\" points=\"\n",
       "  157.865,969.551 157.865,941.882 \n",
       "  \"/>\n",
       "<polyline clip-path=\"url(#clip1700)\" style=\"stroke:#000000; stroke-width:4; stroke-opacity:1; fill:none\" points=\"\n",
       "  457.013,969.551 457.013,941.882 \n",
       "  \"/>\n",
       "<polyline clip-path=\"url(#clip1700)\" style=\"stroke:#000000; stroke-width:4; stroke-opacity:1; fill:none\" points=\"\n",
       "  756.162,969.551 756.162,941.882 \n",
       "  \"/>\n",
       "<polyline clip-path=\"url(#clip1700)\" style=\"stroke:#000000; stroke-width:4; stroke-opacity:1; fill:none\" points=\"\n",
       "  1354.46,969.551 1354.46,941.882 \n",
       "  \"/>\n",
       "<polyline clip-path=\"url(#clip1700)\" style=\"stroke:#000000; stroke-width:4; stroke-opacity:1; fill:none\" points=\"\n",
       "  1653.61,969.551 1653.61,941.882 \n",
       "  \"/>\n",
       "<polyline clip-path=\"url(#clip1700)\" style=\"stroke:#000000; stroke-width:4; stroke-opacity:1; fill:none\" points=\"\n",
       "  1952.76,969.551 1952.76,941.882 \n",
       "  \"/>\n",
       "<polyline clip-path=\"url(#clip1700)\" style=\"stroke:#000000; stroke-width:4; stroke-opacity:1; fill:none\" points=\"\n",
       "  1055.31,1891.86 1082.23,1891.86 \n",
       "  \"/>\n",
       "<polyline clip-path=\"url(#clip1700)\" style=\"stroke:#000000; stroke-width:4; stroke-opacity:1; fill:none\" points=\"\n",
       "  1055.31,1584.42 1082.23,1584.42 \n",
       "  \"/>\n",
       "<polyline clip-path=\"url(#clip1700)\" style=\"stroke:#000000; stroke-width:4; stroke-opacity:1; fill:none\" points=\"\n",
       "  1055.31,1276.99 1082.23,1276.99 \n",
       "  \"/>\n",
       "<polyline clip-path=\"url(#clip1700)\" style=\"stroke:#000000; stroke-width:4; stroke-opacity:1; fill:none\" points=\"\n",
       "  1055.31,662.115 1082.23,662.115 \n",
       "  \"/>\n",
       "<polyline clip-path=\"url(#clip1700)\" style=\"stroke:#000000; stroke-width:4; stroke-opacity:1; fill:none\" points=\"\n",
       "  1055.31,354.68 1082.23,354.68 \n",
       "  \"/>\n",
       "<polyline clip-path=\"url(#clip1700)\" style=\"stroke:#000000; stroke-width:4; stroke-opacity:1; fill:none\" points=\"\n",
       "  1055.31,47.2441 1082.23,47.2441 \n",
       "  \"/>\n",
       "<g clip-path=\"url(#clip1700)\">\n",
       "<text style=\"fill:#000000; fill-opacity:1; font-family:Arial,Helvetica Neue,Helvetica,sans-serif; font-size:48px; text-anchor:middle;\" transform=\"rotate(0, 157.865, 1031.55)\" x=\"157.865\" y=\"1031.55\">-6</text>\n",
       "</g>\n",
       "<g clip-path=\"url(#clip1700)\">\n",
       "<text style=\"fill:#000000; fill-opacity:1; font-family:Arial,Helvetica Neue,Helvetica,sans-serif; font-size:48px; text-anchor:middle;\" transform=\"rotate(0, 457.013, 1031.55)\" x=\"457.013\" y=\"1031.55\">-4</text>\n",
       "</g>\n",
       "<g clip-path=\"url(#clip1700)\">\n",
       "<text style=\"fill:#000000; fill-opacity:1; font-family:Arial,Helvetica Neue,Helvetica,sans-serif; font-size:48px; text-anchor:middle;\" transform=\"rotate(0, 756.162, 1031.55)\" x=\"756.162\" y=\"1031.55\">-2</text>\n",
       "</g>\n",
       "<g clip-path=\"url(#clip1700)\">\n",
       "<text style=\"fill:#000000; fill-opacity:1; font-family:Arial,Helvetica Neue,Helvetica,sans-serif; font-size:48px; text-anchor:middle;\" transform=\"rotate(0, 1354.46, 1031.55)\" x=\"1354.46\" y=\"1031.55\">2</text>\n",
       "</g>\n",
       "<g clip-path=\"url(#clip1700)\">\n",
       "<text style=\"fill:#000000; fill-opacity:1; font-family:Arial,Helvetica Neue,Helvetica,sans-serif; font-size:48px; text-anchor:middle;\" transform=\"rotate(0, 1653.61, 1031.55)\" x=\"1653.61\" y=\"1031.55\">4</text>\n",
       "</g>\n",
       "<g clip-path=\"url(#clip1700)\">\n",
       "<text style=\"fill:#000000; fill-opacity:1; font-family:Arial,Helvetica Neue,Helvetica,sans-serif; font-size:48px; text-anchor:middle;\" transform=\"rotate(0, 1952.76, 1031.55)\" x=\"1952.76\" y=\"1031.55\">6</text>\n",
       "</g>\n",
       "<g clip-path=\"url(#clip1700)\">\n",
       "<text style=\"fill:#000000; fill-opacity:1; font-family:Arial,Helvetica Neue,Helvetica,sans-serif; font-size:48px; text-anchor:end;\" transform=\"rotate(0, 1015.31, 1909.36)\" x=\"1015.31\" y=\"1909.36\">-6</text>\n",
       "</g>\n",
       "<g clip-path=\"url(#clip1700)\">\n",
       "<text style=\"fill:#000000; fill-opacity:1; font-family:Arial,Helvetica Neue,Helvetica,sans-serif; font-size:48px; text-anchor:end;\" transform=\"rotate(0, 1015.31, 1601.92)\" x=\"1015.31\" y=\"1601.92\">-4</text>\n",
       "</g>\n",
       "<g clip-path=\"url(#clip1700)\">\n",
       "<text style=\"fill:#000000; fill-opacity:1; font-family:Arial,Helvetica Neue,Helvetica,sans-serif; font-size:48px; text-anchor:end;\" transform=\"rotate(0, 1015.31, 1294.49)\" x=\"1015.31\" y=\"1294.49\">-2</text>\n",
       "</g>\n",
       "<g clip-path=\"url(#clip1700)\">\n",
       "<text style=\"fill:#000000; fill-opacity:1; font-family:Arial,Helvetica Neue,Helvetica,sans-serif; font-size:48px; text-anchor:end;\" transform=\"rotate(0, 1015.31, 679.615)\" x=\"1015.31\" y=\"679.615\">2</text>\n",
       "</g>\n",
       "<g clip-path=\"url(#clip1700)\">\n",
       "<text style=\"fill:#000000; fill-opacity:1; font-family:Arial,Helvetica Neue,Helvetica,sans-serif; font-size:48px; text-anchor:end;\" transform=\"rotate(0, 1015.31, 372.18)\" x=\"1015.31\" y=\"372.18\">4</text>\n",
       "</g>\n",
       "<g clip-path=\"url(#clip1700)\">\n",
       "<text style=\"fill:#000000; fill-opacity:1; font-family:Arial,Helvetica Neue,Helvetica,sans-serif; font-size:48px; text-anchor:end;\" transform=\"rotate(0, 1015.31, 64.7441)\" x=\"1015.31\" y=\"64.7441\">6</text>\n",
       "</g>\n",
       "<polyline clip-path=\"url(#clip1702)\" style=\"stroke:#ff0000; stroke-width:4; stroke-opacity:1; fill:none\" points=\"\n",
       "  157.865,-4718.01 175.393,-4627.94 337.47,-3795.1 434.872,-3294.6 517.224,-2871.44 606.681,-2411.76 689.152,-1987.98 777.57,-1533.64 880.012,-1007.25 971.049,-539.45 \n",
       "  1050.88,-129.233 1137.92,318.013 1225.47,767.917 1322.28,1265.34 1414.38,1738.63 1510.15,2230.74 1590.77,2645 1689.2,3150.75 1781.72,3626.18 1929.94,4387.84 \n",
       "  1952.76,4505.06 \n",
       "  \"/>\n",
       "<polyline clip-path=\"url(#clip1702)\" style=\"stroke:#ff0000; stroke-width:4; stroke-opacity:1; fill:none\" points=\"\n",
       "  157.865,662.115 175.393,662.115 337.47,662.115 434.872,662.115 517.224,662.115 606.681,662.115 689.152,662.115 777.57,662.115 880.012,662.115 971.049,662.115 \n",
       "  1050.88,662.115 1137.92,662.115 1225.47,662.115 1322.28,662.115 1414.38,662.115 1510.15,662.115 1590.77,662.115 1689.2,662.115 1781.72,662.115 1929.94,662.115 \n",
       "  1952.76,662.115 \n",
       "  \"/>\n",
       "<circle clip-path=\"url(#clip1702)\" style=\"fill:#000000; stroke:none; fill-opacity:1\" cx=\"1204.88\" cy=\"662.115\" r=\"18\"/>\n",
       "<circle clip-path=\"url(#clip1702)\" style=\"fill:#ff0000; stroke:none; fill-opacity:1\" cx=\"1204.88\" cy=\"662.115\" r=\"14\"/>\n",
       "<polyline clip-path=\"url(#clip1702)\" style=\"stroke:#0000ff; stroke-width:4; stroke-opacity:1; fill:none\" stroke-dasharray=\"16, 10\" points=\"\n",
       "  157.865,-4564.29 175.393,-4474.22 337.47,-3641.39 434.872,-3140.89 517.224,-2717.72 606.681,-2258.04 689.152,-1834.26 777.57,-1379.92 880.012,-853.53 971.049,-385.732 \n",
       "  1050.88,24.4847 1137.92,471.731 1225.47,921.635 1322.28,1419.06 1414.38,1892.35 1510.15,2384.46 1590.77,2798.71 1689.2,3304.47 1781.72,3779.89 1929.94,4541.56 \n",
       "  1952.76,4658.78 \n",
       "  \"/>\n",
       "<polyline clip-path=\"url(#clip1702)\" style=\"stroke:#0000ff; stroke-width:4; stroke-opacity:1; fill:none\" stroke-dasharray=\"16, 10\" points=\"\n",
       "  157.865,623.686 175.393,623.686 337.47,623.686 434.872,623.686 517.224,623.686 606.681,623.686 689.152,623.686 777.57,623.686 880.012,623.686 971.049,623.686 \n",
       "  1050.88,623.686 1137.92,623.686 1225.47,623.686 1322.28,623.686 1414.38,623.686 1510.15,623.686 1590.77,623.686 1689.2,623.686 1781.72,623.686 1929.94,623.686 \n",
       "  1952.76,623.686 \n",
       "  \"/>\n",
       "<circle clip-path=\"url(#clip1702)\" style=\"fill:#000000; stroke:none; fill-opacity:1\" cx=\"1167.49\" cy=\"623.686\" r=\"18\"/>\n",
       "<circle clip-path=\"url(#clip1702)\" style=\"fill:#0000ff; stroke:none; fill-opacity:1\" cx=\"1167.49\" cy=\"623.686\" r=\"14\"/>\n",
       "<path clip-path=\"url(#clip1700)\" d=\"\n",
       "M2157.86 1891.86 L3952.76 1891.86 L3952.76 47.2441 L2157.86 47.2441  Z\n",
       "  \" fill=\"#ffffff\" fill-rule=\"evenodd\" fill-opacity=\"1\"/>\n",
       "<defs>\n",
       "  <clipPath id=\"clip1703\">\n",
       "    <rect x=\"2157\" y=\"47\" width=\"1796\" height=\"1846\"/>\n",
       "  </clipPath>\n",
       "</defs>\n",
       "<polyline clip-path=\"url(#clip1703)\" style=\"stroke:#000000; stroke-width:2; stroke-opacity:0.1; fill:none\" points=\"\n",
       "  2157.86,1891.86 2157.86,47.2441 \n",
       "  \"/>\n",
       "<polyline clip-path=\"url(#clip1703)\" style=\"stroke:#000000; stroke-width:2; stroke-opacity:0.1; fill:none\" points=\"\n",
       "  2457.01,1891.86 2457.01,47.2441 \n",
       "  \"/>\n",
       "<polyline clip-path=\"url(#clip1703)\" style=\"stroke:#000000; stroke-width:2; stroke-opacity:0.1; fill:none\" points=\"\n",
       "  2756.16,1891.86 2756.16,47.2441 \n",
       "  \"/>\n",
       "<polyline clip-path=\"url(#clip1703)\" style=\"stroke:#000000; stroke-width:2; stroke-opacity:0.1; fill:none\" points=\"\n",
       "  3354.46,1891.86 3354.46,47.2441 \n",
       "  \"/>\n",
       "<polyline clip-path=\"url(#clip1703)\" style=\"stroke:#000000; stroke-width:2; stroke-opacity:0.1; fill:none\" points=\"\n",
       "  3653.61,1891.86 3653.61,47.2441 \n",
       "  \"/>\n",
       "<polyline clip-path=\"url(#clip1703)\" style=\"stroke:#000000; stroke-width:2; stroke-opacity:0.1; fill:none\" points=\"\n",
       "  3952.76,1891.86 3952.76,47.2441 \n",
       "  \"/>\n",
       "<polyline clip-path=\"url(#clip1703)\" style=\"stroke:#000000; stroke-width:2; stroke-opacity:0.1; fill:none\" points=\"\n",
       "  2157.86,1891.86 3952.76,1891.86 \n",
       "  \"/>\n",
       "<polyline clip-path=\"url(#clip1703)\" style=\"stroke:#000000; stroke-width:2; stroke-opacity:0.1; fill:none\" points=\"\n",
       "  2157.86,1584.42 3952.76,1584.42 \n",
       "  \"/>\n",
       "<polyline clip-path=\"url(#clip1703)\" style=\"stroke:#000000; stroke-width:2; stroke-opacity:0.1; fill:none\" points=\"\n",
       "  2157.86,1276.99 3952.76,1276.99 \n",
       "  \"/>\n",
       "<polyline clip-path=\"url(#clip1703)\" style=\"stroke:#000000; stroke-width:2; stroke-opacity:0.1; fill:none\" points=\"\n",
       "  2157.86,662.115 3952.76,662.115 \n",
       "  \"/>\n",
       "<polyline clip-path=\"url(#clip1703)\" style=\"stroke:#000000; stroke-width:2; stroke-opacity:0.1; fill:none\" points=\"\n",
       "  2157.86,354.68 3952.76,354.68 \n",
       "  \"/>\n",
       "<polyline clip-path=\"url(#clip1703)\" style=\"stroke:#000000; stroke-width:2; stroke-opacity:0.1; fill:none\" points=\"\n",
       "  2157.86,47.2441 3952.76,47.2441 \n",
       "  \"/>\n",
       "<polyline clip-path=\"url(#clip1700)\" style=\"stroke:#000000; stroke-width:4; stroke-opacity:1; fill:none\" points=\"\n",
       "  2157.86,969.551 3952.76,969.551 \n",
       "  \"/>\n",
       "<polyline clip-path=\"url(#clip1700)\" style=\"stroke:#000000; stroke-width:4; stroke-opacity:1; fill:none\" points=\"\n",
       "  3055.31,1891.86 3055.31,47.2441 \n",
       "  \"/>\n",
       "<polyline clip-path=\"url(#clip1700)\" style=\"stroke:#000000; stroke-width:4; stroke-opacity:1; fill:none\" points=\"\n",
       "  2157.86,969.551 2157.86,941.882 \n",
       "  \"/>\n",
       "<polyline clip-path=\"url(#clip1700)\" style=\"stroke:#000000; stroke-width:4; stroke-opacity:1; fill:none\" points=\"\n",
       "  2457.01,969.551 2457.01,941.882 \n",
       "  \"/>\n",
       "<polyline clip-path=\"url(#clip1700)\" style=\"stroke:#000000; stroke-width:4; stroke-opacity:1; fill:none\" points=\"\n",
       "  2756.16,969.551 2756.16,941.882 \n",
       "  \"/>\n",
       "<polyline clip-path=\"url(#clip1700)\" style=\"stroke:#000000; stroke-width:4; stroke-opacity:1; fill:none\" points=\"\n",
       "  3354.46,969.551 3354.46,941.882 \n",
       "  \"/>\n",
       "<polyline clip-path=\"url(#clip1700)\" style=\"stroke:#000000; stroke-width:4; stroke-opacity:1; fill:none\" points=\"\n",
       "  3653.61,969.551 3653.61,941.882 \n",
       "  \"/>\n",
       "<polyline clip-path=\"url(#clip1700)\" style=\"stroke:#000000; stroke-width:4; stroke-opacity:1; fill:none\" points=\"\n",
       "  3952.76,969.551 3952.76,941.882 \n",
       "  \"/>\n",
       "<polyline clip-path=\"url(#clip1700)\" style=\"stroke:#000000; stroke-width:4; stroke-opacity:1; fill:none\" points=\"\n",
       "  3055.31,1891.86 3082.23,1891.86 \n",
       "  \"/>\n",
       "<polyline clip-path=\"url(#clip1700)\" style=\"stroke:#000000; stroke-width:4; stroke-opacity:1; fill:none\" points=\"\n",
       "  3055.31,1584.42 3082.23,1584.42 \n",
       "  \"/>\n",
       "<polyline clip-path=\"url(#clip1700)\" style=\"stroke:#000000; stroke-width:4; stroke-opacity:1; fill:none\" points=\"\n",
       "  3055.31,1276.99 3082.23,1276.99 \n",
       "  \"/>\n",
       "<polyline clip-path=\"url(#clip1700)\" style=\"stroke:#000000; stroke-width:4; stroke-opacity:1; fill:none\" points=\"\n",
       "  3055.31,662.115 3082.23,662.115 \n",
       "  \"/>\n",
       "<polyline clip-path=\"url(#clip1700)\" style=\"stroke:#000000; stroke-width:4; stroke-opacity:1; fill:none\" points=\"\n",
       "  3055.31,354.68 3082.23,354.68 \n",
       "  \"/>\n",
       "<polyline clip-path=\"url(#clip1700)\" style=\"stroke:#000000; stroke-width:4; stroke-opacity:1; fill:none\" points=\"\n",
       "  3055.31,47.2441 3082.23,47.2441 \n",
       "  \"/>\n",
       "<g clip-path=\"url(#clip1700)\">\n",
       "<text style=\"fill:#000000; fill-opacity:1; font-family:Arial,Helvetica Neue,Helvetica,sans-serif; font-size:48px; text-anchor:middle;\" transform=\"rotate(0, 2157.86, 1031.55)\" x=\"2157.86\" y=\"1031.55\">-6</text>\n",
       "</g>\n",
       "<g clip-path=\"url(#clip1700)\">\n",
       "<text style=\"fill:#000000; fill-opacity:1; font-family:Arial,Helvetica Neue,Helvetica,sans-serif; font-size:48px; text-anchor:middle;\" transform=\"rotate(0, 2457.01, 1031.55)\" x=\"2457.01\" y=\"1031.55\">-4</text>\n",
       "</g>\n",
       "<g clip-path=\"url(#clip1700)\">\n",
       "<text style=\"fill:#000000; fill-opacity:1; font-family:Arial,Helvetica Neue,Helvetica,sans-serif; font-size:48px; text-anchor:middle;\" transform=\"rotate(0, 2756.16, 1031.55)\" x=\"2756.16\" y=\"1031.55\">-2</text>\n",
       "</g>\n",
       "<g clip-path=\"url(#clip1700)\">\n",
       "<text style=\"fill:#000000; fill-opacity:1; font-family:Arial,Helvetica Neue,Helvetica,sans-serif; font-size:48px; text-anchor:middle;\" transform=\"rotate(0, 3354.46, 1031.55)\" x=\"3354.46\" y=\"1031.55\">2</text>\n",
       "</g>\n",
       "<g clip-path=\"url(#clip1700)\">\n",
       "<text style=\"fill:#000000; fill-opacity:1; font-family:Arial,Helvetica Neue,Helvetica,sans-serif; font-size:48px; text-anchor:middle;\" transform=\"rotate(0, 3653.61, 1031.55)\" x=\"3653.61\" y=\"1031.55\">4</text>\n",
       "</g>\n",
       "<g clip-path=\"url(#clip1700)\">\n",
       "<text style=\"fill:#000000; fill-opacity:1; font-family:Arial,Helvetica Neue,Helvetica,sans-serif; font-size:48px; text-anchor:middle;\" transform=\"rotate(0, 3952.76, 1031.55)\" x=\"3952.76\" y=\"1031.55\">6</text>\n",
       "</g>\n",
       "<g clip-path=\"url(#clip1700)\">\n",
       "<text style=\"fill:#000000; fill-opacity:1; font-family:Arial,Helvetica Neue,Helvetica,sans-serif; font-size:48px; text-anchor:end;\" transform=\"rotate(0, 3015.31, 1909.36)\" x=\"3015.31\" y=\"1909.36\">-6</text>\n",
       "</g>\n",
       "<g clip-path=\"url(#clip1700)\">\n",
       "<text style=\"fill:#000000; fill-opacity:1; font-family:Arial,Helvetica Neue,Helvetica,sans-serif; font-size:48px; text-anchor:end;\" transform=\"rotate(0, 3015.31, 1601.92)\" x=\"3015.31\" y=\"1601.92\">-4</text>\n",
       "</g>\n",
       "<g clip-path=\"url(#clip1700)\">\n",
       "<text style=\"fill:#000000; fill-opacity:1; font-family:Arial,Helvetica Neue,Helvetica,sans-serif; font-size:48px; text-anchor:end;\" transform=\"rotate(0, 3015.31, 1294.49)\" x=\"3015.31\" y=\"1294.49\">-2</text>\n",
       "</g>\n",
       "<g clip-path=\"url(#clip1700)\">\n",
       "<text style=\"fill:#000000; fill-opacity:1; font-family:Arial,Helvetica Neue,Helvetica,sans-serif; font-size:48px; text-anchor:end;\" transform=\"rotate(0, 3015.31, 679.615)\" x=\"3015.31\" y=\"679.615\">2</text>\n",
       "</g>\n",
       "<g clip-path=\"url(#clip1700)\">\n",
       "<text style=\"fill:#000000; fill-opacity:1; font-family:Arial,Helvetica Neue,Helvetica,sans-serif; font-size:48px; text-anchor:end;\" transform=\"rotate(0, 3015.31, 372.18)\" x=\"3015.31\" y=\"372.18\">4</text>\n",
       "</g>\n",
       "<g clip-path=\"url(#clip1700)\">\n",
       "<text style=\"fill:#000000; fill-opacity:1; font-family:Arial,Helvetica Neue,Helvetica,sans-serif; font-size:48px; text-anchor:end;\" transform=\"rotate(0, 3015.31, 64.7441)\" x=\"3015.31\" y=\"64.7441\">6</text>\n",
       "</g>\n",
       "<polyline clip-path=\"url(#clip1703)\" style=\"stroke:#ff0000; stroke-width:4; stroke-opacity:1; fill:none\" points=\"\n",
       "  2157.86,554.513 2175.39,556.314 2337.47,572.971 2434.87,582.981 2517.22,591.444 2606.68,600.638 2689.15,609.113 2777.57,618.2 2880.01,628.728 2971.05,638.084 \n",
       "  3050.88,646.288 3137.92,655.233 3225.47,664.231 3322.28,674.18 3414.38,683.646 3510.15,693.488 3590.77,701.773 3689.2,711.888 3781.72,721.397 3929.94,736.63 \n",
       "  3952.76,738.974 \n",
       "  \"/>\n",
       "<polyline clip-path=\"url(#clip1703)\" style=\"stroke:#ff0000; stroke-width:4; stroke-opacity:1; fill:none\" points=\"\n",
       "  2157.86,662.115 2175.39,662.115 2337.47,662.115 2434.87,662.115 2517.22,662.115 2606.68,662.115 2689.15,662.115 2777.57,662.115 2880.01,662.115 2971.05,662.115 \n",
       "  3050.88,662.115 3137.92,662.115 3225.47,662.115 3322.28,662.115 3414.38,662.115 3510.15,662.115 3590.77,662.115 3689.2,662.115 3781.72,662.115 3929.94,662.115 \n",
       "  3952.76,662.115 \n",
       "  \"/>\n",
       "<circle clip-path=\"url(#clip1703)\" style=\"fill:#000000; stroke:none; fill-opacity:1\" cx=\"3204.88\" cy=\"662.115\" r=\"18\"/>\n",
       "<circle clip-path=\"url(#clip1703)\" style=\"fill:#ff0000; stroke:none; fill-opacity:1\" cx=\"3204.88\" cy=\"662.115\" r=\"14\"/>\n",
       "<polyline clip-path=\"url(#clip1703)\" style=\"stroke:#0000ff; stroke-width:4; stroke-opacity:1; fill:none\" stroke-dasharray=\"16, 10\" points=\"\n",
       "  2157.86,592.942 2175.39,594.744 2337.47,611.4 2434.87,621.41 2517.22,629.874 2606.68,639.067 2689.15,647.543 2777.57,656.63 2880.01,667.158 2971.05,676.514 \n",
       "  3050.88,684.718 3137.92,693.663 3225.47,702.661 3322.28,712.609 3414.38,722.075 3510.15,731.917 3590.77,740.202 3689.2,750.318 3781.72,759.826 3929.94,775.059 \n",
       "  3952.76,777.404 \n",
       "  \"/>\n",
       "<polyline clip-path=\"url(#clip1703)\" style=\"stroke:#0000ff; stroke-width:4; stroke-opacity:1; fill:none\" stroke-dasharray=\"16, 10\" points=\"\n",
       "  2157.86,623.686 2175.39,623.686 2337.47,623.686 2434.87,623.686 2517.22,623.686 2606.68,623.686 2689.15,623.686 2777.57,623.686 2880.01,623.686 2971.05,623.686 \n",
       "  3050.88,623.686 3137.92,623.686 3225.47,623.686 3322.28,623.686 3414.38,623.686 3510.15,623.686 3590.77,623.686 3689.2,623.686 3781.72,623.686 3929.94,623.686 \n",
       "  3952.76,623.686 \n",
       "  \"/>\n",
       "<circle clip-path=\"url(#clip1703)\" style=\"fill:#000000; stroke:none; fill-opacity:1\" cx=\"2457.01\" cy=\"623.686\" r=\"18\"/>\n",
       "<circle clip-path=\"url(#clip1703)\" style=\"fill:#0000ff; stroke:none; fill-opacity:1\" cx=\"2457.01\" cy=\"623.686\" r=\"14\"/>\n",
       "</svg>\n"
      ]
     },
     "execution_count": 76,
     "metadata": {},
     "output_type": "execute_result"
    }
   ],
   "source": [
    "using Plots\n",
    "\n",
    "function ploteqns!(plt, A, x, b; color=:red, style=:solid)\n",
    "    # Plot A*x = b equations and solution\n",
    "    for i = 1:2\n",
    "        plot!(plt, x -> (b[i] - A[i,1]*x)/A[i,2], -6, 6, c=color, s=style)\n",
    "    end\n",
    "    plot!(plt, [x[1]], [x[2]], markershape=:circle, markersize=4, c=color)\n",
    "end\n",
    "\n",
    "function myplot(A, b, δb; limits=(-6,6), pltsize=(600,600))\n",
    "    xtrue = A\\b\n",
    "    bhat = b + δb\n",
    "    xhat = A\\bhat\n",
    "    plt = plot(xlim=limits, ylim=limits, size=pltsize, framestyle=:origin, legend=false)\n",
    "    ploteqns!(plt, A, xtrue, b)\n",
    "    ploteqns!(plt, A, xhat, bhat; color=:blue, style=:dash)\n",
    "end\n",
    "\n",
    "A = [5 1; 0 1.0]\n",
    "b = [7, 2.0]\n",
    "δb = [-1, .25]\n",
    "plt1 = myplot(A, b, δb)\n",
    "\n",
    "A = [0.1 1; 0 1]\n",
    "b = [2.1, 2]\n",
    "δb = [-.25, .25]\n",
    "plt2 = myplot(A, b, δb)\n",
    "\n",
    "plot(plt1, plt2, size=(1000, 500))"
   ]
  },
  {
   "cell_type": "markdown",
   "metadata": {},
   "source": [
    "---\n",
    "\n",
    "For the matrix \n",
    "\n",
    "$$\n",
    "A = \n",
    "\\left[\n",
    "\\begin{array}{cc}\n",
    "5 & 1 \\\\\n",
    "0 & 1 \\\\\n",
    "\\end{array}\n",
    "\\right],\n",
    "$$\n",
    "\n",
    "a small $\\delta b$ resulted in $\\hat{x} \\approx x$.  That is,\n",
    "\n",
    "$$\n",
    "\\lVert \\delta b \\rVert \\text{ small} \\quad \\implies \\quad \\lVert \\delta x \\rVert = \\lVert \\hat{x} - x \\rVert \\text{ small}.\n",
    "$$\n",
    "\n",
    "When this happens, we say that the matrix $A$ is **well-conditioned**.\n",
    "\n",
    "For the matrix \n",
    "\n",
    "$$\n",
    "A = \n",
    "\\left[\n",
    "\\begin{array}{cc}\n",
    "0.1 & 1 \\\\\n",
    "0 & 1 \\\\\n",
    "\\end{array}\n",
    "\\right],\n",
    "$$\n",
    "\n",
    "even though $\\lVert \\delta b \\rVert$ was small, we got a large error $\\lVert \\delta x \\rVert = \\lVert \\hat{x} - x \\rVert$.\n",
    "\n",
    "When this happens, we say that the matrix $A$ is **ill-conditioned**."
   ]
  },
  {
   "cell_type": "markdown",
   "metadata": {},
   "source": [
    "---"
   ]
  },
  {
   "cell_type": "markdown",
   "metadata": {},
   "source": [
    "## The condition number of $A$\n",
    "\n",
    "We want to estimate the **relative error** in computing $x$,\n",
    "\n",
    "$$\n",
    "\\frac{\\lVert \\delta x \\rVert}{\\lVert x \\rVert},\n",
    "$$\n",
    "\n",
    "in terms of the **relative error** in $b$,\n",
    "\n",
    "$$\n",
    "\\frac{\\lVert \\delta b \\rVert}{\\lVert b \\rVert},\n",
    "$$\n",
    "\n",
    "where\n",
    "\n",
    "$$\n",
    "Ax = b \\qquad \\text{and} \\qquad A(x + \\delta x) = b + \\delta b.\n",
    "$$\n",
    "\n",
    "The **condition number** of $A$ is\n",
    "\n",
    "$$\n",
    "\\kappa(A) = \\lVert A \\rVert \\lVert A^{-1} \\rVert.\n",
    "$$"
   ]
  },
  {
   "cell_type": "markdown",
   "metadata": {},
   "source": [
    "> ### Theorem: (Relative error bound)\n",
    "> \n",
    "> Let $A$ be nonsingular, $b \\neq 0$, and $Ax = b$. If \n",
    ">\n",
    "> $$A(x + \\delta x) = b + \\delta b,$$\n",
    ">\n",
    "> then\n",
    ">\n",
    "> $$\n",
    "\\frac{\\lVert \\delta x \\rVert}{\\lVert x \\rVert}\n",
    "\\leq \\kappa(A) \\frac{\\lVert \\delta b \\rVert}{\\lVert b \\rVert}.\n",
    "$$\n"
   ]
  },
  {
   "cell_type": "markdown",
   "metadata": {},
   "source": [
    "If $\\kappa(A)$ is **small**, then\n",
    "\n",
    "$$\n",
    "\\frac{\\lVert \\delta b \\rVert}{\\lVert b \\rVert} \\text{ small} \\quad \\implies \\quad \\frac{\\lVert \\delta x \\rVert}{\\lVert x \\rVert} \\text{ small},\n",
    "$$\n",
    "\n",
    "so $A$ is **well-conditioned**.\n"
   ]
  },
  {
   "cell_type": "markdown",
   "metadata": {},
   "source": [
    "If $\\kappa(A)$ is **large**, then it is possible to have \n",
    "\n",
    "$$\n",
    "\\frac{\\lVert \\delta b \\rVert}{\\lVert b \\rVert} \\text{ small} \\quad \\text{and} \\quad \\frac{\\lVert \\delta x \\rVert}{\\lVert x \\rVert} \\text{ large},\n",
    "$$\n",
    "\n",
    "so $A$ is **badly conditioned**."
   ]
  },
  {
   "cell_type": "markdown",
   "metadata": {},
   "source": [
    "---"
   ]
  },
  {
   "cell_type": "markdown",
   "metadata": {},
   "source": [
    "## `cond`"
   ]
  },
  {
   "cell_type": "code",
   "execution_count": 2,
   "metadata": {},
   "outputs": [
    {
     "name": "stdout",
     "output_type": "stream",
     "text": [
      "search: cond Conda condskeel Condition contour3D contourf3D macroexpand\n",
      "\n"
     ]
    },
    {
     "data": {
      "text/markdown": [
       "```\n",
       "cond(M, [p])\n",
       "```\n",
       "\n",
       "Condition number of the matrix `M`, computed using the operator `p`-norm. Valid values for `p` are `1`, `2` (default), or `Inf`.\n"
      ],
      "text/plain": [
       "```\n",
       "cond(M, [p])\n",
       "```\n",
       "\n",
       "Condition number of the matrix `M`, computed using the operator `p`-norm. Valid values for `p` are `1`, `2` (default), or `Inf`.\n"
      ]
     },
     "execution_count": 2,
     "metadata": {},
     "output_type": "execute_result"
    }
   ],
   "source": [
    "?cond"
   ]
  },
  {
   "cell_type": "code",
   "execution_count": 3,
   "metadata": {},
   "outputs": [
    {
     "data": {
      "text/plain": [
       "5.20798724079689"
      ]
     },
     "execution_count": 3,
     "metadata": {},
     "output_type": "execute_result"
    }
   ],
   "source": [
    "# The well-conditioned A\n",
    "A = [5 1; 0 1]\n",
    "cond(A)"
   ]
  },
  {
   "cell_type": "code",
   "execution_count": 4,
   "metadata": {},
   "outputs": [
    {
     "data": {
      "text/plain": [
       "5.20798724079689"
      ]
     },
     "execution_count": 4,
     "metadata": {},
     "output_type": "execute_result"
    }
   ],
   "source": [
    "norm(A)*norm(inv(A))"
   ]
  },
  {
   "cell_type": "code",
   "execution_count": 5,
   "metadata": {},
   "outputs": [
    {
     "data": {
      "text/plain": [
       "20.050124999218763"
      ]
     },
     "execution_count": 5,
     "metadata": {},
     "output_type": "execute_result"
    }
   ],
   "source": [
    "# The ill-conditioned A\n",
    "A = [.1 1; 0 1]\n",
    "cond(A)"
   ]
  },
  {
   "cell_type": "markdown",
   "metadata": {},
   "source": [
    "---"
   ]
  },
  {
   "cell_type": "markdown",
   "metadata": {},
   "source": [
    "## An extreme example\n",
    "\n",
    "$$\n",
    "A = \n",
    "\\begin{bmatrix}\n",
    "1000 & 999 \\\\\n",
    "999 & 998 \\\\\n",
    "\\end{bmatrix},\n",
    "\\qquad\n",
    "A^{-1} = \n",
    "\\begin{bmatrix}\n",
    "-998 & 999 \\\\\n",
    "999 & -1000 \\\\\n",
    "\\end{bmatrix}\n",
    "$$"
   ]
  },
  {
   "cell_type": "code",
   "execution_count": 6,
   "metadata": {},
   "outputs": [
    {
     "data": {
      "text/plain": [
       "2x2 Array{Int64,2}:\n",
       " 1000  999\n",
       "  999  998"
      ]
     },
     "execution_count": 6,
     "metadata": {},
     "output_type": "execute_result"
    }
   ],
   "source": [
    "A = [1000 999; 999 998]"
   ]
  },
  {
   "cell_type": "code",
   "execution_count": 7,
   "metadata": {},
   "outputs": [
    {
     "data": {
      "text/plain": [
       "-0.9999999999763531"
      ]
     },
     "execution_count": 7,
     "metadata": {},
     "output_type": "execute_result"
    }
   ],
   "source": [
    "det(A)"
   ]
  },
  {
   "cell_type": "code",
   "execution_count": 8,
   "metadata": {},
   "outputs": [
    {
     "data": {
      "text/plain": [
       "3.9920059997083056e6"
      ]
     },
     "execution_count": 8,
     "metadata": {},
     "output_type": "execute_result"
    }
   ],
   "source": [
    "cond(A)"
   ]
  },
  {
   "cell_type": "markdown",
   "metadata": {},
   "source": [
    "Thus,\n",
    "\n",
    "$$\n",
    "\\kappa(A) \\approx 4 \\times 10^6.\n",
    "$$\n",
    "\n",
    "This is a very ill-conditioned matrix."
   ]
  },
  {
   "cell_type": "code",
   "execution_count": 9,
   "metadata": {},
   "outputs": [
    {
     "data": {
      "text/plain": [
       "2-element Array{Int64,1}:\n",
       " 1999\n",
       " 1997"
      ]
     },
     "execution_count": 9,
     "metadata": {},
     "output_type": "execute_result"
    }
   ],
   "source": [
    "x = [1; 1]\n",
    "b = A*x"
   ]
  },
  {
   "cell_type": "code",
   "execution_count": 10,
   "metadata": {},
   "outputs": [
    {
     "data": {
      "text/plain": [
       "2-element Array{Float64,1}:\n",
       "  1998.0\n",
       " -1998.0"
      ]
     },
     "execution_count": 10,
     "metadata": {},
     "output_type": "execute_result"
    }
   ],
   "source": [
    "δb = [-1; 1]\n",
    "xhat = A\\(b + δb)"
   ]
  },
  {
   "cell_type": "code",
   "execution_count": 11,
   "metadata": {},
   "outputs": [
    {
     "data": {
      "text/plain": [
       "2-element Array{Float64,1}:\n",
       "  1997.0\n",
       " -1999.0"
      ]
     },
     "execution_count": 11,
     "metadata": {},
     "output_type": "execute_result"
    }
   ],
   "source": [
    "δx = xhat - x"
   ]
  },
  {
   "cell_type": "code",
   "execution_count": 12,
   "metadata": {},
   "outputs": [
    {
     "data": {
      "text/plain": [
       "0.0005005004378126367"
      ]
     },
     "execution_count": 12,
     "metadata": {},
     "output_type": "execute_result"
    }
   ],
   "source": [
    "norm(δb)/norm(b)"
   ]
  },
  {
   "cell_type": "code",
   "execution_count": 13,
   "metadata": {},
   "outputs": [
    {
     "data": {
      "text/plain": [
       "1998.0002502975044"
      ]
     },
     "execution_count": 13,
     "metadata": {},
     "output_type": "execute_result"
    }
   ],
   "source": [
    "norm(δx)/norm(x)"
   ]
  },
  {
   "cell_type": "markdown",
   "metadata": {},
   "source": [
    "So we see that the relative error in $b$ is very small, but the relative error in $x$ is very large."
   ]
  },
  {
   "cell_type": "markdown",
   "metadata": {},
   "source": [
    "**Note**:\n",
    "\n",
    "The worst-case scenario is always possible. We just choose $x$ such that\n",
    "\n",
    "$$\n",
    "\\frac{\\lVert Ax \\rVert}{\\lVert x \\rVert} = \n",
    "\\max_{y \\neq 0} \\frac{\\lVert Ay \\rVert}{\\lVert y \\rVert} = \\lVert A \\rVert,\n",
    "$$\n",
    "\n",
    "and choose $\\delta b$ such that\n",
    "\n",
    "$$\n",
    "\\frac{\\lVert A^{-1}\\delta b \\rVert}{\\lVert \\delta b \\rVert} = \n",
    "\\max_{y \\neq 0} \\frac{\\lVert A^{-1}y \\rVert}{\\lVert y \\rVert} = \\lVert A^{-1} \\rVert.\n",
    "$$\n",
    "\n",
    "Then let $b = Ax$ and $\\delta x = A^{-1} \\delta b$, and we obtain\n",
    "\n",
    "$$\n",
    "\\frac{\\lVert \\delta x \\rVert}{\\lVert x \\rVert}\n",
    "= \\kappa(A) \\frac{\\lVert \\delta b \\rVert}{\\lVert b \\rVert}.\n",
    "$$\n"
   ]
  },
  {
   "cell_type": "markdown",
   "metadata": {},
   "source": [
    "---"
   ]
  }
 ],
 "metadata": {
  "anaconda-cloud": {},
  "kernelspec": {
   "display_name": "Julia 1.2.0",
   "language": "julia",
   "name": "julia-1.2"
  },
  "language_info": {
   "file_extension": ".jl",
   "mimetype": "application/julia",
   "name": "julia",
   "version": "1.2.0"
  }
 },
 "nbformat": 4,
 "nbformat_minor": 4
}
