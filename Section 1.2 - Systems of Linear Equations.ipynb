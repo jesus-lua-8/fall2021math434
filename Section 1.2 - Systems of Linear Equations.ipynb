{
 "cells": [
  {
   "cell_type": "markdown",
   "metadata": {},
   "source": [
    "---\n",
    "# Section 1.2: Systems of Linear Equations\n",
    "---"
   ]
  },
  {
   "cell_type": "markdown",
   "metadata": {},
   "source": [
    "### Linear systems\n",
    "\n",
    "Given $A \\in \\mathbb{R}^{n \\times n}$ and $b \\in \\mathbb{R}^n$, find $x \\in \\mathbb{R}^n$ such that:\n",
    "\n",
    "$$\n",
    "Ax = b.\n",
    "$$\n",
    "\n",
    "The linear system $Ax = b$ either:\n",
    "\n",
    "1. has no solution;\n",
    "2. has a unique solution;\n",
    "3. has infinitely many solutions.\n",
    "\n",
    "In fact, $Ax = b$ has a unique solution $x$ _if and only if_ $A$ is nonsingular (i.e., $A$ is invertible) (i.e., $\\det(A) \\ne 0$)."
   ]
  },
  {
   "cell_type": "markdown",
   "metadata": {},
   "source": [
    "---\n",
    "\n",
    "## Class discussion\n",
    "\n",
    "Why does a linear system with multiple solutions necessarily have _infinitely many_ solutions?\n"
   ]
  },
  {
   "cell_type": "markdown",
   "metadata": {},
   "source": [
    "Suppose $x$ and $y$ are both different solutions of the linear system. That is, $Ax = b$, $Ay = b$, and $x \\ne y$. Let $z = c_1 x + c_2 y$ where $c_1 + c_2 = 1$ and are both nonzero. Then $z \\ne x$, $z \\ne y$, and\n",
    "\n",
    "\\begin{eqnarray}\n",
    "Az &=& A(c_1 x + c_2 y) \\\\\n",
    "   &=& c_1 A x + c_2 A y \\\\\n",
    "   &=& c_1 b + c_2 b \\\\\n",
    "   &=& (c_1 + c_2) b \\\\\n",
    "   &=& b.\n",
    "\\end{eqnarray}\n",
    "\n",
    "Therefore, $z$ is a new solution of the linear system. We repeat this argument infinitely many times to obtain infinitely many solutions."
   ]
  },
  {
   "cell_type": "markdown",
   "metadata": {},
   "source": [
    "---\n",
    "\n",
    "### Matrix inverse\n",
    "\n",
    "If there is a matrix $B \\in \\mathbb{R}^{n \\times n}$ such that\n",
    "\n",
    "$$\n",
    "AB = BA = I,\n",
    "$$\n",
    "\n",
    "where $I$ is the **identity matrix**, then we say that $B$ is the **inverse** of $A$, and we write\n",
    "\n",
    "$$\n",
    "B = A^{-1}.\n",
    "$$"
   ]
  },
  {
   "cell_type": "markdown",
   "metadata": {},
   "source": [
    "---\n",
    "\n",
    "### Exercise:\n",
    "\n",
    "Complete the following theorem.\n",
    "\n",
    "> ### Theorem:\n",
    "> Let $A \\in \\mathbb{R}^{n \\times n}$. Then the following are equivalent:\n",
    ">\n",
    "> 1. $A^{-1}$ exists.\n",
    "> 2. $\\det(A) \\neq 0$.\n",
    "> 3. $\\mathrm{rank}(A) = n$.\n",
    "> 4. The columns of $A$ are linearly independent.\n",
    "> 5. The number zero is not an eigenvalue of $A$.\n",
    "> 6. $\\ker(A) = \\{0\\}$.\n",
    "> 7. The only solution of $Ax = 0$ is $x = 0$."
   ]
  },
  {
   "cell_type": "markdown",
   "metadata": {},
   "source": [
    "---\n",
    "\n",
    "### Exercise:\n",
    "\n",
    "Let $A$ be a nonsingular matrix. Multiply both sides of the linear system $Ax = b$ by $A^{-1}$ on the left. What do you conclude?"
   ]
  },
  {
   "cell_type": "markdown",
   "metadata": {},
   "source": [
    "Muliplying $Ax = b$ on both sides by $A^{-1}$ on the left, we obtain\n",
    "\n",
    "$$\n",
    "A^{-1} A x = A^{-1} b.\n",
    "$$\n",
    "\n",
    "Then\n",
    "\n",
    "$$\n",
    "I x = A^{-1} b.\n",
    "$$\n",
    "\n",
    "Therefore,\n",
    "\n",
    "$$\n",
    "x = A^{-1} b.\n",
    "$$"
   ]
  },
  {
   "cell_type": "markdown",
   "metadata": {},
   "source": [
    "---\n",
    "\n",
    "### Exercise:\n",
    "\n",
    "Use the `inv` function in `Julia` to compute the inverse of a random matrix. Check that the computed inverse is correct."
   ]
  },
  {
   "cell_type": "code",
   "execution_count": 1,
   "metadata": {},
   "outputs": [],
   "source": [
    "using LinearAlgebra"
   ]
  },
  {
   "cell_type": "code",
   "execution_count": 2,
   "metadata": {},
   "outputs": [
    {
     "data": {
      "text/plain": [
       "5×5 Matrix{Float64}:\n",
       " 0.130781  0.377675  0.242623   0.207352  0.359559\n",
       " 0.930721  0.15066   0.457026   0.793732  0.201379\n",
       " 0.18441   0.6792    0.0799715  0.893967  0.586135\n",
       " 0.959797  0.580943  0.471617   0.623241  0.168233\n",
       " 0.104454  0.460969  0.475357   0.985012  0.17993"
      ]
     },
     "execution_count": 2,
     "metadata": {},
     "output_type": "execute_result"
    }
   ],
   "source": [
    "n = 5\n",
    "A = rand(n,n)"
   ]
  },
  {
   "cell_type": "code",
   "execution_count": 3,
   "metadata": {},
   "outputs": [
    {
     "data": {
      "text/plain": [
       "0.07095444534076019"
      ]
     },
     "execution_count": 3,
     "metadata": {},
     "output_type": "execute_result"
    }
   ],
   "source": [
    "det(A)"
   ]
  },
  {
   "cell_type": "code",
   "execution_count": 4,
   "metadata": {},
   "outputs": [
    {
     "data": {
      "text/plain": [
       "5-element Vector{ComplexF64}:\n",
       " -0.49097678596059413 + 0.0im\n",
       " -0.33623125614558924 + 0.0im\n",
       "  -0.1379185605392815 - 0.41294286335222785im\n",
       "  -0.1379185605392815 + 0.41294286335222785im\n",
       "    2.267629215987987 + 0.0im"
      ]
     },
     "execution_count": 4,
     "metadata": {},
     "output_type": "execute_result"
    }
   ],
   "source": [
    "eigvals(A)"
   ]
  },
  {
   "cell_type": "code",
   "execution_count": 5,
   "metadata": {},
   "outputs": [
    {
     "data": {
      "text/plain": [
       "5×5 Matrix{Float64}:\n",
       " -0.505533   0.511099   0.229833   0.673299  -0.940032\n",
       " -0.432656  -2.07124    0.350772   1.97945    0.189306\n",
       "  2.57629    0.364678  -1.94898   -0.463634   1.22599\n",
       " -1.44669    0.470139   0.664355  -0.454493   0.625532\n",
       "  2.51537    1.4725     0.479964  -1.74913   -1.04494"
      ]
     },
     "execution_count": 5,
     "metadata": {},
     "output_type": "execute_result"
    }
   ],
   "source": [
    "B = inv(A)"
   ]
  },
  {
   "cell_type": "code",
   "execution_count": 6,
   "metadata": {},
   "outputs": [
    {
     "data": {
      "text/plain": [
       "5×5 Matrix{Float64}:\n",
       "  1.0          -5.08202e-17  5.49866e-17  1.95871e-16  -3.46613e-17\n",
       "  5.10799e-17   1.0          3.073e-17    1.1843e-16   -1.14032e-16\n",
       " -2.12785e-17  -2.69806e-16  1.0          2.59316e-16  -9.91401e-17\n",
       "  2.21058e-16  -3.60996e-17  1.91314e-17  1.0          -2.06332e-16\n",
       "  4.78108e-17  -1.33875e-16  1.35295e-17  1.75656e-16   1.0"
      ]
     },
     "execution_count": 6,
     "metadata": {},
     "output_type": "execute_result"
    }
   ],
   "source": [
    "A*B"
   ]
  },
  {
   "cell_type": "code",
   "execution_count": 7,
   "metadata": {},
   "outputs": [
    {
     "data": {
      "text/plain": [
       "5×5 Matrix{Float64}:\n",
       "  1.0           2.69746e-18   3.28476e-17   4.8823e-17    9.94592e-17\n",
       " -1.11244e-16   1.0          -6.39456e-18  -2.89844e-16  -2.33138e-17\n",
       " -1.02309e-17  -1.78795e-16   1.0          -4.04699e-17  -1.08567e-16\n",
       "  2.61994e-17   6.85892e-17   1.14835e-17   1.0           9.23776e-17\n",
       "  2.25021e-16   3.35864e-16   3.99253e-18   2.41912e-16   1.0"
      ]
     },
     "execution_count": 7,
     "metadata": {},
     "output_type": "execute_result"
    }
   ],
   "source": [
    "B*A"
   ]
  },
  {
   "cell_type": "markdown",
   "metadata": {},
   "source": [
    "---\n",
    "\n",
    "### Exercise:\n",
    "\n",
    "In `Julia`, the linear system $Ax = b$ is solve using the \"backslash\" command: `\\`.  This syntax is inherited from `MATLAB`.\n",
    "\n",
    "Use the `\\` function to compute the solution of a random linear system $Ax = b$."
   ]
  },
  {
   "cell_type": "code",
   "execution_count": 8,
   "metadata": {},
   "outputs": [
    {
     "data": {
      "text/plain": [
       "5-element Vector{Float64}:\n",
       " 0.9602529433706732\n",
       " 0.4129270339802984\n",
       " 0.1770628796465581\n",
       " 0.8699336660353694\n",
       " 0.9862484625495955"
      ]
     },
     "execution_count": 8,
     "metadata": {},
     "output_type": "execute_result"
    }
   ],
   "source": [
    "xtrue = rand(n)"
   ]
  },
  {
   "cell_type": "code",
   "execution_count": 9,
   "metadata": {},
   "outputs": [
    {
     "data": {
      "text/plain": [
       "5-element Vector{Float64}:\n",
       " 0.8594915287030379\n",
       " 1.9259654390497847\n",
       " 1.8274669203222587\n",
       " 1.9531391570627306\n",
       " 1.4091677657364539"
      ]
     },
     "execution_count": 9,
     "metadata": {},
     "output_type": "execute_result"
    }
   ],
   "source": [
    "b = A*xtrue"
   ]
  },
  {
   "cell_type": "code",
   "execution_count": 10,
   "metadata": {},
   "outputs": [
    {
     "data": {
      "text/plain": [
       "5-element Vector{Float64}:\n",
       " 0.9602529433706734\n",
       " 0.41292703398029884\n",
       " 0.17706287964655754\n",
       " 0.8699336660353696\n",
       " 0.9862484625495953"
      ]
     },
     "execution_count": 10,
     "metadata": {},
     "output_type": "execute_result"
    }
   ],
   "source": [
    "x = A \\ b"
   ]
  },
  {
   "cell_type": "code",
   "execution_count": 11,
   "metadata": {},
   "outputs": [
    {
     "data": {
      "text/plain": [
       "5-element Vector{Float64}:\n",
       "  1.1102230246251565e-16\n",
       "  4.440892098500626e-16\n",
       " -5.551115123125783e-16\n",
       "  2.220446049250313e-16\n",
       " -2.220446049250313e-16"
      ]
     },
     "execution_count": 11,
     "metadata": {},
     "output_type": "execute_result"
    }
   ],
   "source": [
    "x - xtrue"
   ]
  },
  {
   "cell_type": "code",
   "execution_count": 12,
   "metadata": {},
   "outputs": [
    {
     "data": {
      "text/plain": [
       "5-element Vector{Float64}:\n",
       " 0.9602529433706735\n",
       " 0.41292703398029856\n",
       " 0.1770628796465581\n",
       " 0.8699336660353696\n",
       " 0.9862484625495951"
      ]
     },
     "execution_count": 12,
     "metadata": {},
     "output_type": "execute_result"
    }
   ],
   "source": [
    "inv(A) * b"
   ]
  },
  {
   "cell_type": "markdown",
   "metadata": {},
   "source": [
    "---\n",
    "\n",
    "### Exercise:\n",
    "\n",
    "Which is better, `x = A\\b` or `x = inv(A)*b`?"
   ]
  },
  {
   "cell_type": "code",
   "execution_count": 13,
   "metadata": {},
   "outputs": [],
   "source": [
    "using BenchmarkTools"
   ]
  },
  {
   "cell_type": "code",
   "execution_count": 22,
   "metadata": {},
   "outputs": [],
   "source": [
    "n = 1000\n",
    "A = rand(n,n)\n",
    "xtrue = rand(n)\n",
    "b = A*xtrue\n",
    "\n",
    "x1 = A\\b\n",
    "x2 = inv(A)*b;"
   ]
  },
  {
   "cell_type": "code",
   "execution_count": 23,
   "metadata": {},
   "outputs": [
    {
     "data": {
      "text/plain": [
       "5.6451065600598075e-12"
      ]
     },
     "execution_count": 23,
     "metadata": {},
     "output_type": "execute_result"
    }
   ],
   "source": [
    "err1 = norm(x1 - xtrue)"
   ]
  },
  {
   "cell_type": "code",
   "execution_count": 24,
   "metadata": {},
   "outputs": [
    {
     "data": {
      "text/plain": [
       "1.5943474332230108e-11"
      ]
     },
     "execution_count": 24,
     "metadata": {},
     "output_type": "execute_result"
    }
   ],
   "source": [
    "err2 = norm(x2 - xtrue)"
   ]
  },
  {
   "cell_type": "code",
   "execution_count": 25,
   "metadata": {},
   "outputs": [
    {
     "name": "stdout",
     "output_type": "stream",
     "text": [
      "  25.183 ms (4 allocations: 7.64 MiB)\n"
     ]
    }
   ],
   "source": [
    "@btime x1 = A\\b;"
   ]
  },
  {
   "cell_type": "code",
   "execution_count": 26,
   "metadata": {},
   "outputs": [
    {
     "name": "stdout",
     "output_type": "stream",
     "text": [
      "  108.471 ms (6 allocations: 8.13 MiB)\n"
     ]
    }
   ],
   "source": [
    "@btime x2 = inv(A)*b;"
   ]
  },
  {
   "cell_type": "markdown",
   "metadata": {},
   "source": [
    "Therefore, `A\\b` is faster and more accurate than `inv(A)*b`."
   ]
  },
  {
   "cell_type": "markdown",
   "metadata": {},
   "source": [
    "---"
   ]
  }
 ],
 "metadata": {
  "@webio": {
   "lastCommId": null,
   "lastKernelId": null
  },
  "kernelspec": {
   "display_name": "Julia 1.6.2",
   "language": "julia",
   "name": "julia-1.6"
  },
  "language_info": {
   "file_extension": ".jl",
   "mimetype": "application/julia",
   "name": "julia",
   "version": "1.6.2"
  }
 },
 "nbformat": 4,
 "nbformat_minor": 1
}
