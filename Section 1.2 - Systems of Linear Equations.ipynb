{
 "cells": [
  {
   "cell_type": "markdown",
   "metadata": {},
   "source": [
    "---\n",
    "# Section 1.2: Systems of Linear Equations\n",
    "---"
   ]
  },
  {
   "cell_type": "markdown",
   "metadata": {},
   "source": [
    "### Linear systems\n",
    "\n",
    "Given $A \\in \\mathbb{R}^{n \\times n}$ and $b \\in \\mathbb{R}^n$, find $x \\in \\mathbb{R}^n$ such that:\n",
    "\n",
    "$$\n",
    "Ax = b.\n",
    "$$\n",
    "\n",
    "The linear system $Ax = b$ either:\n",
    "\n",
    "1. has no solution;\n",
    "2. has a unique solution;\n",
    "3. has infinitely many solutions.\n",
    "\n",
    "In fact, $Ax = b$ has a unique solution $x$ _if and only if_ $A$ is nonsingular (i.e., $A$ is invertible) (i.e., $\\det(A) \\ne 0$)."
   ]
  },
  {
   "cell_type": "markdown",
   "metadata": {},
   "source": [
    "---\n",
    "\n",
    "## Class discussion\n",
    "\n",
    "Why does a linear system with multiple solutions necessarily have _infinitely many_ solutions?\n"
   ]
  },
  {
   "cell_type": "markdown",
   "metadata": {},
   "source": [
    "Suppose $x$ and $y$ are both different solutions of the linear system. That is, $Ax = b$, $Ay = b$, and $x \\ne y$. Let $z = c_1 x + c_2 y$ where $c_1 + c_2 = 1$ and are both nonzero. Then $z \\ne x$, $z \\ne y$, and\n",
    "\n",
    "\\begin{eqnarray}\n",
    "Az &=& A(c_1 x + c_2 y) \\\\\n",
    "   &=& c_1 A x + c_2 A y \\\\\n",
    "   &=& c_1 b + c_2 b \\\\\n",
    "   &=& (c_1 + c_2) b \\\\\n",
    "   &=& b.\n",
    "\\end{eqnarray}\n",
    "\n",
    "Therefore, $z$ is a new solution of the linear system. We repeat this argument infinitely many times to obtain infinitely many solutions."
   ]
  },
  {
   "cell_type": "markdown",
   "metadata": {},
   "source": [
    "---\n",
    "\n",
    "### Matrix inverse\n",
    "\n",
    "If there is a matrix $B \\in \\mathbb{R}^{n \\times n}$ such that\n",
    "\n",
    "$$\n",
    "AB = BA = I,\n",
    "$$\n",
    "\n",
    "where $I$ is the **identity matrix**, then we say that $B$ is the **inverse** of $A$, and we write\n",
    "\n",
    "$$\n",
    "B = A^{-1}.\n",
    "$$"
   ]
  },
  {
   "cell_type": "markdown",
   "metadata": {},
   "source": [
    "---\n",
    "\n",
    "### Exercise:\n",
    "\n",
    "Complete the following theorem.\n",
    "\n",
    "> ### Theorem:\n",
    "> Let $A \\in \\mathbb{R}^{n \\times n}$. Then the following are equivalent:\n",
    ">\n",
    "> 1. $A^{-1}$ exists.\n",
    "> 2. $\\det(A) \\neq 0$.\n",
    "> 3. $\\mathrm{rank}(A) = n$.\n",
    "> 4. The columns of $A$ are linearly independent.\n",
    "> 5. The number zero is not an eigenvalue of $A$.\n",
    "> 6. $\\ker(A) = \\{0\\}$.\n",
    "> 7. The only solution of $Ax = 0$ is $x = 0$."
   ]
  },
  {
   "cell_type": "markdown",
   "metadata": {},
   "source": [
    "---\n",
    "\n",
    "### Exercise:\n",
    "\n",
    "Let $A$ be a nonsingular matrix. Multiply both sides of the linear system $Ax = b$ by $A^{-1}$ on the left. What do you conclude?"
   ]
  },
  {
   "cell_type": "markdown",
   "metadata": {},
   "source": [
    "Muliplying $Ax = b$ on both sides by $A^{-1}$ on the left, we obtain\n",
    "\n",
    "$$\n",
    "A^{-1} A x = A^{-1} b.\n",
    "$$\n",
    "\n",
    "Then\n",
    "\n",
    "$$\n",
    "I x = A^{-1} b.\n",
    "$$\n",
    "\n",
    "Therefore,\n",
    "\n",
    "$$\n",
    "x = A^{-1} b.\n",
    "$$"
   ]
  },
  {
   "cell_type": "markdown",
   "metadata": {},
   "source": [
    "---\n",
    "\n",
    "### Exercise:\n",
    "\n",
    "Use the `inv` function in `Julia` to compute the inverse of a random matrix. Check that the computed inverse is correct."
   ]
  },
  {
   "cell_type": "code",
   "execution_count": null,
   "metadata": {},
   "outputs": [],
   "source": [
    "using LinearAlgebra"
   ]
  },
  {
   "cell_type": "code",
   "execution_count": null,
   "metadata": {},
   "outputs": [],
   "source": [
    "n = 5\n",
    "A = rand(n,n)"
   ]
  },
  {
   "cell_type": "code",
   "execution_count": null,
   "metadata": {},
   "outputs": [],
   "source": [
    "det(A)"
   ]
  },
  {
   "cell_type": "code",
   "execution_count": null,
   "metadata": {},
   "outputs": [],
   "source": [
    "eigvals(A)"
   ]
  },
  {
   "cell_type": "code",
   "execution_count": null,
   "metadata": {},
   "outputs": [],
   "source": [
    "B = inv(A)"
   ]
  },
  {
   "cell_type": "code",
   "execution_count": null,
   "metadata": {},
   "outputs": [],
   "source": [
    "A*B"
   ]
  },
  {
   "cell_type": "code",
   "execution_count": null,
   "metadata": {},
   "outputs": [],
   "source": [
    "B*A"
   ]
  },
  {
   "cell_type": "markdown",
   "metadata": {},
   "source": [
    "---\n",
    "\n",
    "### Exercise:\n",
    "\n",
    "In `Julia`, the linear system $Ax = b$ is solve using the \"backslash\" command: `\\`.  This syntax is inherited from `MATLAB`.\n",
    "\n",
    "Use the `\\` function to compute the solution of a random linear system $Ax = b$."
   ]
  },
  {
   "cell_type": "code",
   "execution_count": null,
   "metadata": {},
   "outputs": [],
   "source": [
    "xtrue = rand(n)"
   ]
  },
  {
   "cell_type": "code",
   "execution_count": null,
   "metadata": {},
   "outputs": [],
   "source": [
    "b = A*xtrue"
   ]
  },
  {
   "cell_type": "code",
   "execution_count": null,
   "metadata": {},
   "outputs": [],
   "source": [
    "x = A \\ b"
   ]
  },
  {
   "cell_type": "code",
   "execution_count": null,
   "metadata": {},
   "outputs": [],
   "source": [
    "x - xtrue"
   ]
  },
  {
   "cell_type": "code",
   "execution_count": null,
   "metadata": {},
   "outputs": [],
   "source": [
    "inv(A) * b"
   ]
  },
  {
   "cell_type": "markdown",
   "metadata": {},
   "source": [
    "---\n",
    "\n",
    "### Exercise:\n",
    "\n",
    "Which is better, `x = A\\b` or `x = inv(A)*b`?"
   ]
  },
  {
   "cell_type": "code",
   "execution_count": null,
   "metadata": {},
   "outputs": [],
   "source": [
    "using BenchmarkTools"
   ]
  },
  {
   "cell_type": "code",
   "execution_count": null,
   "metadata": {},
   "outputs": [],
   "source": [
    "n = 1000\n",
    "A = rand(n,n)\n",
    "xtrue = rand(n)\n",
    "b = A*xtrue\n",
    "\n",
    "x1 = A\\b\n",
    "x2 = inv(A)*b;"
   ]
  },
  {
   "cell_type": "code",
   "execution_count": null,
   "metadata": {},
   "outputs": [],
   "source": [
    "err1 = norm(x1 - xtrue)"
   ]
  },
  {
   "cell_type": "code",
   "execution_count": null,
   "metadata": {},
   "outputs": [],
   "source": [
    "err2 = norm(x2 - xtrue)"
   ]
  },
  {
   "cell_type": "code",
   "execution_count": null,
   "metadata": {},
   "outputs": [],
   "source": [
    "@btime x1 = A\\b;"
   ]
  },
  {
   "cell_type": "code",
   "execution_count": null,
   "metadata": {},
   "outputs": [],
   "source": [
    "@btime x2 = inv(A)*b;"
   ]
  },
  {
   "cell_type": "markdown",
   "metadata": {},
   "source": [
    "Therefore, `A\\b` is faster and more accurate than `inv(A)*b`."
   ]
  },
  {
   "cell_type": "markdown",
   "metadata": {},
   "source": [
    "---"
   ]
  }
 ],
 "metadata": {
  "@webio": {
   "lastCommId": null,
   "lastKernelId": null
  },
  "kernelspec": {
   "display_name": "Julia 1.6.2",
   "language": "julia",
   "name": "julia-1.6"
  },
  "language_info": {
   "file_extension": ".jl",
   "mimetype": "application/julia",
   "name": "julia",
   "version": "1.6.2"
  }
 },
 "nbformat": 4,
 "nbformat_minor": 1
}
