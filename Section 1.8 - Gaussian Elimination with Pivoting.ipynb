{
 "cells": [
  {
   "cell_type": "markdown",
   "metadata": {},
   "source": [
    "---\n",
    "# Section 1.8: Gaussian Elimination with Pivoting\n",
    "---"
   ]
  },
  {
   "cell_type": "markdown",
   "metadata": {},
   "source": [
    "We now consider Gaussian elimination **with row interchanges**, which is also known as Gaussian elimination **with pivoting**.\n",
    "\n",
    "On each iteration of Gaussian elimination, we not only want the pivot entry to be nonzero, but we also want the pivot to be not too small (since we need to divide by the pivot, and dividing by small numbers can cause errors to blow up).\n",
    "\n",
    "### Partial pivoting:\n",
    "\n",
    "> In iteration $k$, swap row $k$ with some row below so that the $(k,k)$ entry has **largest absolute value** compared to all entries below the diagonal."
   ]
  },
  {
   "cell_type": "markdown",
   "metadata": {},
   "source": [
    "---\n",
    "## Example\n",
    "\n",
    "Let $A = \n",
    "\\begin{bmatrix}\n",
    "0 & 4 & 1 \\\\\n",
    "1 & 1 & 3 \\\\\n",
    "2 & -2& 1 \\\\\n",
    "\\end{bmatrix}.\n",
    "$\n",
    "We want to perform Gaussian elimination to obtain the $LU$-decomposition of $A$. Since $a_{11} = 0$, we need to swap rows in order to proceed."
   ]
  },
  {
   "cell_type": "markdown",
   "metadata": {},
   "source": [
    "According to the **partial pivoting** rule, we should find the entry in the first column that is largest in absolute value. Thus, we should swap row 1 and row 3.\n",
    "\n",
    "$$\n",
    "\\begin{bmatrix}\n",
    "0 & 4 & 1 \\\\\n",
    "1 & 1 & 3 \\\\\n",
    "2 & -2& 1 \\\\\n",
    "\\end{bmatrix}\n",
    "\\quad\n",
    "\\xrightarrow{(r_1 \\leftrightarrow r_3)}\n",
    "\\quad\n",
    "\\begin{bmatrix}\n",
    "2 & -2& 1 \\\\\n",
    "1 & 1 & 3 \\\\\n",
    "0 & 4 & 1 \\\\\n",
    "\\end{bmatrix}\n",
    "$$"
   ]
  },
  {
   "cell_type": "markdown",
   "metadata": {},
   "source": [
    "We need to keep track of the pivots we do. We will use a vector, $p$, to store the resulting permutation of rows.\n",
    "\n",
    "$$\n",
    "\\begin{bmatrix}\n",
    "1 \\\\ 2 \\\\ 3\n",
    "\\end{bmatrix}\n",
    "\\quad\n",
    "\\xrightarrow{(r_1 \\leftrightarrow r_3)}\n",
    "\\quad\n",
    "\\begin{bmatrix}\n",
    "3 \\\\ 2 \\\\ 1\n",
    "\\end{bmatrix}\n",
    "$$"
   ]
  },
  {
   "cell_type": "markdown",
   "metadata": {},
   "source": [
    "Now we can eliminate the $(2,1)$ entry.\n",
    "\n",
    "$$\n",
    "\\begin{bmatrix}\n",
    "2 & -2& 1 \\\\\n",
    "1 & 1 & 3 \\\\\n",
    "0 & 4 & 1 \\\\\n",
    "\\end{bmatrix}\n",
    "\\quad\n",
    "\\xrightarrow{\\left(r_2 \\gets r_2 - \\frac{1}{2}r_1\\right)}\n",
    "\\quad\n",
    "\\begin{bmatrix}\n",
    "2 & -2& 1 \\\\\n",
    "\\mathbf{1/2} & 2 & 5/2 \\\\\n",
    "\\mathbf{0} & 4 & 1 \\\\\n",
    "\\end{bmatrix}\n",
    "$$\n",
    "\n",
    "Note that we have stored the $1/2$ and $0$ multipliers that were used in the row reduction, indicated in **bold**."
   ]
  },
  {
   "cell_type": "markdown",
   "metadata": {},
   "source": [
    "In the second column, we do not need to swap rows to proceed. However, according to the partial pivoting rule, we should swap row 2 with row 3 so that the pivot entry is as large as possible.\n",
    "\n",
    "$$\n",
    "\\begin{bmatrix}\n",
    "2 & -2& 1 \\\\\n",
    "\\mathbf{1/2} & 2 & 5/2 \\\\\n",
    "\\mathbf{0} & 4 & 1 \\\\\n",
    "\\end{bmatrix}\n",
    "\\quad\n",
    "\\xrightarrow{\\left(r_2 \\leftrightarrow r_3\\right)}\n",
    "\\quad\n",
    "\\begin{bmatrix}\n",
    "2 & -2& 1 \\\\\n",
    "\\mathbf{0} & 4 & 1 \\\\\n",
    "\\mathbf{1/2} & 2 & 5/2 \\\\\n",
    "\\end{bmatrix}\n",
    "$$\n",
    "\n",
    "Note that we have also swapped the **multipliers**."
   ]
  },
  {
   "cell_type": "markdown",
   "metadata": {},
   "source": [
    "We also update the vector $p$.\n",
    "\n",
    "$$\n",
    "\\begin{bmatrix}\n",
    "3 \\\\ 2 \\\\ 1\n",
    "\\end{bmatrix}\n",
    "\\quad\n",
    "\\xrightarrow{(r_2 \\leftrightarrow r_3)}\n",
    "\\quad\n",
    "\\begin{bmatrix}\n",
    "3 \\\\ 1 \\\\ 2\n",
    "\\end{bmatrix}\n",
    "$$"
   ]
  },
  {
   "cell_type": "markdown",
   "metadata": {},
   "source": [
    "Finally, we eliminate the $(3,2)$ entry.\n",
    "\n",
    "$$\n",
    "\\begin{bmatrix}\n",
    "2 & -2& 1 \\\\\n",
    "\\mathbf{0} & 4 & 1 \\\\\n",
    "\\mathbf{1/2} & 2 & 5/2 \\\\\n",
    "\\end{bmatrix}\n",
    "\\quad\n",
    "\\xrightarrow{\\left(r_3 \\gets r_3 - \\frac{1}{2}r_2\\right)}\n",
    "\\quad\n",
    "\\begin{bmatrix}\n",
    "2 & -2& 1 \\\\\n",
    "\\mathbf{0} & 4 & 1 \\\\\n",
    "\\mathbf{1/2} & \\mathbf{1/2} & 2 \\\\\n",
    "\\end{bmatrix}\n",
    "$$"
   ]
  },
  {
   "cell_type": "markdown",
   "metadata": {},
   "source": [
    "Instead storing zeros in the lower-triangular part, we can store the multipliers we used during Gaussian elimination.\n",
    "\n",
    "Thus, we obtain the final matrix and row permutation vector:\n",
    "\n",
    "$$\n",
    "\"LU\" = \n",
    "\\begin{bmatrix}\n",
    "2 & -2& 1 \\\\\n",
    "\\mathbf{0} & 4 & 1 \\\\\n",
    "\\mathbf{1/2} & \\mathbf{1/2} & 2 \\\\\n",
    "\\end{bmatrix},\n",
    "\\qquad\n",
    "p = \n",
    "\\begin{bmatrix}\n",
    "3 \\\\ 1 \\\\ 2\n",
    "\\end{bmatrix}.\n",
    "$$"
   ]
  },
  {
   "cell_type": "markdown",
   "metadata": {},
   "source": [
    "That is, we have\n",
    "\n",
    "$$\n",
    "L = \n",
    "\\begin{bmatrix}\n",
    "1 & 0 & 0 \\\\\n",
    "0 & 1 & 0 \\\\\n",
    "1/2 & 1/2 & 1 \\\\\n",
    "\\end{bmatrix},\n",
    "\\qquad\n",
    "U = \n",
    "\\begin{bmatrix}\n",
    "2 & -2& 1 \\\\\n",
    "0 & 4 & 1 \\\\\n",
    "0 & 0 & 2 \\\\\n",
    "\\end{bmatrix},\n",
    "\\qquad\n",
    "p = \n",
    "\\begin{bmatrix}\n",
    "3 \\\\ 1 \\\\ 2\n",
    "\\end{bmatrix}.\n",
    "$$"
   ]
  },
  {
   "cell_type": "markdown",
   "metadata": {},
   "source": [
    "Multiplying $L$ and $U$, we get\n",
    "\n",
    "$$\n",
    "LU = \n",
    "\\begin{bmatrix}\n",
    "2 & -2 & 1 \\\\\n",
    "0 & 4 & 1 \\\\\n",
    "1 & 1 & 3 \\\\\n",
    "\\end{bmatrix}.\n",
    "$$\n",
    "\n",
    "Recall that \n",
    "\n",
    "$$A = \n",
    "\\begin{bmatrix}\n",
    "0 & 4 & 1 \\\\\n",
    "1 & 1 & 3 \\\\\n",
    "2 & -2& 1 \\\\\n",
    "\\end{bmatrix}.\n",
    "$$\n",
    "\n",
    "Thus, $LU = A[p,:]$."
   ]
  },
  {
   "cell_type": "markdown",
   "metadata": {},
   "source": [
    "---\n",
    "\n",
    "### Exercise 1: (Desmos Input 1)\n",
    "\n",
    "1. Use `Julia` to check that $LU = A[p,:]$ in the above example.\n",
    "\n",
    "2. Use the `lu` function in `Julia` on the above matrix $A$ and verify that it gives the same answer."
   ]
  },
  {
   "cell_type": "markdown",
   "metadata": {},
   "source": [
    "---\n",
    "\n",
    "Another way to represent row permutations is with **permutation matrices**.\n",
    "\n",
    "Here we have\n",
    "\n",
    "$$\n",
    "p =\n",
    "\\begin{bmatrix}\n",
    "3 \\\\ 1 \\\\ 2\n",
    "\\end{bmatrix}\n",
    "\\qquad \\text{and} \\qquad\n",
    "P = I[p,:] = \n",
    "\\begin{bmatrix}\n",
    "0 & 0 & 1 \\\\\n",
    "1 & 0 & 0 \\\\\n",
    "0 & 1 & 0 \\\\\n",
    "\\end{bmatrix}.\n",
    "$$\n",
    "\n",
    "Then\n",
    "\n",
    "$$\n",
    "PA = \n",
    "\\begin{bmatrix}\n",
    "0 & 0 & 1 \\\\\n",
    "1 & 0 & 0 \\\\\n",
    "0 & 1 & 0 \\\\\n",
    "\\end{bmatrix}\n",
    "\\begin{bmatrix}\n",
    "0 & 4 & 1 \\\\\n",
    "1 & 1 & 3 \\\\\n",
    "2 & -2& 1 \\\\\n",
    "\\end{bmatrix}\n",
    "=\n",
    "\\begin{bmatrix}\n",
    "2 & -2 & 1 \\\\\n",
    "0 & 4 & 1 \\\\\n",
    "1 & 1 & 3 \\\\\n",
    "\\end{bmatrix} = A[p,:].\n",
    "$$\n",
    "\n",
    "Therefore, we have that\n",
    "\n",
    "$$\n",
    "PA = LU.\n",
    "$$"
   ]
  },
  {
   "cell_type": "markdown",
   "metadata": {},
   "source": [
    "In addition, permutation matrices are **orthogonal matrices**, so \n",
    "\n",
    "$$\n",
    "P^T P = P P^T = I,\n",
    "$$\n",
    "\n",
    "which implies that\n",
    "\n",
    "$$\n",
    "P^{-1} = P^T.\n",
    "$$\n",
    "\n",
    "Computing the inverse of an orthogonal matrix is very easy!"
   ]
  },
  {
   "cell_type": "markdown",
   "metadata": {},
   "source": [
    "Therefore, since $PA = LU$ and $P$ is a permutation matrix, we have\n",
    "\n",
    "$$\n",
    "A = P^T L U.\n",
    "$$"
   ]
  },
  {
   "cell_type": "markdown",
   "metadata": {},
   "source": [
    "---\n",
    "\n",
    "### Exercise 2: (Desmos Input 2)\n",
    "\n",
    "1. Use `Julia` to check that $PA = LU$ and $A = P^TLU$ in the above example.\n",
    "\n",
    "2. Use the `lu` function in `Julia` on the above matrix $A$ and verify that it gives the same answer."
   ]
  },
  {
   "cell_type": "markdown",
   "metadata": {},
   "source": [
    "---\n",
    "\n",
    "### Exercise 3: (Desmos Input 3)\n",
    "\n",
    "1. Propose an algorithm for solving $Ax = b$ using the $LU$-factorization $A[p,:] = LU$.\n",
    "\n",
    "2. What is the flop count of your algorithm?\n",
    "\n",
    "3. Implement your algorithm in `Julia`. Check that the output is correct by solving $Ax = b$, where\n",
    "\n",
    "$$\n",
    "A = \n",
    "\\begin{bmatrix}\n",
    "0 & 4 & 1 \\\\\n",
    "1 & 1 & 3 \\\\\n",
    "2 & -2& 1 \\\\\n",
    "\\end{bmatrix},\n",
    "\\qquad\n",
    "b =\n",
    "\\begin{bmatrix}\n",
    "9 \\\\ 6 \\\\ -1\n",
    "\\end{bmatrix}.\n",
    "$$"
   ]
  },
  {
   "cell_type": "markdown",
   "metadata": {},
   "source": [
    "---\n",
    "\n",
    "## $L$\n",
    "\n",
    "**Partial pivoting** implies that all the multipliers in $L$ will be between -1 and 1. Thus,\n",
    "\n",
    "$$\n",
    "\\left|l_{ij}\\right| \\leq 1, \\quad \\forall ij.\n",
    "$$\n",
    "\n",
    "The same cannot be said about $U$."
   ]
  },
  {
   "cell_type": "markdown",
   "metadata": {},
   "source": [
    "---\n",
    "\n",
    "### Exercise 4: (Desmos Input 4)\n",
    "\n",
    "Use `lu` on random matrices to check that $|l_{ij}| \\le 1$, for all $ij$."
   ]
  },
  {
   "cell_type": "markdown",
   "metadata": {},
   "source": [
    "---\n",
    "\n",
    "### Exercise 5: (Desmos Input 5)\n",
    "\n",
    "1. Propose an algorithm for computing $A^{-1}$ using the $LU$-factorization $A[p,:] = LU$.\n",
    "\n",
    "2. What is the flop count of your algorithm?\n",
    "\n",
    "3. Implement your algorithm in `Julia`. Check that the output is correct by computing $A^{-1}$, where\n",
    "\n",
    "$$\n",
    "A = \n",
    "\\begin{bmatrix}\n",
    "0 & 4 & 1 \\\\\n",
    "1 & 1 & 3 \\\\\n",
    "2 & -2& 1 \\\\\n",
    "\\end{bmatrix}.\n",
    "$$"
   ]
  },
  {
   "cell_type": "markdown",
   "metadata": {},
   "source": [
    "---\n",
    "\n",
    "It is possible to take advantage of sparsity to obtain an algorithm for computing $A^{-1}$ in $2n^3$ flops.\n",
    "\n",
    "Thus, when solving a linear system $Ax = b$, we have:\n",
    "\n",
    "1. `x = A\\b` requires $\\frac23 n^3 + O(n^2)$ flops.\n",
    "2. `x = inv(A)*b` requires $2n^3 + O(n^2)$ flops.\n",
    "\n",
    "So, `x = inv(A)*b` will take roughly 3 times longer than `x = A\\b`."
   ]
  },
  {
   "cell_type": "markdown",
   "metadata": {},
   "source": [
    "---\n",
    "\n",
    "### Exercise 6: (Desmos Input 6)\n",
    "\n",
    "Conduct a numerical experiment using `A = randn(n,n)` with `n = 3000` to compare the speed and accuracy of solving $Ax = b$ using `x = A\\b` and `x = inv(A)*b`."
   ]
  },
  {
   "cell_type": "markdown",
   "metadata": {},
   "source": [
    "---"
   ]
  }
 ],
 "metadata": {
  "kernelspec": {
   "display_name": "Julia 1.2.0",
   "language": "julia",
   "name": "julia-1.2"
  },
  "language_info": {
   "file_extension": ".jl",
   "mimetype": "application/julia",
   "name": "julia",
   "version": "1.2.0"
  }
 },
 "nbformat": 4,
 "nbformat_minor": 4
}
