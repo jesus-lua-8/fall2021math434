{
 "cells": [
  {
   "cell_type": "markdown",
   "metadata": {},
   "source": [
    "---\n",
    "# Section 1.4: Positive Definite Systems; Cholesky Decomposition\n",
    "---"
   ]
  },
  {
   "cell_type": "markdown",
   "metadata": {},
   "source": [
    "After triangular linear systems, the next easiest type of linear system to solve is the **symmetric positive definite** linear system.\n",
    "\n",
    "A matrix $A \\in \\mathbb{R}^{n \\times n}$ is **symmetric** if $A = A^T$.\n",
    "\n",
    "For example,\n",
    "\n",
    "$$\n",
    "A = \n",
    "\\begin{bmatrix}\n",
    "1 & 2 & 3 \\\\\n",
    "2 & 4 & 5 \\\\\n",
    "3 & 5 & 6\n",
    "\\end{bmatrix}\n",
    "$$\n",
    "\n",
    "is a symmetric matrix.\n",
    "\n",
    "A matrix $A \\in \\mathbb{R}^{n \\times n}$ is called **positive definite** if $A$ is symmetric and \n",
    "\n",
    "$$\n",
    "x^T A x > 0, \\qquad \\text{for all nonzero $x \\in \\mathbb{R}^n$.}\n",
    "$$"
   ]
  },
  {
   "cell_type": "markdown",
   "metadata": {},
   "source": [
    "---\n",
    "\n",
    "### Exercise:\n",
    "\n",
    "Let $A = \\begin{bmatrix} 2 & -1 \\\\ -1 & 2 \\end{bmatrix}$ and $x = \\begin{bmatrix} x_1 \\\\ x_2 \\end{bmatrix} \\neq 0$. Prove that $x^T A x > 0$."
   ]
  },
  {
   "cell_type": "code",
   "execution_count": 1,
   "metadata": {},
   "outputs": [
    {
     "data": {
      "text/plain": [
       "2×2 Matrix{Int64}:\n",
       "  2  -1\n",
       " -1   2"
      ]
     },
     "execution_count": 1,
     "metadata": {},
     "output_type": "execute_result"
    }
   ],
   "source": [
    "A = [ 2 -1; -1 2 ]"
   ]
  },
  {
   "cell_type": "code",
   "execution_count": 23,
   "metadata": {},
   "outputs": [
    {
     "name": "stdout",
     "output_type": "stream",
     "text": [
      "x = [-0.811444178301137, 1.4725656874448798]\n",
      "x' * A * x = 8.043592425163956\n"
     ]
    }
   ],
   "source": [
    "x = randn(2)\n",
    "@show x\n",
    "@show x'*A*x;"
   ]
  },
  {
   "cell_type": "markdown",
   "metadata": {},
   "source": [
    "Let $x$ be a nonzero vector. Then,\n",
    "\n",
    "\\begin{eqnarray}\n",
    "x^T A x\n",
    "&=& \n",
    "\\begin{bmatrix} x_1 \\\\ x_2 \\end{bmatrix}^T\n",
    "\\begin{bmatrix} 2 & -1 \\\\ -1 & 2 \\end{bmatrix}\n",
    "\\begin{bmatrix} x_1 \\\\ x_2 \\end{bmatrix} \\\\\n",
    "&=& \n",
    "\\begin{bmatrix} x_1 \\\\ x_2 \\end{bmatrix}^T\n",
    "\\begin{bmatrix} 2x_1 - x_2 \\\\ -x_1 + 2x_2 \\end{bmatrix} \\\\\n",
    "&=& x_1(2x_1 - x_2) + x_2(-x_1 + 2x_2) \\\\\n",
    "&=& 2x_1^2 - 2 x_1 x_2 + 2x_2^2 \\\\\n",
    "&=& x_1^2 + (x_1^2 - 2 x_1 x_2 + x_2^2) + x_2^2 \\\\\n",
    "&=& x_1^2 + (x_1 - x_2)^2 + x_2^2 \\\\\n",
    "&\\ge& x_1^2 + x_2^2 \\\\\n",
    "&>& 0,\n",
    "\\end{eqnarray}\n",
    "\n",
    "since $x$ is a nonzero vector. Therefore, the symmetric matrix $A$ is positive definite."
   ]
  },
  {
   "cell_type": "code",
   "execution_count": 24,
   "metadata": {},
   "outputs": [
    {
     "data": {
      "text/plain": [
       "8.043592425163956"
      ]
     },
     "execution_count": 24,
     "metadata": {},
     "output_type": "execute_result"
    }
   ],
   "source": [
    "x'*A*x"
   ]
  },
  {
   "cell_type": "code",
   "execution_count": 25,
   "metadata": {},
   "outputs": [
    {
     "data": {
      "text/plain": [
       "8.043592425163956"
      ]
     },
     "execution_count": 25,
     "metadata": {},
     "output_type": "execute_result"
    }
   ],
   "source": [
    "x[1]^2 + (x[1] - x[2])^2 + x[2]^2"
   ]
  },
  {
   "cell_type": "markdown",
   "metadata": {},
   "source": [
    "---\n",
    "\n",
    "## Properties of positive definite matrices\n",
    "\n",
    "(1) If $A$ is positive definite, then $A$ is nonsingular.\n",
    "\n",
    "(2) If $A$ is positive definite, then $Ax = b$ has a unique solution.\n",
    "\n",
    "(3) If $A = M^TM$ for some nonsingular $M \\in \\mathbb{R}^{n \\times n}$, then $A$ is positive definite.\n",
    "\n",
    "(4) $A$ is positive definite $\\Longleftrightarrow$ all eigenvalues of $A$ are positive."
   ]
  },
  {
   "cell_type": "code",
   "execution_count": 27,
   "metadata": {},
   "outputs": [],
   "source": [
    "using LinearAlgebra"
   ]
  },
  {
   "cell_type": "code",
   "execution_count": 28,
   "metadata": {},
   "outputs": [
    {
     "data": {
      "text/plain": [
       "2-element Vector{Float64}:\n",
       " 1.0\n",
       " 3.0"
      ]
     },
     "execution_count": 28,
     "metadata": {},
     "output_type": "execute_result"
    }
   ],
   "source": [
    "eigvals(A)"
   ]
  },
  {
   "cell_type": "markdown",
   "metadata": {},
   "source": [
    "---\n",
    "### Exercise:\n",
    "\n",
    "Prove property (1) and deduce property (2)."
   ]
  },
  {
   "cell_type": "markdown",
   "metadata": {},
   "source": [
    "#### Proof:\n",
    "\n",
    "Let $A$ be a symmetric positive definite matrix. Suppose, for the sake of contradiction, that $A$ is singular. Then there is a nonzero vector $x$ such that $Ax = 0$. So we have that $x^T A x = x^T 0 = 0$, which contradicts our assumption that $A$ is positive definite. Therefore, $A$ is nonsingular.\n",
    "\n",
    "Since $A$ is nonsingular, any linear system $Ax = b$ has a unique solution. $\\blacksquare$"
   ]
  },
  {
   "cell_type": "markdown",
   "metadata": {},
   "source": [
    "---\n",
    "### Exercise:\n",
    "\n",
    "Based on property (3), write a `Julia` function `A = randspd(n)` that randomly generates an $n \\times n$ symmetric positive definite matrix $A$. Check that the matrix $A$ is positive definite by using property (4)."
   ]
  },
  {
   "cell_type": "code",
   "execution_count": 29,
   "metadata": {},
   "outputs": [
    {
     "data": {
      "text/plain": [
       "randspd (generic function with 1 method)"
      ]
     },
     "execution_count": 29,
     "metadata": {},
     "output_type": "execute_result"
    }
   ],
   "source": [
    "function randspd(n)\n",
    "    M = randn(n,n)\n",
    "    A = M'M\n",
    "end"
   ]
  },
  {
   "cell_type": "code",
   "execution_count": 34,
   "metadata": {},
   "outputs": [
    {
     "data": {
      "text/plain": [
       "5×5 Matrix{Float64}:\n",
       "  1.96438   -1.18838     1.56238    -0.275037   -3.16687\n",
       " -1.18838    4.44811     0.566154   -0.0271129   3.46538\n",
       "  1.56238    0.566154    2.38428    -0.0982263  -3.10933\n",
       " -0.275037  -0.0271129  -0.0982263   0.331262   -0.280421\n",
       " -3.16687    3.46538    -3.10933    -0.280421    8.73664"
      ]
     },
     "execution_count": 34,
     "metadata": {},
     "output_type": "execute_result"
    }
   ],
   "source": [
    "A = randspd(5)"
   ]
  },
  {
   "cell_type": "code",
   "execution_count": 35,
   "metadata": {},
   "outputs": [
    {
     "data": {
      "text/plain": [
       "5-element Vector{Float64}:\n",
       "  0.0021833211598131265\n",
       "  0.11872021851575325\n",
       "  0.950068996529474\n",
       "  4.158591404816379\n",
       " 12.635106746345294"
      ]
     },
     "execution_count": 35,
     "metadata": {},
     "output_type": "execute_result"
    }
   ],
   "source": [
    "eigvals(A)"
   ]
  },
  {
   "cell_type": "code",
   "execution_count": 36,
   "metadata": {},
   "outputs": [
    {
     "data": {
      "text/plain": [
       "5-element Vector{ComplexF64}:\n",
       " 0.2857708205669522 - 1.7414758040084537im\n",
       " 0.2857708205669522 + 1.7414758040084537im\n",
       "  1.414478100849271 - 0.325491539998444im\n",
       "  1.414478100849271 + 0.325491539998444im\n",
       " 1.7914333483570748 + 0.0im"
      ]
     },
     "execution_count": 36,
     "metadata": {},
     "output_type": "execute_result"
    }
   ],
   "source": [
    "n = 5\n",
    "M = randn(n,n)\n",
    "eigvals(M)"
   ]
  },
  {
   "cell_type": "markdown",
   "metadata": {},
   "source": [
    "---\n",
    "\n",
    "## The Cholesky Decomposition\n",
    "\n",
    "It turns out that every positive definite matrix $A$ can be written as $A = M^TM$, for some nonsingular matrix $M$.\n",
    "\n",
    "> ### Cholesky Decomposition Theorem\n",
    "> Let $A$ be positive definite.\n",
    "> Then there is a **unique upper-triangular matrix** $R$ with **positive diagonal entries** such that\n",
    "> $$A = R^T R.$$\n",
    "\n",
    "We will see a proof of this theorem later."
   ]
  },
  {
   "cell_type": "markdown",
   "metadata": {},
   "source": [
    "---\n",
    "\n",
    "### Exercise:\n",
    "\n",
    "Computing the Cholesky factor of a random positive definite matrix $A$ using the `Julia` function `cholesky`. Check that the output is correct."
   ]
  },
  {
   "cell_type": "code",
   "execution_count": 37,
   "metadata": {},
   "outputs": [
    {
     "name": "stdout",
     "output_type": "stream",
     "text": [
      "search: \u001b[0m\u001b[1mc\u001b[22m\u001b[0m\u001b[1mh\u001b[22m\u001b[0m\u001b[1mo\u001b[22m\u001b[0m\u001b[1ml\u001b[22m\u001b[0m\u001b[1me\u001b[22m\u001b[0m\u001b[1ms\u001b[22m\u001b[0m\u001b[1mk\u001b[22m\u001b[0m\u001b[1my\u001b[22m \u001b[0m\u001b[1mc\u001b[22m\u001b[0m\u001b[1mh\u001b[22m\u001b[0m\u001b[1mo\u001b[22m\u001b[0m\u001b[1ml\u001b[22m\u001b[0m\u001b[1me\u001b[22m\u001b[0m\u001b[1ms\u001b[22m\u001b[0m\u001b[1mk\u001b[22m\u001b[0m\u001b[1my\u001b[22m! \u001b[0m\u001b[1mC\u001b[22m\u001b[0m\u001b[1mh\u001b[22m\u001b[0m\u001b[1mo\u001b[22m\u001b[0m\u001b[1ml\u001b[22m\u001b[0m\u001b[1me\u001b[22m\u001b[0m\u001b[1ms\u001b[22m\u001b[0m\u001b[1mk\u001b[22m\u001b[0m\u001b[1my\u001b[22m \u001b[0m\u001b[1mC\u001b[22m\u001b[0m\u001b[1mh\u001b[22m\u001b[0m\u001b[1mo\u001b[22m\u001b[0m\u001b[1ml\u001b[22m\u001b[0m\u001b[1me\u001b[22m\u001b[0m\u001b[1ms\u001b[22m\u001b[0m\u001b[1mk\u001b[22m\u001b[0m\u001b[1my\u001b[22mPivoted\n",
      "\n"
     ]
    },
    {
     "data": {
      "text/latex": [
       "\\begin{verbatim}\n",
       "cholesky(A, Val(false); check = true) -> Cholesky\n",
       "\\end{verbatim}\n",
       "Compute the Cholesky factorization of a dense symmetric positive definite matrix \\texttt{A} and return a \\href{@ref}{\\texttt{Cholesky}} factorization. The matrix \\texttt{A} can either be a \\href{@ref}{\\texttt{Symmetric}} or \\href{@ref}{\\texttt{Hermitian}} \\href{@ref}{\\texttt{StridedMatrix}} or a \\emph{perfectly} symmetric or Hermitian \\texttt{StridedMatrix}. The triangular Cholesky factor can be obtained from the factorization \\texttt{F} with: \\texttt{F.L} and \\texttt{F.U}. The following functions are available for \\texttt{Cholesky} objects: \\href{@ref}{\\texttt{size}}, \\href{@ref}{\\texttt{{\\textbackslash}}}, \\href{@ref}{\\texttt{inv}}, \\href{@ref}{\\texttt{det}}, \\href{@ref}{\\texttt{logdet}} and \\href{@ref}{\\texttt{isposdef}}.\n",
       "\n",
       "If you have a matrix \\texttt{A} that is slightly non-Hermitian due to roundoff errors in its construction, wrap it in \\texttt{Hermitian(A)} before passing it to \\texttt{cholesky} in order to treat it as perfectly Hermitian.\n",
       "\n",
       "When \\texttt{check = true}, an error is thrown if the decomposition fails. When \\texttt{check = false}, responsibility for checking the decomposition's validity (via \\href{@ref}{\\texttt{issuccess}}) lies with the user.\n",
       "\n",
       "\\section{Examples}\n",
       "\\begin{verbatim}\n",
       "julia> A = [4. 12. -16.; 12. 37. -43.; -16. -43. 98.]\n",
       "3×3 Matrix{Float64}:\n",
       "   4.0   12.0  -16.0\n",
       "  12.0   37.0  -43.0\n",
       " -16.0  -43.0   98.0\n",
       "\n",
       "julia> C = cholesky(A)\n",
       "Cholesky{Float64, Matrix{Float64}}\n",
       "U factor:\n",
       "3×3 UpperTriangular{Float64, Matrix{Float64}}:\n",
       " 2.0  6.0  -8.0\n",
       "  ⋅   1.0   5.0\n",
       "  ⋅    ⋅    3.0\n",
       "\n",
       "julia> C.U\n",
       "3×3 UpperTriangular{Float64, Matrix{Float64}}:\n",
       " 2.0  6.0  -8.0\n",
       "  ⋅   1.0   5.0\n",
       "  ⋅    ⋅    3.0\n",
       "\n",
       "julia> C.L\n",
       "3×3 LowerTriangular{Float64, Matrix{Float64}}:\n",
       "  2.0   ⋅    ⋅\n",
       "  6.0  1.0   ⋅\n",
       " -8.0  5.0  3.0\n",
       "\n",
       "julia> C.L * C.U == A\n",
       "true\n",
       "\\end{verbatim}\n",
       "\\rule{\\textwidth}{1pt}\n",
       "\\begin{verbatim}\n",
       "cholesky(A, Val(true); tol = 0.0, check = true) -> CholeskyPivoted\n",
       "\\end{verbatim}\n",
       "Compute the pivoted Cholesky factorization of a dense symmetric positive semi-definite matrix \\texttt{A} and return a \\href{@ref}{\\texttt{CholeskyPivoted}} factorization. The matrix \\texttt{A} can either be a \\href{@ref}{\\texttt{Symmetric}} or \\href{@ref}{\\texttt{Hermitian}} \\href{@ref}{\\texttt{StridedMatrix}} or a \\emph{perfectly} symmetric or Hermitian \\texttt{StridedMatrix}. The triangular Cholesky factor can be obtained from the factorization \\texttt{F} with: \\texttt{F.L} and \\texttt{F.U}. The following functions are available for \\texttt{CholeskyPivoted} objects: \\href{@ref}{\\texttt{size}}, \\href{@ref}{\\texttt{{\\textbackslash}}}, \\href{@ref}{\\texttt{inv}}, \\href{@ref}{\\texttt{det}}, and \\href{@ref}{\\texttt{rank}}. The argument \\texttt{tol} determines the tolerance for determining the rank. For negative values, the tolerance is the machine precision.\n",
       "\n",
       "If you have a matrix \\texttt{A} that is slightly non-Hermitian due to roundoff errors in its construction, wrap it in \\texttt{Hermitian(A)} before passing it to \\texttt{cholesky} in order to treat it as perfectly Hermitian.\n",
       "\n",
       "When \\texttt{check = true}, an error is thrown if the decomposition fails. When \\texttt{check = false}, responsibility for checking the decomposition's validity (via \\href{@ref}{\\texttt{issuccess}}) lies with the user.\n",
       "\n",
       "\\rule{\\textwidth}{1pt}\n",
       "\\begin{verbatim}\n",
       "cholesky(A::SparseMatrixCSC; shift = 0.0, check = true, perm = nothing) -> CHOLMOD.Factor\n",
       "\\end{verbatim}\n",
       "Compute the Cholesky factorization of a sparse positive definite matrix \\texttt{A}. \\texttt{A} must be a \\href{@ref}{\\texttt{SparseMatrixCSC}} or a \\href{@ref}{\\texttt{Symmetric}}/\\href{@ref}{\\texttt{Hermitian}} view of a \\texttt{SparseMatrixCSC}. Note that even if \\texttt{A} doesn't have the type tag, it must still be symmetric or Hermitian. If \\texttt{perm} is not given, a fill-reducing permutation is used. \\texttt{F = cholesky(A)} is most frequently used to solve systems of equations with \\texttt{F{\\textbackslash}b}, but also the methods \\href{@ref}{\\texttt{diag}}, \\href{@ref}{\\texttt{det}}, and \\href{@ref}{\\texttt{logdet}} are defined for \\texttt{F}. You can also extract individual factors from \\texttt{F}, using \\texttt{F.L}. However, since pivoting is on by default, the factorization is internally represented as \\texttt{A == P'*L*L'*P} with a permutation matrix \\texttt{P}; using just \\texttt{L} without accounting for \\texttt{P} will give incorrect answers. To include the effects of permutation, it's typically preferable to extract \"combined\" factors like \\texttt{PtL = F.PtL} (the equivalent of \\texttt{P'*L}) and \\texttt{LtP = F.UP} (the equivalent of \\texttt{L'*P}).\n",
       "\n",
       "When \\texttt{check = true}, an error is thrown if the decomposition fails. When \\texttt{check = false}, responsibility for checking the decomposition's validity (via \\href{@ref}{\\texttt{issuccess}}) lies with the user.\n",
       "\n",
       "Setting the optional \\texttt{shift} keyword argument computes the factorization of \\texttt{A+shift*I} instead of \\texttt{A}. If the \\texttt{perm} argument is provided, it should be a permutation of \\texttt{1:size(A,1)} giving the ordering to use (instead of CHOLMOD's default AMD ordering).\n",
       "\n",
       "\\section{Examples}\n",
       "In the following example, the fill-reducing permutation used is \\texttt{[3, 2, 1]}. If \\texttt{perm} is set to \\texttt{1:3} to enforce no permutation, the number of nonzero elements in the factor is 6.\n",
       "\n",
       "\\begin{verbatim}\n",
       "julia> A = [2 1 1; 1 2 0; 1 0 2]\n",
       "3×3 Matrix{Int64}:\n",
       " 2  1  1\n",
       " 1  2  0\n",
       " 1  0  2\n",
       "\n",
       "julia> C = cholesky(sparse(A))\n",
       "SuiteSparse.CHOLMOD.Factor{Float64}\n",
       "type:    LLt\n",
       "method:  simplicial\n",
       "maxnnz:  5\n",
       "nnz:     5\n",
       "success: true\n",
       "\n",
       "julia> C.p\n",
       "3-element Vector{Int64}:\n",
       " 3\n",
       " 2\n",
       " 1\n",
       "\n",
       "julia> L = sparse(C.L);\n",
       "\n",
       "julia> Matrix(L)\n",
       "3×3 Matrix{Float64}:\n",
       " 1.41421   0.0       0.0\n",
       " 0.0       1.41421   0.0\n",
       " 0.707107  0.707107  1.0\n",
       "\n",
       "julia> L * L' ≈ A[C.p, C.p]\n",
       "true\n",
       "\n",
       "julia> P = sparse(1:3, C.p, ones(3))\n",
       "3×3 SparseMatrixCSC{Float64, Int64} with 3 stored entries:\n",
       "  ⋅    ⋅   1.0\n",
       "  ⋅   1.0   ⋅\n",
       " 1.0   ⋅    ⋅\n",
       "\n",
       "julia> P' * L * L' * P ≈ A\n",
       "true\n",
       "\n",
       "julia> C = cholesky(sparse(A), perm=1:3)\n",
       "SuiteSparse.CHOLMOD.Factor{Float64}\n",
       "type:    LLt\n",
       "method:  simplicial\n",
       "maxnnz:  6\n",
       "nnz:     6\n",
       "success: true\n",
       "\n",
       "julia> L = sparse(C.L);\n",
       "\n",
       "julia> Matrix(L)\n",
       "3×3 Matrix{Float64}:\n",
       " 1.41421    0.0       0.0\n",
       " 0.707107   1.22474   0.0\n",
       " 0.707107  -0.408248  1.1547\n",
       "\n",
       "julia> L * L' ≈ A\n",
       "true\n",
       "\\end{verbatim}\n",
       "\\begin{quote}\n",
       "\\textbf{note}\n",
       "\n",
       "Note\n",
       "\n",
       "This method uses the CHOLMOD library from SuiteSparse, which only supports doubles or complex doubles. Input matrices not of those element types will be converted to \\texttt{SparseMatrixCSC\\{Float64\\}} or \\texttt{SparseMatrixCSC\\{ComplexF64\\}} as appropriate.\n",
       "\n",
       "Many other functions from CHOLMOD are wrapped but not exported from the \\texttt{Base.SparseArrays.CHOLMOD} module.\n",
       "\n",
       "\\end{quote}\n"
      ],
      "text/markdown": [
       "```\n",
       "cholesky(A, Val(false); check = true) -> Cholesky\n",
       "```\n",
       "\n",
       "Compute the Cholesky factorization of a dense symmetric positive definite matrix `A` and return a [`Cholesky`](@ref) factorization. The matrix `A` can either be a [`Symmetric`](@ref) or [`Hermitian`](@ref) [`StridedMatrix`](@ref) or a *perfectly* symmetric or Hermitian `StridedMatrix`. The triangular Cholesky factor can be obtained from the factorization `F` with: `F.L` and `F.U`. The following functions are available for `Cholesky` objects: [`size`](@ref), [`\\`](@ref), [`inv`](@ref), [`det`](@ref), [`logdet`](@ref) and [`isposdef`](@ref).\n",
       "\n",
       "If you have a matrix `A` that is slightly non-Hermitian due to roundoff errors in its construction, wrap it in `Hermitian(A)` before passing it to `cholesky` in order to treat it as perfectly Hermitian.\n",
       "\n",
       "When `check = true`, an error is thrown if the decomposition fails. When `check = false`, responsibility for checking the decomposition's validity (via [`issuccess`](@ref)) lies with the user.\n",
       "\n",
       "# Examples\n",
       "\n",
       "```jldoctest\n",
       "julia> A = [4. 12. -16.; 12. 37. -43.; -16. -43. 98.]\n",
       "3×3 Matrix{Float64}:\n",
       "   4.0   12.0  -16.0\n",
       "  12.0   37.0  -43.0\n",
       " -16.0  -43.0   98.0\n",
       "\n",
       "julia> C = cholesky(A)\n",
       "Cholesky{Float64, Matrix{Float64}}\n",
       "U factor:\n",
       "3×3 UpperTriangular{Float64, Matrix{Float64}}:\n",
       " 2.0  6.0  -8.0\n",
       "  ⋅   1.0   5.0\n",
       "  ⋅    ⋅    3.0\n",
       "\n",
       "julia> C.U\n",
       "3×3 UpperTriangular{Float64, Matrix{Float64}}:\n",
       " 2.0  6.0  -8.0\n",
       "  ⋅   1.0   5.0\n",
       "  ⋅    ⋅    3.0\n",
       "\n",
       "julia> C.L\n",
       "3×3 LowerTriangular{Float64, Matrix{Float64}}:\n",
       "  2.0   ⋅    ⋅\n",
       "  6.0  1.0   ⋅\n",
       " -8.0  5.0  3.0\n",
       "\n",
       "julia> C.L * C.U == A\n",
       "true\n",
       "```\n",
       "\n",
       "---\n",
       "\n",
       "```\n",
       "cholesky(A, Val(true); tol = 0.0, check = true) -> CholeskyPivoted\n",
       "```\n",
       "\n",
       "Compute the pivoted Cholesky factorization of a dense symmetric positive semi-definite matrix `A` and return a [`CholeskyPivoted`](@ref) factorization. The matrix `A` can either be a [`Symmetric`](@ref) or [`Hermitian`](@ref) [`StridedMatrix`](@ref) or a *perfectly* symmetric or Hermitian `StridedMatrix`. The triangular Cholesky factor can be obtained from the factorization `F` with: `F.L` and `F.U`. The following functions are available for `CholeskyPivoted` objects: [`size`](@ref), [`\\`](@ref), [`inv`](@ref), [`det`](@ref), and [`rank`](@ref). The argument `tol` determines the tolerance for determining the rank. For negative values, the tolerance is the machine precision.\n",
       "\n",
       "If you have a matrix `A` that is slightly non-Hermitian due to roundoff errors in its construction, wrap it in `Hermitian(A)` before passing it to `cholesky` in order to treat it as perfectly Hermitian.\n",
       "\n",
       "When `check = true`, an error is thrown if the decomposition fails. When `check = false`, responsibility for checking the decomposition's validity (via [`issuccess`](@ref)) lies with the user.\n",
       "\n",
       "---\n",
       "\n",
       "```\n",
       "cholesky(A::SparseMatrixCSC; shift = 0.0, check = true, perm = nothing) -> CHOLMOD.Factor\n",
       "```\n",
       "\n",
       "Compute the Cholesky factorization of a sparse positive definite matrix `A`. `A` must be a [`SparseMatrixCSC`](@ref) or a [`Symmetric`](@ref)/[`Hermitian`](@ref) view of a `SparseMatrixCSC`. Note that even if `A` doesn't have the type tag, it must still be symmetric or Hermitian. If `perm` is not given, a fill-reducing permutation is used. `F = cholesky(A)` is most frequently used to solve systems of equations with `F\\b`, but also the methods [`diag`](@ref), [`det`](@ref), and [`logdet`](@ref) are defined for `F`. You can also extract individual factors from `F`, using `F.L`. However, since pivoting is on by default, the factorization is internally represented as `A == P'*L*L'*P` with a permutation matrix `P`; using just `L` without accounting for `P` will give incorrect answers. To include the effects of permutation, it's typically preferable to extract \"combined\" factors like `PtL = F.PtL` (the equivalent of `P'*L`) and `LtP = F.UP` (the equivalent of `L'*P`).\n",
       "\n",
       "When `check = true`, an error is thrown if the decomposition fails. When `check = false`, responsibility for checking the decomposition's validity (via [`issuccess`](@ref)) lies with the user.\n",
       "\n",
       "Setting the optional `shift` keyword argument computes the factorization of `A+shift*I` instead of `A`. If the `perm` argument is provided, it should be a permutation of `1:size(A,1)` giving the ordering to use (instead of CHOLMOD's default AMD ordering).\n",
       "\n",
       "# Examples\n",
       "\n",
       "In the following example, the fill-reducing permutation used is `[3, 2, 1]`. If `perm` is set to `1:3` to enforce no permutation, the number of nonzero elements in the factor is 6.\n",
       "\n",
       "```jldoctest\n",
       "julia> A = [2 1 1; 1 2 0; 1 0 2]\n",
       "3×3 Matrix{Int64}:\n",
       " 2  1  1\n",
       " 1  2  0\n",
       " 1  0  2\n",
       "\n",
       "julia> C = cholesky(sparse(A))\n",
       "SuiteSparse.CHOLMOD.Factor{Float64}\n",
       "type:    LLt\n",
       "method:  simplicial\n",
       "maxnnz:  5\n",
       "nnz:     5\n",
       "success: true\n",
       "\n",
       "julia> C.p\n",
       "3-element Vector{Int64}:\n",
       " 3\n",
       " 2\n",
       " 1\n",
       "\n",
       "julia> L = sparse(C.L);\n",
       "\n",
       "julia> Matrix(L)\n",
       "3×3 Matrix{Float64}:\n",
       " 1.41421   0.0       0.0\n",
       " 0.0       1.41421   0.0\n",
       " 0.707107  0.707107  1.0\n",
       "\n",
       "julia> L * L' ≈ A[C.p, C.p]\n",
       "true\n",
       "\n",
       "julia> P = sparse(1:3, C.p, ones(3))\n",
       "3×3 SparseMatrixCSC{Float64, Int64} with 3 stored entries:\n",
       "  ⋅    ⋅   1.0\n",
       "  ⋅   1.0   ⋅\n",
       " 1.0   ⋅    ⋅\n",
       "\n",
       "julia> P' * L * L' * P ≈ A\n",
       "true\n",
       "\n",
       "julia> C = cholesky(sparse(A), perm=1:3)\n",
       "SuiteSparse.CHOLMOD.Factor{Float64}\n",
       "type:    LLt\n",
       "method:  simplicial\n",
       "maxnnz:  6\n",
       "nnz:     6\n",
       "success: true\n",
       "\n",
       "julia> L = sparse(C.L);\n",
       "\n",
       "julia> Matrix(L)\n",
       "3×3 Matrix{Float64}:\n",
       " 1.41421    0.0       0.0\n",
       " 0.707107   1.22474   0.0\n",
       " 0.707107  -0.408248  1.1547\n",
       "\n",
       "julia> L * L' ≈ A\n",
       "true\n",
       "```\n",
       "\n",
       "!!! note\n",
       "    This method uses the CHOLMOD library from SuiteSparse, which only supports doubles or complex doubles. Input matrices not of those element types will be converted to `SparseMatrixCSC{Float64}` or `SparseMatrixCSC{ComplexF64}` as appropriate.\n",
       "\n",
       "    Many other functions from CHOLMOD are wrapped but not exported from the `Base.SparseArrays.CHOLMOD` module.\n",
       "\n"
      ],
      "text/plain": [
       "\u001b[36m  cholesky(A, Val(false); check = true) -> Cholesky\u001b[39m\n",
       "\n",
       "  Compute the Cholesky factorization of a dense symmetric positive definite\n",
       "  matrix \u001b[36mA\u001b[39m and return a \u001b[36mCholesky\u001b[39m factorization. The matrix \u001b[36mA\u001b[39m can either be a\n",
       "  \u001b[36mSymmetric\u001b[39m or \u001b[36mHermitian\u001b[39m \u001b[36mStridedMatrix\u001b[39m or a \u001b[4mperfectly\u001b[24m symmetric or Hermitian\n",
       "  \u001b[36mStridedMatrix\u001b[39m. The triangular Cholesky factor can be obtained from the\n",
       "  factorization \u001b[36mF\u001b[39m with: \u001b[36mF.L\u001b[39m and \u001b[36mF.U\u001b[39m. The following functions are available for\n",
       "  \u001b[36mCholesky\u001b[39m objects: \u001b[36msize\u001b[39m, \u001b[36m\\\u001b[39m, \u001b[36minv\u001b[39m, \u001b[36mdet\u001b[39m, \u001b[36mlogdet\u001b[39m and \u001b[36misposdef\u001b[39m.\n",
       "\n",
       "  If you have a matrix \u001b[36mA\u001b[39m that is slightly non-Hermitian due to roundoff errors\n",
       "  in its construction, wrap it in \u001b[36mHermitian(A)\u001b[39m before passing it to \u001b[36mcholesky\u001b[39m\n",
       "  in order to treat it as perfectly Hermitian.\n",
       "\n",
       "  When \u001b[36mcheck = true\u001b[39m, an error is thrown if the decomposition fails. When \u001b[36mcheck\n",
       "  = false\u001b[39m, responsibility for checking the decomposition's validity (via\n",
       "  \u001b[36missuccess\u001b[39m) lies with the user.\n",
       "\n",
       "\u001b[1m  Examples\u001b[22m\n",
       "\u001b[1m  ≡≡≡≡≡≡≡≡≡≡\u001b[22m\n",
       "\n",
       "\u001b[36m  julia> A = [4. 12. -16.; 12. 37. -43.; -16. -43. 98.]\u001b[39m\n",
       "\u001b[36m  3×3 Matrix{Float64}:\u001b[39m\n",
       "\u001b[36m     4.0   12.0  -16.0\u001b[39m\n",
       "\u001b[36m    12.0   37.0  -43.0\u001b[39m\n",
       "\u001b[36m   -16.0  -43.0   98.0\u001b[39m\n",
       "\u001b[36m  \u001b[39m\n",
       "\u001b[36m  julia> C = cholesky(A)\u001b[39m\n",
       "\u001b[36m  Cholesky{Float64, Matrix{Float64}}\u001b[39m\n",
       "\u001b[36m  U factor:\u001b[39m\n",
       "\u001b[36m  3×3 UpperTriangular{Float64, Matrix{Float64}}:\u001b[39m\n",
       "\u001b[36m   2.0  6.0  -8.0\u001b[39m\n",
       "\u001b[36m    ⋅   1.0   5.0\u001b[39m\n",
       "\u001b[36m    ⋅    ⋅    3.0\u001b[39m\n",
       "\u001b[36m  \u001b[39m\n",
       "\u001b[36m  julia> C.U\u001b[39m\n",
       "\u001b[36m  3×3 UpperTriangular{Float64, Matrix{Float64}}:\u001b[39m\n",
       "\u001b[36m   2.0  6.0  -8.0\u001b[39m\n",
       "\u001b[36m    ⋅   1.0   5.0\u001b[39m\n",
       "\u001b[36m    ⋅    ⋅    3.0\u001b[39m\n",
       "\u001b[36m  \u001b[39m\n",
       "\u001b[36m  julia> C.L\u001b[39m\n",
       "\u001b[36m  3×3 LowerTriangular{Float64, Matrix{Float64}}:\u001b[39m\n",
       "\u001b[36m    2.0   ⋅    ⋅\u001b[39m\n",
       "\u001b[36m    6.0  1.0   ⋅\u001b[39m\n",
       "\u001b[36m   -8.0  5.0  3.0\u001b[39m\n",
       "\u001b[36m  \u001b[39m\n",
       "\u001b[36m  julia> C.L * C.U == A\u001b[39m\n",
       "\u001b[36m  true\u001b[39m\n",
       "\n",
       "  ────────────────────────────────────────────────────────────────────────────\n",
       "\n",
       "\u001b[36m  cholesky(A, Val(true); tol = 0.0, check = true) -> CholeskyPivoted\u001b[39m\n",
       "\n",
       "  Compute the pivoted Cholesky factorization of a dense symmetric positive\n",
       "  semi-definite matrix \u001b[36mA\u001b[39m and return a \u001b[36mCholeskyPivoted\u001b[39m factorization. The\n",
       "  matrix \u001b[36mA\u001b[39m can either be a \u001b[36mSymmetric\u001b[39m or \u001b[36mHermitian\u001b[39m \u001b[36mStridedMatrix\u001b[39m or a \u001b[4mperfectly\u001b[24m\n",
       "  symmetric or Hermitian \u001b[36mStridedMatrix\u001b[39m. The triangular Cholesky factor can be\n",
       "  obtained from the factorization \u001b[36mF\u001b[39m with: \u001b[36mF.L\u001b[39m and \u001b[36mF.U\u001b[39m. The following functions\n",
       "  are available for \u001b[36mCholeskyPivoted\u001b[39m objects: \u001b[36msize\u001b[39m, \u001b[36m\\\u001b[39m, \u001b[36minv\u001b[39m, \u001b[36mdet\u001b[39m, and \u001b[36mrank\u001b[39m. The\n",
       "  argument \u001b[36mtol\u001b[39m determines the tolerance for determining the rank. For negative\n",
       "  values, the tolerance is the machine precision.\n",
       "\n",
       "  If you have a matrix \u001b[36mA\u001b[39m that is slightly non-Hermitian due to roundoff errors\n",
       "  in its construction, wrap it in \u001b[36mHermitian(A)\u001b[39m before passing it to \u001b[36mcholesky\u001b[39m\n",
       "  in order to treat it as perfectly Hermitian.\n",
       "\n",
       "  When \u001b[36mcheck = true\u001b[39m, an error is thrown if the decomposition fails. When \u001b[36mcheck\n",
       "  = false\u001b[39m, responsibility for checking the decomposition's validity (via\n",
       "  \u001b[36missuccess\u001b[39m) lies with the user.\n",
       "\n",
       "  ────────────────────────────────────────────────────────────────────────────\n",
       "\n",
       "\u001b[36m  cholesky(A::SparseMatrixCSC; shift = 0.0, check = true, perm = nothing) -> CHOLMOD.Factor\u001b[39m\n",
       "\n",
       "  Compute the Cholesky factorization of a sparse positive definite matrix \u001b[36mA\u001b[39m. \u001b[36mA\u001b[39m\n",
       "  must be a \u001b[36mSparseMatrixCSC\u001b[39m or a \u001b[36mSymmetric\u001b[39m/\u001b[36mHermitian\u001b[39m view of a\n",
       "  \u001b[36mSparseMatrixCSC\u001b[39m. Note that even if \u001b[36mA\u001b[39m doesn't have the type tag, it must\n",
       "  still be symmetric or Hermitian. If \u001b[36mperm\u001b[39m is not given, a fill-reducing\n",
       "  permutation is used. \u001b[36mF = cholesky(A)\u001b[39m is most frequently used to solve\n",
       "  systems of equations with \u001b[36mF\\b\u001b[39m, but also the methods \u001b[36mdiag\u001b[39m, \u001b[36mdet\u001b[39m, and \u001b[36mlogdet\u001b[39m\n",
       "  are defined for \u001b[36mF\u001b[39m. You can also extract individual factors from \u001b[36mF\u001b[39m, using\n",
       "  \u001b[36mF.L\u001b[39m. However, since pivoting is on by default, the factorization is\n",
       "  internally represented as \u001b[36mA == P'*L*L'*P\u001b[39m with a permutation matrix \u001b[36mP\u001b[39m; using\n",
       "  just \u001b[36mL\u001b[39m without accounting for \u001b[36mP\u001b[39m will give incorrect answers. To include the\n",
       "  effects of permutation, it's typically preferable to extract \"combined\"\n",
       "  factors like \u001b[36mPtL = F.PtL\u001b[39m (the equivalent of \u001b[36mP'*L\u001b[39m) and \u001b[36mLtP = F.UP\u001b[39m (the\n",
       "  equivalent of \u001b[36mL'*P\u001b[39m).\n",
       "\n",
       "  When \u001b[36mcheck = true\u001b[39m, an error is thrown if the decomposition fails. When \u001b[36mcheck\n",
       "  = false\u001b[39m, responsibility for checking the decomposition's validity (via\n",
       "  \u001b[36missuccess\u001b[39m) lies with the user.\n",
       "\n",
       "  Setting the optional \u001b[36mshift\u001b[39m keyword argument computes the factorization of\n",
       "  \u001b[36mA+shift*I\u001b[39m instead of \u001b[36mA\u001b[39m. If the \u001b[36mperm\u001b[39m argument is provided, it should be a\n",
       "  permutation of \u001b[36m1:size(A,1)\u001b[39m giving the ordering to use (instead of CHOLMOD's\n",
       "  default AMD ordering).\n",
       "\n",
       "\u001b[1m  Examples\u001b[22m\n",
       "\u001b[1m  ≡≡≡≡≡≡≡≡≡≡\u001b[22m\n",
       "\n",
       "  In the following example, the fill-reducing permutation used is \u001b[36m[3, 2, 1]\u001b[39m.\n",
       "  If \u001b[36mperm\u001b[39m is set to \u001b[36m1:3\u001b[39m to enforce no permutation, the number of nonzero\n",
       "  elements in the factor is 6.\n",
       "\n",
       "\u001b[36m  julia> A = [2 1 1; 1 2 0; 1 0 2]\u001b[39m\n",
       "\u001b[36m  3×3 Matrix{Int64}:\u001b[39m\n",
       "\u001b[36m   2  1  1\u001b[39m\n",
       "\u001b[36m   1  2  0\u001b[39m\n",
       "\u001b[36m   1  0  2\u001b[39m\n",
       "\u001b[36m  \u001b[39m\n",
       "\u001b[36m  julia> C = cholesky(sparse(A))\u001b[39m\n",
       "\u001b[36m  SuiteSparse.CHOLMOD.Factor{Float64}\u001b[39m\n",
       "\u001b[36m  type:    LLt\u001b[39m\n",
       "\u001b[36m  method:  simplicial\u001b[39m\n",
       "\u001b[36m  maxnnz:  5\u001b[39m\n",
       "\u001b[36m  nnz:     5\u001b[39m\n",
       "\u001b[36m  success: true\u001b[39m\n",
       "\u001b[36m  \u001b[39m\n",
       "\u001b[36m  julia> C.p\u001b[39m\n",
       "\u001b[36m  3-element Vector{Int64}:\u001b[39m\n",
       "\u001b[36m   3\u001b[39m\n",
       "\u001b[36m   2\u001b[39m\n",
       "\u001b[36m   1\u001b[39m\n",
       "\u001b[36m  \u001b[39m\n",
       "\u001b[36m  julia> L = sparse(C.L);\u001b[39m\n",
       "\u001b[36m  \u001b[39m\n",
       "\u001b[36m  julia> Matrix(L)\u001b[39m\n",
       "\u001b[36m  3×3 Matrix{Float64}:\u001b[39m\n",
       "\u001b[36m   1.41421   0.0       0.0\u001b[39m\n",
       "\u001b[36m   0.0       1.41421   0.0\u001b[39m\n",
       "\u001b[36m   0.707107  0.707107  1.0\u001b[39m\n",
       "\u001b[36m  \u001b[39m\n",
       "\u001b[36m  julia> L * L' ≈ A[C.p, C.p]\u001b[39m\n",
       "\u001b[36m  true\u001b[39m\n",
       "\u001b[36m  \u001b[39m\n",
       "\u001b[36m  julia> P = sparse(1:3, C.p, ones(3))\u001b[39m\n",
       "\u001b[36m  3×3 SparseMatrixCSC{Float64, Int64} with 3 stored entries:\u001b[39m\n",
       "\u001b[36m    ⋅    ⋅   1.0\u001b[39m\n",
       "\u001b[36m    ⋅   1.0   ⋅\u001b[39m\n",
       "\u001b[36m   1.0   ⋅    ⋅\u001b[39m\n",
       "\u001b[36m  \u001b[39m\n",
       "\u001b[36m  julia> P' * L * L' * P ≈ A\u001b[39m\n",
       "\u001b[36m  true\u001b[39m\n",
       "\u001b[36m  \u001b[39m\n",
       "\u001b[36m  julia> C = cholesky(sparse(A), perm=1:3)\u001b[39m\n",
       "\u001b[36m  SuiteSparse.CHOLMOD.Factor{Float64}\u001b[39m\n",
       "\u001b[36m  type:    LLt\u001b[39m\n",
       "\u001b[36m  method:  simplicial\u001b[39m\n",
       "\u001b[36m  maxnnz:  6\u001b[39m\n",
       "\u001b[36m  nnz:     6\u001b[39m\n",
       "\u001b[36m  success: true\u001b[39m\n",
       "\u001b[36m  \u001b[39m\n",
       "\u001b[36m  julia> L = sparse(C.L);\u001b[39m\n",
       "\u001b[36m  \u001b[39m\n",
       "\u001b[36m  julia> Matrix(L)\u001b[39m\n",
       "\u001b[36m  3×3 Matrix{Float64}:\u001b[39m\n",
       "\u001b[36m   1.41421    0.0       0.0\u001b[39m\n",
       "\u001b[36m   0.707107   1.22474   0.0\u001b[39m\n",
       "\u001b[36m   0.707107  -0.408248  1.1547\u001b[39m\n",
       "\u001b[36m  \u001b[39m\n",
       "\u001b[36m  julia> L * L' ≈ A\u001b[39m\n",
       "\u001b[36m  true\u001b[39m\n",
       "\n",
       "\u001b[36m\u001b[1m  │ \u001b[22m\u001b[39m\u001b[36m\u001b[1mNote\u001b[22m\u001b[39m\n",
       "\u001b[36m\u001b[1m  │\u001b[22m\u001b[39m\n",
       "\u001b[36m\u001b[1m  │\u001b[22m\u001b[39m  This method uses the CHOLMOD library from SuiteSparse, which only\n",
       "\u001b[36m\u001b[1m  │\u001b[22m\u001b[39m  supports doubles or complex doubles. Input matrices not of those\n",
       "\u001b[36m\u001b[1m  │\u001b[22m\u001b[39m  element types will be converted to \u001b[36mSparseMatrixCSC{Float64}\u001b[39m or\n",
       "\u001b[36m\u001b[1m  │\u001b[22m\u001b[39m  \u001b[36mSparseMatrixCSC{ComplexF64}\u001b[39m as appropriate.\n",
       "\u001b[36m\u001b[1m  │\u001b[22m\u001b[39m\n",
       "\u001b[36m\u001b[1m  │\u001b[22m\u001b[39m  Many other functions from CHOLMOD are wrapped but not exported\n",
       "\u001b[36m\u001b[1m  │\u001b[22m\u001b[39m  from the \u001b[36mBase.SparseArrays.CHOLMOD\u001b[39m module."
      ]
     },
     "execution_count": 37,
     "metadata": {},
     "output_type": "execute_result"
    }
   ],
   "source": [
    "?cholesky"
   ]
  },
  {
   "cell_type": "code",
   "execution_count": 38,
   "metadata": {},
   "outputs": [
    {
     "data": {
      "text/plain": [
       "5×5 Matrix{Float64}:\n",
       "  3.83519   -1.69009     0.044218    3.75477    0.496562\n",
       " -1.69009    1.3782      0.0773687  -1.62612   -0.119435\n",
       "  0.044218   0.0773687   2.55684    -0.084507   0.712591\n",
       "  3.75477   -1.62612    -0.084507    6.70871    2.35541\n",
       "  0.496562  -0.119435    0.712591    2.35541    1.84005"
      ]
     },
     "execution_count": 38,
     "metadata": {},
     "output_type": "execute_result"
    }
   ],
   "source": [
    "n = 5\n",
    "A = randspd(n)"
   ]
  },
  {
   "cell_type": "code",
   "execution_count": 39,
   "metadata": {},
   "outputs": [
    {
     "data": {
      "text/plain": [
       "Cholesky{Float64, Matrix{Float64}}\n",
       "U factor:\n",
       "5×5 UpperTriangular{Float64, Matrix{Float64}}:\n",
       " 1.95837  -0.863013  0.022579   1.9173     0.253559\n",
       "  ⋅        0.795871  0.121697   0.0358507  0.124883\n",
       "  ⋅         ⋅        1.59421   -0.0829002  0.433861\n",
       "  ⋅         ⋅         ⋅         1.73911    1.09294\n",
       "  ⋅         ⋅         ⋅          ⋅         0.614335"
      ]
     },
     "execution_count": 39,
     "metadata": {},
     "output_type": "execute_result"
    }
   ],
   "source": [
    "F = cholesky(A)"
   ]
  },
  {
   "cell_type": "code",
   "execution_count": 40,
   "metadata": {},
   "outputs": [
    {
     "data": {
      "text/plain": [
       "5×5 UpperTriangular{Float64, Matrix{Float64}}:\n",
       " 1.95837  -0.863013  0.022579   1.9173     0.253559\n",
       "  ⋅        0.795871  0.121697   0.0358507  0.124883\n",
       "  ⋅         ⋅        1.59421   -0.0829002  0.433861\n",
       "  ⋅         ⋅         ⋅         1.73911    1.09294\n",
       "  ⋅         ⋅         ⋅          ⋅         0.614335"
      ]
     },
     "execution_count": 40,
     "metadata": {},
     "output_type": "execute_result"
    }
   ],
   "source": [
    "R = F.U"
   ]
  },
  {
   "cell_type": "code",
   "execution_count": 41,
   "metadata": {},
   "outputs": [
    {
     "data": {
      "text/plain": [
       "5×5 Matrix{Float64}:\n",
       "  0.0          2.22045e-16  0.0          0.0  -5.55112e-17\n",
       "  2.22045e-16  0.0          0.0          0.0   0.0\n",
       "  0.0          0.0          4.44089e-16  0.0   0.0\n",
       "  0.0          0.0          0.0          0.0   0.0\n",
       " -5.55112e-17  0.0          0.0          0.0   0.0"
      ]
     },
     "execution_count": 41,
     "metadata": {},
     "output_type": "execute_result"
    }
   ],
   "source": [
    "A - R'R"
   ]
  },
  {
   "cell_type": "markdown",
   "metadata": {},
   "source": [
    "---\n",
    "\n",
    "### Exercise:\n",
    "\n",
    "The function `cholesky` will detect if $A$ is not positive definite. In fact, this is the **most efficient** method for testing if a symmetric matrix is positive definite or not.\n",
    "\n",
    "See what happens when you give the `cholesky` function a matrix that is symmetric but not positive definite."
   ]
  },
  {
   "cell_type": "code",
   "execution_count": 42,
   "metadata": {},
   "outputs": [
    {
     "data": {
      "text/plain": [
       "5×5 Matrix{Float64}:\n",
       " -1.67549     1.34285    1.6189   -0.0229959  -1.47163\n",
       "  1.34285    -0.158231   0.95082  -1.64809    -0.127375\n",
       "  1.6189      0.95082   -1.59807   1.87788     1.03154\n",
       " -0.0229959  -1.64809    1.87788   3.81699    -2.02654\n",
       " -1.47163    -0.127375   1.03154  -2.02654     0.241032"
      ]
     },
     "execution_count": 42,
     "metadata": {},
     "output_type": "execute_result"
    }
   ],
   "source": [
    "n = 5\n",
    "M = randn(n,n)\n",
    "A = M + M'"
   ]
  },
  {
   "cell_type": "code",
   "execution_count": 43,
   "metadata": {},
   "outputs": [
    {
     "ename": "LoadError",
     "evalue": "PosDefException: matrix is not positive definite; Cholesky factorization failed.",
     "output_type": "error",
     "traceback": [
      "PosDefException: matrix is not positive definite; Cholesky factorization failed.",
      "",
      "Stacktrace:",
      " [1] checkpositivedefinite",
      "   @ /Users/julia/buildbot/worker/package_macos64/build/usr/share/julia/stdlib/v1.6/LinearAlgebra/src/factorization.jl:18 [inlined]",
      " [2] cholesky!(A::Hermitian{Float64, Matrix{Float64}}, ::Val{false}; check::Bool)",
      "   @ LinearAlgebra /Users/julia/buildbot/worker/package_macos64/build/usr/share/julia/stdlib/v1.6/LinearAlgebra/src/cholesky.jl:253",
      " [3] cholesky!(A::Matrix{Float64}, ::Val{false}; check::Bool)",
      "   @ LinearAlgebra /Users/julia/buildbot/worker/package_macos64/build/usr/share/julia/stdlib/v1.6/LinearAlgebra/src/cholesky.jl:285",
      " [4] #cholesky#134",
      "   @ /Users/julia/buildbot/worker/package_macos64/build/usr/share/julia/stdlib/v1.6/LinearAlgebra/src/cholesky.jl:378 [inlined]",
      " [5] cholesky (repeats 2 times)",
      "   @ /Users/julia/buildbot/worker/package_macos64/build/usr/share/julia/stdlib/v1.6/LinearAlgebra/src/cholesky.jl:378 [inlined]",
      " [6] top-level scope",
      "   @ In[43]:1",
      " [7] eval",
      "   @ ./boot.jl:360 [inlined]",
      " [8] include_string(mapexpr::typeof(REPL.softscope), mod::Module, code::String, filename::String)",
      "   @ Base ./loading.jl:1116"
     ]
    }
   ],
   "source": [
    "F = cholesky(A)"
   ]
  },
  {
   "cell_type": "code",
   "execution_count": 44,
   "metadata": {},
   "outputs": [
    {
     "data": {
      "text/plain": [
       "5-element Vector{Float64}:\n",
       " -4.536922292427493\n",
       " -2.3820393253734915\n",
       "  0.5270177355215954\n",
       "  1.6789340179856265\n",
       "  5.339247464392662"
      ]
     },
     "execution_count": 44,
     "metadata": {},
     "output_type": "execute_result"
    }
   ],
   "source": [
    "eigvals(A)"
   ]
  },
  {
   "cell_type": "code",
   "execution_count": 45,
   "metadata": {},
   "outputs": [
    {
     "data": {
      "text/plain": [
       "false"
      ]
     },
     "execution_count": 45,
     "metadata": {},
     "output_type": "execute_result"
    }
   ],
   "source": [
    "isposdef(A)"
   ]
  },
  {
   "cell_type": "code",
   "execution_count": 56,
   "metadata": {},
   "outputs": [
    {
     "data": {
      "text/plain": [
       "true"
      ]
     },
     "execution_count": 56,
     "metadata": {},
     "output_type": "execute_result"
    }
   ],
   "source": [
    "isposdef(randspd(n))"
   ]
  },
  {
   "cell_type": "markdown",
   "metadata": {},
   "source": [
    "---\n",
    "\n",
    "### Exercise:\n",
    "\n",
    "Let $R$ be the Cholesky factor of a positive definite matrix $A$. \n",
    "\n",
    "1. Propose an algorithm for solving $Ax = b$ using the Cholesky factorization $A = R^TR$. Your algorithm should have **two** steps, a forward-substitution and a backward-substitution.\n",
    "\n",
    "2. What is the flop count of your algorithm?\n",
    "\n",
    "3. Implement your algorithm in `Julia`. Check that the output is correct."
   ]
  },
  {
   "cell_type": "markdown",
   "metadata": {},
   "source": [
    "#### Part 1\n",
    "\n",
    "Suppose $A$ is symmetric positive definite and that $A = R^TR$ is its Cholesky decomposition. Suppose also that $Ax = b$. Then\n",
    "\n",
    "$$\n",
    "R^T R x = b.\n",
    "$$\n",
    "\n",
    "Let $z = R x$. Then $R^T z = b$ is a lower triangular linear system, and since the diagonal entries of $R$ are all positive, the matrix $R^T$ is nonsingular. So our algorithm is:\n",
    "\n",
    "1. Solve $R^T z = b$ for the vector $z$ using forward substitution.\n",
    "2. Solve $R x = z$ for the vector $x$ using backward substitution."
   ]
  },
  {
   "cell_type": "markdown",
   "metadata": {},
   "source": [
    "#### Part 2\n",
    "\n",
    "Suppose that $A$ is $n \\times n$. Then both $R$ and $R^T$ are $n \\times n$. Then we have:\n",
    "\n",
    "1. Solving $R^T z = b$ requires $n^2$ flops.\n",
    "2. Solving $R x = z$ requires $n^2$ flops.\n",
    "\n",
    "So, in total, solving $A x = b$ given the Cholesky decomposition of $A$ requires $2 n^2$ flops. Note this is the same flop count as multiplying a $n \\times n$ matrix times a vector."
   ]
  },
  {
   "cell_type": "markdown",
   "metadata": {},
   "source": [
    "### Part 3"
   ]
  },
  {
   "cell_type": "code",
   "execution_count": 59,
   "metadata": {},
   "outputs": [
    {
     "data": {
      "text/plain": [
       "5-element Vector{Float64}:\n",
       " -1.32152531644529\n",
       "  0.8275283189408019\n",
       "  0.9748235980121617\n",
       "  0.7110282330642613\n",
       " -0.668775443253583"
      ]
     },
     "execution_count": 59,
     "metadata": {},
     "output_type": "execute_result"
    }
   ],
   "source": [
    "n = 5\n",
    "A = randspd(n)\n",
    "xtrue = randn(n)\n",
    "b = A*xtrue\n",
    "\n",
    "F = cholesky(A)\n",
    "R = F.U\n",
    "\n",
    "# Step 1 (forward substitution)\n",
    "z = R'\\b\n",
    "\n",
    "# Step 2 (backward substitution)\n",
    "x = R\\z"
   ]
  },
  {
   "cell_type": "code",
   "execution_count": 61,
   "metadata": {},
   "outputs": [
    {
     "data": {
      "text/plain": [
       "5-element Vector{Float64}:\n",
       "  0.0\n",
       "  1.4432899320127035e-15\n",
       "  6.439293542825908e-15\n",
       "  1.1102230246251565e-15\n",
       " -8.881784197001252e-16"
      ]
     },
     "execution_count": 61,
     "metadata": {},
     "output_type": "execute_result"
    }
   ],
   "source": [
    "x - xtrue"
   ]
  },
  {
   "cell_type": "markdown",
   "metadata": {},
   "source": [
    "---\n",
    "### Exercise:\n",
    "\n",
    "Compute the Cholesky factor of $A$ by hand by writing $A = R^T R$ as follows.\n",
    "\n",
    "$$ \n",
    "\\begin{bmatrix}\n",
    " 4 & -2 &  4 \\\\\n",
    "-2 & 10 & -2 \\\\\n",
    " 4 & -2 &  8 \\\\\n",
    "\\end{bmatrix} =\n",
    "\\begin{bmatrix}\n",
    "r_{11} \\\\\n",
    "r_{12} & r_{22} \\\\\n",
    "r_{13} & r_{23} & r_{33} \\\\\n",
    "\\end{bmatrix}\n",
    "\\begin{bmatrix}\n",
    "r_{11} & r_{12} & r_{13} \\\\\n",
    "       & r_{22} & r_{23} \\\\\n",
    "       &        & r_{33} \\\\\n",
    "\\end{bmatrix}\n",
    "$$"
   ]
  },
  {
   "cell_type": "markdown",
   "metadata": {},
   "source": [
    "Multiplying the two matrices on the rhs gives us\n",
    "\n",
    "$$\n",
    "\\begin{bmatrix}\n",
    " 4 & -2 &  4 \\\\\n",
    "-2 & 10 & -2 \\\\\n",
    " 4 & -2 &  8 \\\\\n",
    "\\end{bmatrix} =\n",
    "\\begin{bmatrix}\n",
    "r_{11}^2 & r_{11} r_{12} & r_{11} r_{13} \\\\\n",
    "r_{11} r_{12} & r_{12}^2 + r_{22}^2 & r_{12} r_{13} + r_{22} r_{23} \\\\\n",
    "r_{11} r_{13} & r_{12} r_{13} + r_{22} r_{23} & r_{13}^2 + r_{23}^2 + r_{33}^2\n",
    "\\end{bmatrix}.\n",
    "$$"
   ]
  },
  {
   "cell_type": "markdown",
   "metadata": {},
   "source": [
    "Then we have:\n",
    "\n",
    "1. $r_{11}^2 = 4 \\implies r_{11} = 2$\n",
    "2. $r_{11} r_{12} = -2 \\implies 2 r_{12} = -2 \\implies r_{12} = -1$\n",
    "3. $r_{11} r_{13} = 4 \\implies 2 r_{13} = 4 \\implies r_{13} = 2$\n",
    "4. $r_{12}^2 + r_{22}^2 = 10 \\implies 1 + r_{22}^2 = 10 \\implies r_{22} = 3$\n",
    "5. $r_{12} r_{13} + r_{22} r_{23} = -2 \\implies -2 + 3 r_{23} = -2 \\implies r_{23} = 0$\n",
    "6. $r_{13}^2 + r_{23}^2 + r_{33}^2 = 8 \\implies 4 + 0 + r_{33}^2 = 8 \\implies r_{33} = 2$"
   ]
  },
  {
   "cell_type": "markdown",
   "metadata": {},
   "source": [
    "Therefore,\n",
    "\n",
    "$$\n",
    "R = \\begin{bmatrix}\n",
    "2 & -1 & 2 \\\\\n",
    "  &  3 & 0 \\\\\n",
    "  &    & 2\n",
    "  \\end{bmatrix}.\n",
    "  $$"
   ]
  },
  {
   "cell_type": "code",
   "execution_count": 62,
   "metadata": {},
   "outputs": [
    {
     "data": {
      "text/plain": [
       "3×3 Matrix{Int64}:\n",
       " 2  -1  2\n",
       " 0   3  0\n",
       " 0   0  2"
      ]
     },
     "execution_count": 62,
     "metadata": {},
     "output_type": "execute_result"
    }
   ],
   "source": [
    "R = [ 2 -1 2; 0 3 0; 0 0 2]"
   ]
  },
  {
   "cell_type": "code",
   "execution_count": 63,
   "metadata": {},
   "outputs": [
    {
     "data": {
      "text/plain": [
       "3×3 Matrix{Int64}:\n",
       "  4  -2   4\n",
       " -2  10  -2\n",
       "  4  -2   8"
      ]
     },
     "execution_count": 63,
     "metadata": {},
     "output_type": "execute_result"
    }
   ],
   "source": [
    "R'R"
   ]
  },
  {
   "cell_type": "code",
   "execution_count": 65,
   "metadata": {},
   "outputs": [
    {
     "data": {
      "text/plain": [
       "3×3 Matrix{Int64}:\n",
       "  4  -2   4\n",
       " -2  10  -2\n",
       "  4  -2   8"
      ]
     },
     "execution_count": 65,
     "metadata": {},
     "output_type": "execute_result"
    }
   ],
   "source": [
    "A = [\n",
    "    4 -2 4\n",
    "    -2 10 -2\n",
    "    4 -2 8 ]"
   ]
  },
  {
   "cell_type": "markdown",
   "metadata": {},
   "source": [
    "---\n",
    "\n",
    "### General Inner-Product Cholesky Formula\n",
    "\n",
    "The general formulas for the entries $r_{ij}$ of the Cholesky factor $R$ of a positive definite matrix $A$ are given by\n",
    "\n",
    "$$\n",
    "\\begin{align}\n",
    "r_{ii} &= \\sqrt{a_{ii} - \\sum_{k=1}^{i-1} r_{ki}^2}, \\\\\n",
    "r_{ij} &= \\left(a_{ij} - \\sum_{k=1}^{i-1} r_{ki} r_{kj}\\right)\\bigg/r_{ii}, \\qquad j = i+1, \\ldots, n. \\\\\n",
    "\\end{align}\n",
    "$$"
   ]
  },
  {
   "cell_type": "markdown",
   "metadata": {},
   "source": [
    "---\n",
    "\n",
    "### Exercise:\n",
    "\n",
    "Complete the following `Julia` function for the inner-product version of Cholesky's Algorithm."
   ]
  },
  {
   "cell_type": "code",
   "execution_count": null,
   "metadata": {},
   "outputs": [],
   "source": [
    "function chol_ip(A::Symmetric)\n",
    "        \n",
    "    # Initialize R to be the upper-triangular part of A\n",
    "    R = UpperTriangular(copy(A))\n",
    "\n",
    "    n = size(A, 1)\n",
    "\n",
    "    for i = 1:n\n",
    "        # R[i,i] = sqrt(A[i,i] - sum_{k=1}^{i-1} R[k,i]^2)\n",
    "        \n",
    "        # R[i,j] = (A[i,j] - sum_{k=1}^{i-1} R[k,i]*R[k,j]) / R[i,i]\n",
    "        \n",
    "    end\n",
    "    \n",
    "    return R\n",
    "end"
   ]
  },
  {
   "cell_type": "markdown",
   "metadata": {},
   "source": [
    "---\n",
    "\n",
    "### Exercise:\n",
    "\n",
    "Develop the **Outer-Product Form of Cholesky's Algorithm** by partitioning $A = R^TR$ as:\n",
    "\n",
    "$$\n",
    "\\begin{bmatrix}\n",
    "a_{11} & b^T \\\\\n",
    "b & \\hat{A} \\\\\n",
    "\\end{bmatrix} \n",
    "= \n",
    "\\begin{bmatrix}\n",
    "r_{11} & 0 \\\\\n",
    "s & \\hat{R}^T \\\\\n",
    "\\end{bmatrix}\n",
    "\\begin{bmatrix}\n",
    "r_{11} & s^T \\\\\n",
    "0 & \\hat{R} \\\\\n",
    "\\end{bmatrix}.\n",
    "$$\n",
    "\n",
    "1. Use block-matrix multiplication to multiply the matrices $R^T$ and $R$.\n",
    "2. Based on the equations from part (1), derive a recursive algorithm for computing $R$."
   ]
  },
  {
   "cell_type": "markdown",
   "metadata": {},
   "source": [
    "---\n",
    "\n",
    "### Exercise:\n",
    "\n",
    "Complete the following `Julia` function for the recursive version of Cholesky's Algorithm."
   ]
  },
  {
   "cell_type": "code",
   "execution_count": null,
   "metadata": {},
   "outputs": [],
   "source": [
    "function chol_rop(A::Symmetric)\n",
    "\n",
    "    n = size(A, 1)\n",
    "\n",
    "    # Initialize R = 0 and the same size and datatype as A\n",
    "    R = UpperTriangular(zeros(n, n))\n",
    "    \n",
    "    #######################\n",
    "    # Your code goes here #\n",
    "    #######################\n",
    "    \n",
    "    return R\n",
    "    \n",
    "end"
   ]
  },
  {
   "cell_type": "markdown",
   "metadata": {},
   "source": [
    "---\n",
    "\n",
    "### Exercise:\n",
    "\n",
    "Develop the **Bordered Form of Cholesky's Algorithm** by partitioning $A = R^TR$ as:\n",
    "\n",
    "$$\n",
    "\\begin{bmatrix}\n",
    "\\hat{A} & c \\\\\n",
    "c^T & a_{nn} \\\\\n",
    "\\end{bmatrix} \n",
    "= \n",
    "\\begin{bmatrix}\n",
    "\\hat{R}^T & 0 \\\\\n",
    "h^T & r_{nn} \\\\\n",
    "\\end{bmatrix}\n",
    "\\begin{bmatrix}\n",
    "\\hat{R} & h \\\\\n",
    "0 & r_{nn} \\\\\n",
    "\\end{bmatrix}\n",
    "$$\n",
    "\n",
    "1. Use block-matrix multiplication to multiply the matrices $R^T$ and $R$.\n",
    "2. Based on the equations from part (1), derive a recursive algorithm for computing $R$.\n",
    "3. Based on your recursive algorithm, determine the number of flops for computing the Cholesky decomposition of an $n \\times n$ positive definite matrix $A$."
   ]
  },
  {
   "cell_type": "markdown",
   "metadata": {},
   "source": [
    "---\n",
    "\n",
    "## Proof of the Cholesky Decomposition Theorem\n",
    "\n",
    "> ### Cholesky Decomposition Theorem\n",
    "> Let $n$ be a positive integer. If $A$ is an $n \\times n$ positive definite matrix, then there is a **unique $n \\times n$ upper-triangular matrix** $R$ with **positive diagonal entries** such that\n",
    "> $$A = R^T R.$$\n",
    "\n",
    "We will prove this theorem using mathematical induction, based on the following partitioning.\n",
    "\n",
    "$$\n",
    "\\begin{bmatrix}\n",
    "\\hat{A} & c \\\\\n",
    "c^T & a_{nn} \\\\\n",
    "\\end{bmatrix} \n",
    "= \n",
    "\\begin{bmatrix}\n",
    "\\hat{R}^T & 0 \\\\\n",
    "h^T & r_{nn} \\\\\n",
    "\\end{bmatrix}\n",
    "\\begin{bmatrix}\n",
    "\\hat{R} & h \\\\\n",
    "0 & r_{nn} \\\\\n",
    "\\end{bmatrix}\n",
    "$$\n",
    "\n",
    "First we need to prove the following lemma."
   ]
  },
  {
   "cell_type": "markdown",
   "metadata": {},
   "source": [
    "> ### Lemma\n",
    "> Let $A$ be positive definite and partitioned as\n",
    ">\n",
    "> $$\n",
    "A = \n",
    "\\begin{bmatrix}\n",
    "A_{11} & A_{12} \\\\\n",
    "A_{21} & A_{22}\n",
    "\\end{bmatrix}\n",
    "$$\n",
    ">\n",
    ">where $A_{11} \\in \\mathbb{R}^{n_1 \\times n_1}$ and $A_{22} \\in \\mathbb{R}^{n_2 \\times n_2}$. Then $A_{11}$ and $A_{22}$ are positive definite."
   ]
  },
  {
   "cell_type": "markdown",
   "metadata": {},
   "source": [
    "---\n",
    "### Exercise:\n",
    "\n",
    "Prove the lemma."
   ]
  },
  {
   "cell_type": "markdown",
   "metadata": {},
   "source": [
    "---\n",
    "### Exercise:\n",
    "\n",
    "Use the following steps to prove the theorem.\n",
    "\n",
    "1. Prove that the theorem is true for $n = 1$. This is the _base case_.\n",
    "2. Suppose that the theorem is true for $n = k$. This is the _induction hypothesis_.\n",
    "3. Let $n = k+1$ and let $A$ be an $n \\times n$ positive definite matrix.\n",
    "4. Show that there is a unique $n \\times n$ upper-triangular matrix $R$ with positive diagonal entries such that $A = R^T R$ by considering the following partitioning of $A = R^T R$,\n",
    " $$\n",
    "\\begin{bmatrix}\n",
    "\\hat{A} & c \\\\\n",
    "c^T & a_{nn} \\\\\n",
    "\\end{bmatrix} \n",
    "= \n",
    "\\begin{bmatrix}\n",
    "\\hat{R}^T & 0 \\\\\n",
    "h^T & r_{nn} \\\\\n",
    "\\end{bmatrix}\n",
    "\\begin{bmatrix}\n",
    "\\hat{R} & h \\\\\n",
    "0 & r_{nn} \\\\\n",
    "\\end{bmatrix},\n",
    "$$\n",
    " and showing that there exist unique $\\hat{R}$, $h$, and $r_{nn}$ that satisfy this equation."
   ]
  },
  {
   "cell_type": "markdown",
   "metadata": {},
   "source": [
    "---"
   ]
  }
 ],
 "metadata": {
  "@webio": {
   "lastCommId": null,
   "lastKernelId": null
  },
  "anaconda-cloud": {},
  "kernelspec": {
   "display_name": "Julia 1.6.2",
   "language": "julia",
   "name": "julia-1.6"
  },
  "language_info": {
   "file_extension": ".jl",
   "mimetype": "application/julia",
   "name": "julia",
   "version": "1.6.2"
  }
 },
 "nbformat": 4,
 "nbformat_minor": 1
}
