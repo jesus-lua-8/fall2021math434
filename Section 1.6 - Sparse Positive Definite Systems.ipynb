{
 "cells": [
  {
   "cell_type": "markdown",
   "metadata": {},
   "source": [
    "---\n",
    "# Section 1.6: Sparse Positive Definite Systems\n",
    "---"
   ]
  },
  {
   "cell_type": "markdown",
   "metadata": {},
   "source": [
    "If an $n \\times n$ symmetric positive definite matrix $A$ has the **arrowhead** structure ($* =$ nonzero entry),\n",
    "\n",
    "$$\n",
    "A = \n",
    "\\begin{bmatrix}\n",
    "* &   &   &   &  *\\\\\n",
    "  & * &   &   &  *\\\\\n",
    "  &   & * &   &  *\\\\\n",
    "  &   &   & * &  *\\\\\n",
    "* & * & * & * &  *\\\\\n",
    "\\end{bmatrix}\n",
    "$$\n",
    "\n",
    "then its Cholesky factor $R$ will have **zero fill-in**:\n",
    "\n",
    "$$\n",
    "R = \n",
    "\\begin{bmatrix}\n",
    "* &   &   &   &  *\\\\\n",
    "  & * &   &   &  *\\\\\n",
    "  &   & * &   &  *\\\\\n",
    "  &   &   & * &  *\\\\\n",
    "  &   &   &   &  *\\\\\n",
    "\\end{bmatrix}.\n",
    "$$"
   ]
  },
  {
   "cell_type": "markdown",
   "metadata": {},
   "source": [
    "However, if we swap the first and last rows and columns we get\n",
    "\n",
    "$$\n",
    "A = \n",
    "\\begin{bmatrix}\n",
    "* & * & * & * &  *\\\\\n",
    "* & * &   &   &   \\\\\n",
    "* &   & * &   &   \\\\\n",
    "* &   &   & * &   \\\\\n",
    "* &   &   &   &  *\\\\\n",
    "\\end{bmatrix}\n",
    "$$\n",
    "\n",
    "and its Cholesky factor $R$ will be **completely filled in**:\n",
    "\n",
    "$$\n",
    "R = \n",
    "\\begin{bmatrix}\n",
    "* & * & * & * &  *\\\\\n",
    "  & * & * & * &  *\\\\\n",
    "  &   & * & * &  *\\\\\n",
    "  &   &   & * &  *\\\\\n",
    "  &   &   &   &  *\\\\\n",
    "\\end{bmatrix}.\n",
    "$$\n",
    "\n",
    "Thus the order of the equations and variables can make a big difference in the amount of fill-in in the Cholesky factor of $A$."
   ]
  },
  {
   "cell_type": "markdown",
   "metadata": {},
   "source": [
    "---\n",
    "\n",
    "## Sparse Cholesky"
   ]
  },
  {
   "cell_type": "code",
   "execution_count": null,
   "metadata": {},
   "outputs": [],
   "source": [
    "using LinearAlgebra, SparseArrays"
   ]
  },
  {
   "cell_type": "code",
   "execution_count": null,
   "metadata": {},
   "outputs": [],
   "source": [
    "n = 1000\n",
    "density = 0.001\n",
    "A = sprandn(n, n, density)\n",
    "A = A + A' + 10*I"
   ]
  },
  {
   "cell_type": "code",
   "execution_count": null,
   "metadata": {},
   "outputs": [],
   "source": [
    "# Dense Cholesky\n",
    "Adense = Matrix(A)\n",
    "F = cholesky(Adense)\n",
    "\n",
    "R = sparse(F.U)"
   ]
  },
  {
   "cell_type": "code",
   "execution_count": null,
   "metadata": {},
   "outputs": [],
   "source": [
    "R'R ≈ A"
   ]
  },
  {
   "cell_type": "code",
   "execution_count": null,
   "metadata": {},
   "outputs": [],
   "source": [
    "# Sparse Cholesky\n",
    "F = cholesky(A)\n",
    "\n",
    "# Permutation of the rows and columns of A\n",
    "p = F.p\n",
    "\n",
    "A[p,p]"
   ]
  },
  {
   "cell_type": "code",
   "execution_count": null,
   "metadata": {},
   "outputs": [],
   "source": [
    "Rt = sparse(F.L)\n",
    "R = sparse(Rt')"
   ]
  },
  {
   "cell_type": "code",
   "execution_count": null,
   "metadata": {},
   "outputs": [],
   "source": [
    "R'R ≈ A[p,p]"
   ]
  },
  {
   "cell_type": "markdown",
   "metadata": {},
   "source": [
    "---\n",
    "\n",
    "## Reverse Cuthill-McKee (AMD) reordering"
   ]
  },
  {
   "cell_type": "code",
   "execution_count": null,
   "metadata": {},
   "outputs": [],
   "source": [
    "using SymRCM"
   ]
  },
  {
   "cell_type": "code",
   "execution_count": null,
   "metadata": {},
   "outputs": [],
   "source": [
    "p_symrcm = symrcm(A)\n",
    "\n",
    "A_symrcm = A[p_symrcm,p_symrcm]"
   ]
  },
  {
   "cell_type": "code",
   "execution_count": null,
   "metadata": {},
   "outputs": [],
   "source": [
    "F = cholesky(Matrix(A_symrcm))\n",
    "\n",
    "R = sparse(F.U)"
   ]
  },
  {
   "cell_type": "markdown",
   "metadata": {},
   "source": [
    "---\n",
    "\n",
    "## Approximate Minimum Degree (AMD) reordering"
   ]
  },
  {
   "cell_type": "code",
   "execution_count": null,
   "metadata": {},
   "outputs": [],
   "source": [
    "using AMD"
   ]
  },
  {
   "cell_type": "code",
   "execution_count": null,
   "metadata": {},
   "outputs": [],
   "source": [
    "p_amd = amd(A)\n",
    "\n",
    "A_amd = A[p_amd,p_amd]"
   ]
  },
  {
   "cell_type": "code",
   "execution_count": null,
   "metadata": {},
   "outputs": [],
   "source": [
    "F = cholesky(Matrix(A_amd))\n",
    "\n",
    "R = sparse(F.U)"
   ]
  },
  {
   "cell_type": "markdown",
   "metadata": {},
   "source": [
    "---\n",
    "\n",
    "## Symmetric AMD"
   ]
  },
  {
   "cell_type": "code",
   "execution_count": null,
   "metadata": {},
   "outputs": [],
   "source": [
    "p_symamd = symamd(A)\n",
    "\n",
    "A_symamd = A[p_symamd,p_symamd]"
   ]
  },
  {
   "cell_type": "code",
   "execution_count": null,
   "metadata": {},
   "outputs": [],
   "source": [
    "F = cholesky(Matrix(A_symamd))\n",
    "\n",
    "R = sparse(F.U)"
   ]
  },
  {
   "cell_type": "markdown",
   "metadata": {},
   "source": [
    "---\n",
    "\n",
    "## Benchmark"
   ]
  },
  {
   "cell_type": "code",
   "execution_count": null,
   "metadata": {},
   "outputs": [],
   "source": [
    "using BenchmarkTools"
   ]
  },
  {
   "cell_type": "code",
   "execution_count": null,
   "metadata": {},
   "outputs": [],
   "source": [
    "@btime p_symrcm = symrcm(A)\n",
    "@btime p_amd = amd(A)\n",
    "@btime p_symamd = symamd(A);"
   ]
  },
  {
   "cell_type": "code",
   "execution_count": null,
   "metadata": {},
   "outputs": [],
   "source": [
    "Adense = Matrix(A)\n",
    "A_amd = A[p_amd,p_amd]\n",
    "A_symamd = A[p_symamd,p_symamd]\n",
    "A_symrcm = A[p_symrcm,p_symrcm];"
   ]
  },
  {
   "cell_type": "code",
   "execution_count": null,
   "metadata": {},
   "outputs": [],
   "source": [
    "@btime cholesky(Adense)\n",
    "@btime cholesky(A);"
   ]
  },
  {
   "cell_type": "code",
   "execution_count": null,
   "metadata": {},
   "outputs": [],
   "source": [
    "@btime cholesky(A_symrcm)\n",
    "@btime cholesky(A_amd)\n",
    "@btime cholesky(A_symamd);"
   ]
  },
  {
   "cell_type": "code",
   "execution_count": null,
   "metadata": {},
   "outputs": [],
   "source": [
    "@btime cholesky(A, perm=1:n);"
   ]
  },
  {
   "cell_type": "code",
   "execution_count": null,
   "metadata": {},
   "outputs": [],
   "source": [
    "@btime cholesky(A, perm=p_symrcm)\n",
    "@btime cholesky(A, perm=p_amd)\n",
    "@btime cholesky(A, perm=p_symamd);"
   ]
  },
  {
   "cell_type": "markdown",
   "metadata": {},
   "source": [
    "---"
   ]
  }
 ],
 "metadata": {
  "@webio": {
   "lastCommId": null,
   "lastKernelId": null
  },
  "kernelspec": {
   "display_name": "Julia 1.6.2",
   "language": "julia",
   "name": "julia-1.6"
  },
  "language_info": {
   "file_extension": ".jl",
   "mimetype": "application/julia",
   "name": "julia",
   "version": "1.6.2"
  }
 },
 "nbformat": 4,
 "nbformat_minor": 1
}
