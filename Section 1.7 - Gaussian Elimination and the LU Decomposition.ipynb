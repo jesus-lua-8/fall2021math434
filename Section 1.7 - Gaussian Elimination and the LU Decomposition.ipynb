{
 "cells": [
  {
   "cell_type": "markdown",
   "metadata": {},
   "source": [
    "---\n",
    "# Section 1.7: Gaussian Elimination and the LU Decomposition\n",
    "---"
   ]
  },
  {
   "cell_type": "markdown",
   "metadata": {},
   "source": [
    "Let $A \\in \\mathbb{R}^{n \\times n}$ be **nonsingular**, and let $b \\in \\mathbb{R}^n$.\n",
    "\n",
    "We will now look at solving\n",
    "\n",
    "$$\n",
    "Ax = b\n",
    "$$\n",
    "\n",
    "by **Gaussian Elimination**:\n",
    "\n",
    "> Transform $Ax = b$ into an **equivalent** system\n",
    ">\n",
    "> $$Ux = y,$$\n",
    ">\n",
    "> where $U$ is **upper-triangular**, by using the following **elementary row operations**:\n",
    ">\n",
    "> 1. Add a multiple of one equation to another equation.\n",
    "> 2. Interchange two equations.\n",
    "> 3. Multiply an equation by a nonzero constant."
   ]
  },
  {
   "cell_type": "markdown",
   "metadata": {},
   "source": [
    "This can be done using **augmented matrices**:\n",
    "\n",
    "$$\n",
    "\\left[\\begin{array}{c|c}\n",
    "A & b\n",
    "\\end{array}\\right]\n",
    "\\rightarrow \\cdots \\rightarrow\n",
    "\\left[\\begin{array}{c|c}\n",
    "U & y\n",
    "\\end{array}\\right].\n",
    "$$\n",
    "\n",
    "We know that $Ax = b$ and $Ux = y$ will be equivalent (i.e., have exactly the same set of solutions) by the following fact.\n",
    "\n",
    "> ### Proposition 1:\n",
    "Let $\\hat{A}x = \\hat{b}$ be obtained by an elementary row operation on $Ax = b$. Then $Ax = b$ and $\\hat{A}x = \\hat{b}$ are equivalent .\n",
    ">\n",
    "> Moreover, \n",
    "> $$\n",
    "\\text{$A$ is nonsingular} \n",
    "\\quad \\Longleftrightarrow \\quad\n",
    "\\text{$\\hat{A}$ is nonsingular}.\n",
    "$$"
   ]
  },
  {
   "cell_type": "markdown",
   "metadata": {},
   "source": [
    "---"
   ]
  },
  {
   "cell_type": "markdown",
   "metadata": {},
   "source": [
    "## Example 1\n",
    "\n",
    "Use Gaussian elimination to solve $Ax = b$, where\n",
    "\n",
    "$$\n",
    "A = \n",
    "\\begin{bmatrix}\n",
    "2 & 1 & 1 \\\\\n",
    "2 & 2 & -1 \\\\\n",
    "4 & -1 & 6\n",
    "\\end{bmatrix},\n",
    "\\qquad\n",
    "b = \n",
    "\\begin{bmatrix}\n",
    "7 \\\\ 3 \\\\ 20\n",
    "\\end{bmatrix}.\n",
    "$$"
   ]
  },
  {
   "cell_type": "markdown",
   "metadata": {},
   "source": [
    "## Solution\n",
    "\n",
    "$$\n",
    "\\begin{array}{rcl}\n",
    "\\left[\\begin{array}{c|c}\n",
    "A & b\n",
    "\\end{array}\\right] = \n",
    "\\left[\\begin{array}{ccc|c}\n",
    "2 & 1 & 1 & 7 \\\\\n",
    "2 & 2 & -1 & 3 \\\\\n",
    "4 & -1 & 6 & 20\n",
    "\\end{array}\\right]\n",
    "& \\xrightarrow{(r_2 \\gets r_2 - r_1)} &\n",
    "\\left[\\begin{array}{ccc|c}\n",
    "2 & 1 & 1 & 7 \\\\\n",
    "0 & 1 & -2 & -4 \\\\\n",
    "4 & -1 & 6 & 20\n",
    "\\end{array}\\right] \\\\\n",
    "& \\xrightarrow{(r_3 \\gets r_3 - 2r_1)} &\n",
    "\\left[\\begin{array}{ccc|c}\n",
    "2 & 1 & 1 & 7 \\\\\n",
    "0 & 1 & -2 & -4 \\\\\n",
    "0 & -3 & 4 & 6\n",
    "\\end{array}\\right] \\\\\n",
    "& \\xrightarrow{(r_3 \\gets r_3 - (-3)r_2)} &\n",
    "\\left[\\begin{array}{ccc|c}\n",
    "2 & 1 & 1 & 7 \\\\\n",
    "0 & 1 & -2 & -4 \\\\\n",
    "0 & 0 & -2 & -6\n",
    "\\end{array}\\right] = \n",
    "\\left[\\begin{array}{c|c}\n",
    "U & y\n",
    "\\end{array}\\right].\n",
    "\\end{array}\n",
    "$$"
   ]
  },
  {
   "cell_type": "markdown",
   "metadata": {},
   "source": [
    "Then, by backward substitution, we have\n",
    "\n",
    "$$\n",
    "x = \\begin{bmatrix} 1 \\\\ 2 \\\\ 3 \\end{bmatrix}.\n",
    "$$"
   ]
  },
  {
   "cell_type": "markdown",
   "metadata": {},
   "source": [
    "---"
   ]
  },
  {
   "cell_type": "markdown",
   "metadata": {},
   "source": [
    "We solved the example above using only the first type of row operation, but this is not always possible."
   ]
  },
  {
   "cell_type": "markdown",
   "metadata": {},
   "source": [
    "---"
   ]
  },
  {
   "cell_type": "markdown",
   "metadata": {},
   "source": [
    "## Example 2\n",
    "\n",
    "Use Gaussian elimination to solve $Ax = b$, where\n",
    "\n",
    "$$\n",
    "A = \n",
    "\\begin{bmatrix}\n",
    "2 & 2 & 1 \\\\\n",
    "2 & 2 & -1 \\\\\n",
    "4 & -1 & 6\n",
    "\\end{bmatrix},\n",
    "\\qquad\n",
    "b = \n",
    "\\begin{bmatrix}\n",
    "5 \\\\ 3 \\\\ 14\n",
    "\\end{bmatrix}.\n",
    "$$"
   ]
  },
  {
   "cell_type": "markdown",
   "metadata": {},
   "source": [
    "## Solution\n",
    "\n",
    "$$\n",
    "\\begin{array}{rcl}\n",
    "\\left[\\begin{array}{c|c}\n",
    "A & b\n",
    "\\end{array}\\right] = \n",
    "\\left[\\begin{array}{ccc|c}\n",
    "2 & 2 & 1 & 5 \\\\\n",
    "2 & 2 & -1 & 3 \\\\\n",
    "4 & -1 & 6 & 14\n",
    "\\end{array}\\right]\n",
    "& \\xrightarrow{(r_2 \\gets r_2 - r_1)} &\n",
    "\\left[\\begin{array}{ccc|c}\n",
    "2 & 1 & 1 & 5 \\\\\n",
    "0 & 0 & -2 & -2 \\\\\n",
    "4 & -1 & 6 & 14\n",
    "\\end{array}\\right] \\\\\n",
    "& \\xrightarrow{(r_3 \\gets r_3 - 2r_1)} &\n",
    "\\left[\\begin{array}{ccc|c}\n",
    "2 & 1 & 1 & 5 \\\\\n",
    "0 & 0 & -2 & -2 \\\\\n",
    "0 & -3 & 4 & 4\n",
    "\\end{array}\\right] \\\\\n",
    "& \\xrightarrow{(r_2 \\leftrightarrow r_3)} &\n",
    "\\left[\\begin{array}{ccc|c}\n",
    "2 & 1 & 1 & 5 \\\\\n",
    "0 & -3 & 4 & 4 \\\\\n",
    "0 & 0 & -2 & -2 \\\\\n",
    "\\end{array}\\right] = \n",
    "\\left[\\begin{array}{c|c}\n",
    "U & y\n",
    "\\end{array}\\right].\n",
    "\\end{array}\n",
    "$$"
   ]
  },
  {
   "cell_type": "markdown",
   "metadata": {},
   "source": [
    "Then, by backward substitution, we have\n",
    "\n",
    "$$\n",
    "x = \\begin{bmatrix} 2 \\\\ 0 \\\\ 1 \\end{bmatrix}.\n",
    "$$"
   ]
  },
  {
   "cell_type": "markdown",
   "metadata": {},
   "source": [
    "---"
   ]
  },
  {
   "cell_type": "markdown",
   "metadata": {},
   "source": [
    "To do Gaussian elimination **without row interchanges**, the matrix $A$ needs the following property:\n",
    "\n",
    "$$\n",
    "\\begin{equation} \\tag{1}\n",
    "\\fbox{$A_k$ is nonsingular, for $k = 1,\\ldots,n$.}\n",
    "\\end{equation}\n",
    "$$\n",
    "\n",
    "Here $A_k$ is the **$\\mathbf{k^{th}}$ leading principal submatrix** (i.e., $A_k =$ `A[1:k, 1:k]`)."
   ]
  },
  {
   "cell_type": "markdown",
   "metadata": {},
   "source": [
    "---"
   ]
  },
  {
   "cell_type": "markdown",
   "metadata": {},
   "source": [
    "## Example 1 (revisited)\n",
    "\n",
    "$$\n",
    "A = \n",
    "\\begin{bmatrix}\n",
    "2 & 1 & 1 \\\\\n",
    "2 & 2 & -1 \\\\\n",
    "4 & -1 & 6\n",
    "\\end{bmatrix}\n",
    "$$"
   ]
  },
  {
   "cell_type": "code",
   "execution_count": null,
   "metadata": {},
   "outputs": [],
   "source": [
    "using LinearAlgebra"
   ]
  },
  {
   "cell_type": "code",
   "execution_count": null,
   "metadata": {},
   "outputs": [],
   "source": [
    "A = [2 1 1; 2 2 -1; 4 -1 6]"
   ]
  },
  {
   "cell_type": "code",
   "execution_count": null,
   "metadata": {},
   "outputs": [],
   "source": [
    "A1 = A[1:1, 1:1]"
   ]
  },
  {
   "cell_type": "code",
   "execution_count": null,
   "metadata": {},
   "outputs": [],
   "source": [
    "det(A1)"
   ]
  },
  {
   "cell_type": "code",
   "execution_count": null,
   "metadata": {},
   "outputs": [],
   "source": [
    "A2 = A[1:2, 1:2]"
   ]
  },
  {
   "cell_type": "code",
   "execution_count": null,
   "metadata": {},
   "outputs": [],
   "source": [
    "det(A2)"
   ]
  },
  {
   "cell_type": "code",
   "execution_count": null,
   "metadata": {},
   "outputs": [],
   "source": [
    "A3 = A[1:3, 1:3]"
   ]
  },
  {
   "cell_type": "code",
   "execution_count": null,
   "metadata": {},
   "outputs": [],
   "source": [
    "det(A3)"
   ]
  },
  {
   "cell_type": "markdown",
   "metadata": {},
   "source": [
    "Therefore, the matrix $A$ satisfies property (1)."
   ]
  },
  {
   "cell_type": "markdown",
   "metadata": {},
   "source": [
    "---"
   ]
  },
  {
   "cell_type": "markdown",
   "metadata": {},
   "source": [
    "## Example 2 (revisited)\n",
    "\n",
    "$$\n",
    "A = \n",
    "\\begin{bmatrix}\n",
    "2 & 2 & 1 \\\\\n",
    "2 & 2 & -1 \\\\\n",
    "4 & -1 & 6\n",
    "\\end{bmatrix}\n",
    "$$"
   ]
  },
  {
   "cell_type": "code",
   "execution_count": null,
   "metadata": {},
   "outputs": [],
   "source": [
    "A = [2 2 1; 2 2 -1; 4 -1 6]"
   ]
  },
  {
   "cell_type": "code",
   "execution_count": null,
   "metadata": {},
   "outputs": [],
   "source": [
    "A1 = A[1:1, 1:1]"
   ]
  },
  {
   "cell_type": "code",
   "execution_count": null,
   "metadata": {},
   "outputs": [],
   "source": [
    "det(A1)"
   ]
  },
  {
   "cell_type": "code",
   "execution_count": null,
   "metadata": {},
   "outputs": [],
   "source": [
    "A2 = A[1:2, 1:2]"
   ]
  },
  {
   "cell_type": "code",
   "execution_count": null,
   "metadata": {},
   "outputs": [],
   "source": [
    "det(A2)"
   ]
  },
  {
   "cell_type": "markdown",
   "metadata": {},
   "source": [
    "Therefore, the matrix $A$ does not satisfy property (1)."
   ]
  },
  {
   "cell_type": "markdown",
   "metadata": {},
   "source": [
    "---"
   ]
  },
  {
   "cell_type": "markdown",
   "metadata": {},
   "source": [
    ">### Proposition 2:\n",
    "Let $A \\in \\mathbb{R}^{n \\times n}$ be nonsingular.\n",
    ">\n",
    "> If we can solve $Ax = b$ using Gaussian elimination **without row interchanges**, then property (1) holds."
   ]
  },
  {
   "cell_type": "markdown",
   "metadata": {},
   "source": [
    "### Proof.\n",
    "\n",
    "Suppose we do the Gaussian elimination \n",
    "\n",
    "$$\n",
    "\\left[\\begin{array}{c|c}\n",
    "A & b\n",
    "\\end{array}\\right]\n",
    "\\rightarrow \\cdots \\rightarrow\n",
    "\\left[\\begin{array}{c|c}\n",
    "U & y\n",
    "\\end{array}\\right]\n",
    "$$\n",
    "\n",
    "without row interchanges. Then $U$ is an upper-triangular matrix which is nonsingular since $A$ is nonsingular.\n",
    "\n",
    "Since $U$ is nonsingular and triangular, the diagonal entries of $U$ are nonzero. Therefore, $U_k$ is nonsingular, for $k = 1,\\ldots,n$.\n",
    "\n",
    "Since no row interchanges occurred, we have that $U_k$ was obtained from $A_k$ by elementary row operations. Since $U_k$ is nonsingular, we have that $A_k$ is nonsingular.\n",
    "\n",
    "Therefore, property (1) holds. $\\blacksquare$"
   ]
  },
  {
   "cell_type": "markdown",
   "metadata": {},
   "source": [
    "---"
   ]
  },
  {
   "cell_type": "markdown",
   "metadata": {},
   "source": [
    "### The converse of Proposition 2\n",
    "\n",
    "We will now prove that the converse of Proposition 2 holds:\n",
    "\n",
    "> If property (1) holds for the matrix $A$, then we can do Gaussian elimination on $Ax = b$ without row interchanges."
   ]
  },
  {
   "cell_type": "markdown",
   "metadata": {},
   "source": [
    "### Proof."
   ]
  },
  {
   "cell_type": "markdown",
   "metadata": {},
   "source": [
    "First we note that if property (1) holds, then $a_{11} \\neq 0$.\n",
    "\n",
    "We will prove this statement by using **block Gaussian elimination**:\n",
    "\n",
    "$$\n",
    "A = \n",
    "\\begin{bmatrix}\n",
    "a_{11} & b^T \\\\\n",
    "c & \\hat{A}\n",
    "\\end{bmatrix}\n",
    "\\quad \\xrightarrow{\\left(r_2 \\gets r_2 - \\frac{1}{a_{11}} c r_1\\right)} \\quad\n",
    "\\begin{bmatrix}\n",
    "a_{11} & b^T \\\\\n",
    "0 & \\hat{A} - \\frac{1}{a_{11}} cb^T\n",
    "\\end{bmatrix}.\n",
    "$$\n",
    "\n",
    "We let \n",
    "\n",
    "$$\n",
    "\\tilde{A} = \\hat{A} - \\frac{1}{a_{11}} cb^T,\n",
    "$$\n",
    "\n",
    "which is known as the **Schur complement** of $a_{11}$ in $A$."
   ]
  },
  {
   "cell_type": "markdown",
   "metadata": {},
   "source": [
    "The next step of Gaussian elimination will repeat the above row operation on $\\tilde{A}$.\n",
    "\n",
    "Thus, if we can show that $\\tilde{A}$ inherits property (1) from $A$, then we know that we can continue the process of Gaussian elimination on $Ax = b$ without row interchanges.\n",
    "\n",
    "So we need to show that $\\tilde{A}_k$ is nonsingular for $k = 1,\\ldots,n-1$. Suppose, for the sake of contradiction, that $\\tilde{A}_k$ is singular, for some $k$.\n",
    "\n",
    "Then, $\\exists \\tilde{y} \\in \\mathbb{R}^k$ nonzero such that \n",
    "\n",
    "$$\n",
    "\\tilde{A}_k \\tilde{y} = 0.\n",
    "$$\n",
    "\n",
    "Letting $M = \\begin{bmatrix} a_{11} & b^T \\\\ 0 & \\tilde{A} \\end{bmatrix}$, we have\n",
    "\n",
    "$$\n",
    "M_{k+1} = \n",
    "\\begin{bmatrix} a_{11} & b_k^T \\\\ 0 & \\tilde{A}_k \\end{bmatrix},\n",
    "$$\n",
    "\n",
    "where $b_k = b[1 \\colon k]$."
   ]
  },
  {
   "cell_type": "markdown",
   "metadata": {},
   "source": [
    "Since $M_{k+1}$ was obtained from $A_{k+1}$ by elementary row operations, and since $A_{k+1}$ is nonsingular, we have that $M_{k+1}$ is nonsingular.\n",
    "\n",
    "Now, let's get a contradiction by finding a vector $y \\neq 0$ such that $M_{k+1} y = 0$.\n",
    "\n",
    "Let \n",
    "\n",
    "$$\n",
    "y = \n",
    "\\begin{bmatrix}\n",
    "-\\frac{1}{a_{11}}b_k^T \\tilde{y} \\\\\n",
    "\\tilde{y}\n",
    "\\end{bmatrix}.\n",
    "$$\n",
    "\n",
    "Then $y \\neq 0$ since $\\tilde{y} \\neq 0$, and\n",
    "\n",
    "$$\n",
    "M_{k+1} y = \n",
    "\\begin{bmatrix} a_{11} & b_k^T \\\\ 0 & \\tilde{A}_k \\end{bmatrix}\n",
    "\\begin{bmatrix}\n",
    "-\\frac{1}{a_{11}}b_k^T \\tilde{y} \\\\\n",
    "\\tilde{y}\n",
    "\\end{bmatrix} =\n",
    "\\begin{bmatrix}\n",
    "-b_k^T \\tilde{y} + b_k^T \\tilde{y} \\\\\n",
    "\\tilde{A}_k \\tilde{y}\n",
    "\\end{bmatrix} =\n",
    "\\begin{bmatrix}\n",
    "0 \\\\ 0\n",
    "\\end{bmatrix},\n",
    "$$\n",
    "\n",
    "which gives us our contradiction to the fact $M_{k+1}$ should be nonsingular.\n",
    "\n",
    "Therefore, $\\tilde{A}_k$ is nonsingular for $k = 1,\\ldots,n-1$, which implies we can continue to do Gaussian elimination on $Ax = b$ without row interchanges. $\\blacksquare$"
   ]
  },
  {
   "cell_type": "markdown",
   "metadata": {},
   "source": [
    "---"
   ]
  },
  {
   "cell_type": "markdown",
   "metadata": {},
   "source": [
    "Thus, we have the following result:\n",
    "\n",
    "> ### Proposition 3:\n",
    "Let $A \\in \\mathbb{R}^{n \\times n}$ be nonsingular. Then we can solve $Ax = b$ using Gaussian elimination without row interchanges if and only if all leading principal submatrices of $A$ are nonsingular."
   ]
  },
  {
   "cell_type": "markdown",
   "metadata": {},
   "source": [
    "---"
   ]
  },
  {
   "cell_type": "markdown",
   "metadata": {},
   "source": [
    "## LU Decomposition"
   ]
  },
  {
   "cell_type": "markdown",
   "metadata": {},
   "source": [
    "We will now see that Gaussian elimination without row interchanges gives us a decomposition of the matrix $A$ into a lower-triangular matrix $L$ times an upper-triangular matrix $U$:\n",
    "\n",
    "$$\n",
    "A = LU.\n",
    "$$"
   ]
  },
  {
   "cell_type": "markdown",
   "metadata": {},
   "source": [
    "Recall that in Example 1, we had\n",
    "\n",
    "$$\n",
    "\\begin{array}{rcl}\n",
    "\\left[\\begin{array}{c|c}\n",
    "A & b\n",
    "\\end{array}\\right] \n",
    "= \n",
    "\\left[\\begin{array}{ccc|c}\n",
    "2 & 1 & 1 & 7 \\\\\n",
    "2 & 2 & -1 & 3 \\\\\n",
    "4 & -1 & 6 & 20\n",
    "\\end{array}\\right]\n",
    "& \\xrightarrow{(r_2 \\gets r_2 - r_1)} &\n",
    "\\left[\\begin{array}{ccc|c}\n",
    "2 & 1 & 1 & 7 \\\\\n",
    "0 & 1 & -2 & -4 \\\\\n",
    "4 & -1 & 6 & 20\n",
    "\\end{array}\\right] \\\\\n",
    "& \\xrightarrow{(r_3 \\gets r_3 - 2r_1)} &\n",
    "\\left[\\begin{array}{ccc|c}\n",
    "2 & 1 & 1 & 7 \\\\\n",
    "0 & 1 & -2 & -4 \\\\\n",
    "0 & -3 & 4 & 6\n",
    "\\end{array}\\right] \\\\\n",
    "& \\xrightarrow{(r_3 \\gets r_3 - (-3)r_2)} &\n",
    "\\left[\\begin{array}{ccc|c}\n",
    "2 & 1 & 1 & 7 \\\\\n",
    "0 & 1 & -2 & -4 \\\\\n",
    "0 & 0 & -2 & -6\n",
    "\\end{array}\\right] \n",
    "= \n",
    "\\left[\\begin{array}{c|c}\n",
    "U & y\n",
    "\\end{array}\\right].\n",
    "\\end{array}\n",
    "$$"
   ]
  },
  {
   "cell_type": "markdown",
   "metadata": {},
   "source": [
    "Let's look carefully at what is happening to the right-hand-side.\n",
    "\n",
    "We can see that $y$ has been computed from $b$ as follows:\n",
    "\n",
    "$$\n",
    "\\begin{array}{lllllr}\n",
    "y_1 &=&  b_1 &=& 7 & = & 7, \\\\\n",
    "y_2 &=&  b_2 - y_1 &=& 3 - 7 &=& -4,\\\\\n",
    "y_3 &=&  b_3 - 2y_1 - (-3)y_2 &=& 20 - 2 \\cdot 7 + 3 \\cdot (-4) &=& -6.\n",
    "\\end{array}\n",
    "$$"
   ]
  },
  {
   "cell_type": "markdown",
   "metadata": {},
   "source": [
    "We can write these equations in matrix form as\n",
    "\n",
    "$$\n",
    "\\begin{bmatrix}\n",
    "1 & 0 & 0 \\\\\n",
    "1 & 1 & 0 \\\\\n",
    "2 & -3 & 1 \\\\\n",
    "\\end{bmatrix}\n",
    "\\begin{bmatrix}\n",
    "y_1 \\\\ y_2 \\\\ y_3\n",
    "\\end{bmatrix}\n",
    "= \n",
    "\\begin{bmatrix}\n",
    "b_1 \\\\ b_2 \\\\ b_3\n",
    "\\end{bmatrix}\n",
    "\\qquad\n",
    "(Ly = b),\n",
    "$$\n",
    "\n",
    "where $L$ is lower-triangular with ones on the diagonal. We say that $L$ is a **unit lower-triangular matrix**."
   ]
  },
  {
   "cell_type": "markdown",
   "metadata": {},
   "source": [
    "Thus, we can solve $Ax = b$ using the following algorithm:\n",
    "\n",
    "1. Solve $Ly = b$ for $y$.\n",
    "2. Solve $Ux = y$ for $x$.\n",
    "\n",
    "This implies that $LUx = b$, and in fact\n",
    "\n",
    "$$\n",
    "LU = \n",
    "\\begin{bmatrix}\n",
    "1 &  &  \\\\\n",
    "1 & 1 &  \\\\\n",
    "2 & -3 & 1 \\\\\n",
    "\\end{bmatrix}\n",
    "\\begin{bmatrix}\n",
    "2 & 1 & 1 \\\\\n",
    " & 1 & -2 \\\\\n",
    " &  & -2\n",
    "\\end{bmatrix}\n",
    "=\n",
    "\\begin{bmatrix}\n",
    "2 & 1 & 1  \\\\\n",
    "2 & 2 & -1 \\\\\n",
    "4 & -1 & 6\n",
    "\\end{bmatrix}\n",
    "= A\n",
    "$$"
   ]
  },
  {
   "cell_type": "markdown",
   "metadata": {},
   "source": [
    "Therefore, Gaussian elimination without row interchanges gives us the $LU$-factorization\n",
    "\n",
    "$$\n",
    "A = LU,\n",
    "$$\n",
    "\n",
    "where $L$ is **unit lower-triangular** and $U$ is **upper-triangular**."
   ]
  },
  {
   "cell_type": "markdown",
   "metadata": {},
   "source": [
    "Since $L$ is known to have ones along its diagonal, we do not need to store the diagonal of $L$. This allows us to store the $LU$-factorization of $A$ in a single matrix:\n",
    "\n",
    "$$\n",
    "\"LU\" \\quad = \\quad \n",
    "\\begin{bmatrix}\n",
    "2 & 1 & 1 \\\\\n",
    "1 & 1 & -2 \\\\\n",
    "2 & -3 & -2\n",
    "\\end{bmatrix}\n",
    "$$\n",
    "\n",
    "In fact, we can overwrite the matrix $A$ with its $L$ and $U$ factors."
   ]
  },
  {
   "cell_type": "markdown",
   "metadata": {},
   "source": [
    "---"
   ]
  },
  {
   "cell_type": "markdown",
   "metadata": {},
   "source": [
    "## `lu`"
   ]
  },
  {
   "cell_type": "code",
   "execution_count": null,
   "metadata": {},
   "outputs": [],
   "source": [
    "?lu"
   ]
  },
  {
   "cell_type": "code",
   "execution_count": null,
   "metadata": {},
   "outputs": [],
   "source": [
    "A = Float64[2 1 1; 2 2 -1; 4 -1 6]\n",
    "b = Float64[7; 3; 20]\n",
    "pivot = Val(false)\n",
    "\n",
    "F = lu(A, pivot)"
   ]
  },
  {
   "cell_type": "code",
   "execution_count": null,
   "metadata": {},
   "outputs": [],
   "source": [
    "F.factors"
   ]
  },
  {
   "cell_type": "code",
   "execution_count": null,
   "metadata": {},
   "outputs": [],
   "source": [
    "L = F.L"
   ]
  },
  {
   "cell_type": "code",
   "execution_count": null,
   "metadata": {},
   "outputs": [],
   "source": [
    "U = F.U"
   ]
  },
  {
   "cell_type": "code",
   "execution_count": null,
   "metadata": {},
   "outputs": [],
   "source": [
    "L*U - A"
   ]
  },
  {
   "cell_type": "code",
   "execution_count": null,
   "metadata": {},
   "outputs": [],
   "source": [
    "x = F\\b"
   ]
  },
  {
   "cell_type": "code",
   "execution_count": null,
   "metadata": {},
   "outputs": [],
   "source": [
    "x = U\\(L\\b)"
   ]
  },
  {
   "cell_type": "markdown",
   "metadata": {},
   "source": [
    "---"
   ]
  },
  {
   "cell_type": "markdown",
   "metadata": {},
   "source": [
    "As mentioned above, if you don't need $A$ after doing the $LU$-factorization, and you want to save some memory, you can have $A$ **overwritten** by the $L$ and $U$ factors.\n",
    "\n",
    "This is done using the `lu!` function."
   ]
  },
  {
   "cell_type": "code",
   "execution_count": null,
   "metadata": {},
   "outputs": [],
   "source": [
    "A = Float64[2 1 1; 2 2 -1; 4 -1 6]"
   ]
  },
  {
   "cell_type": "code",
   "execution_count": null,
   "metadata": {},
   "outputs": [],
   "source": [
    "pivot = Val(false)\n",
    "lu!(A, pivot)"
   ]
  },
  {
   "cell_type": "code",
   "execution_count": null,
   "metadata": {},
   "outputs": [],
   "source": [
    "A"
   ]
  },
  {
   "cell_type": "markdown",
   "metadata": {},
   "source": [
    "---"
   ]
  },
  {
   "cell_type": "code",
   "execution_count": null,
   "metadata": {},
   "outputs": [],
   "source": [
    "A = Float64[2 2 1; 2 2 -1; 4 -1 6]"
   ]
  },
  {
   "cell_type": "code",
   "execution_count": null,
   "metadata": {},
   "outputs": [],
   "source": [
    "L, U, p = lu(A, Val(false))"
   ]
  },
  {
   "cell_type": "code",
   "execution_count": null,
   "metadata": {},
   "outputs": [],
   "source": [
    "L, U, p = lu(A)"
   ]
  },
  {
   "cell_type": "code",
   "execution_count": null,
   "metadata": {},
   "outputs": [],
   "source": [
    "L*U"
   ]
  },
  {
   "cell_type": "code",
   "execution_count": null,
   "metadata": {},
   "outputs": [],
   "source": [
    "A"
   ]
  },
  {
   "cell_type": "code",
   "execution_count": null,
   "metadata": {},
   "outputs": [],
   "source": [
    "A[p,:]"
   ]
  },
  {
   "cell_type": "markdown",
   "metadata": {},
   "source": [
    "---"
   ]
  },
  {
   "cell_type": "markdown",
   "metadata": {},
   "source": [
    "## A larger numerical example"
   ]
  },
  {
   "cell_type": "code",
   "execution_count": null,
   "metadata": {},
   "outputs": [],
   "source": [
    "n = 3000\n",
    "\n",
    "A = randn(n, n) + n*I\n",
    "x = rand(n)\n",
    "b = A*x;"
   ]
  },
  {
   "cell_type": "code",
   "execution_count": null,
   "metadata": {},
   "outputs": [],
   "source": [
    "@time F = lu!(A);"
   ]
  },
  {
   "cell_type": "code",
   "execution_count": null,
   "metadata": {},
   "outputs": [],
   "source": [
    "xhat = copy(b)\n",
    "@time ldiv!(F, xhat);"
   ]
  },
  {
   "cell_type": "code",
   "execution_count": null,
   "metadata": {},
   "outputs": [],
   "source": [
    "x ≈ xhat"
   ]
  },
  {
   "cell_type": "markdown",
   "metadata": {},
   "source": [
    "---"
   ]
  },
  {
   "cell_type": "markdown",
   "metadata": {},
   "source": [
    "## Outer-product form of the $LU$-algorithm\n",
    "\n",
    "We partition $A = LU$ as \n",
    "\n",
    "$$\n",
    "\\begin{bmatrix}\n",
    "a_{11} & b^T \\\\\n",
    "c & \\hat{A} \\\\\n",
    "\\end{bmatrix}\n",
    "=\n",
    "\\begin{bmatrix}\n",
    "1 & 0 \\\\\n",
    "l & \\hat{L} \\\\\n",
    "\\end{bmatrix}\n",
    "\\begin{bmatrix}\n",
    "u_{11} & u^T \\\\\n",
    "0 & \\hat{U} \\\\\n",
    "\\end{bmatrix}\n",
    "=\n",
    "\\begin{bmatrix}\n",
    "u_{11} & u^T \\\\\n",
    "u_{11}l & lu^T + \\hat{L}\\hat{U} \\\\\n",
    "\\end{bmatrix}.\n",
    "$$\n",
    "\n",
    "This gives us the following algorithm.\n",
    "\n",
    "### Algorithm:\n",
    "\n",
    "1. Let $u_{11} = a_{11}$ and $u^T = b^T$.\n",
    "2. Let $l = c/u_{11}$.\n",
    "3. Let $\\tilde{A} = \\hat{A} - lu^T$.\n",
    "4. Factor $\\tilde{A} = \\hat{L}\\hat{U}$."
   ]
  },
  {
   "cell_type": "markdown",
   "metadata": {},
   "source": [
    "### Flop count of the $LU$-algorithm\n",
    "\n",
    "We can use the above recursive algorithm to count the number of flops.\n",
    "\n",
    "Let $f_n$ be the number of flops required to compute the $LU$-decomposition of an $n \\times n$ matrix $A$.\n",
    "\n",
    "- Step 1 requires 0 flops.\n",
    "- Step 2 requires $n-1$ flops.\n",
    "- Step 3 requires $2(n-1)^2$ flops.\n",
    "- Step 4 requires $f_{n-1}$ flops."
   ]
  },
  {
   "cell_type": "markdown",
   "metadata": {},
   "source": [
    "Therefore,\n",
    "\n",
    "$$\n",
    "f_n = (n-1) + 2(n-1)^2 + f_{n-1}, \\qquad n = 2, 3, 4, \\ldots.\n",
    "$$\n",
    "\n",
    "Also, $f_1 = 0$.\n",
    "\n",
    "Letting $g(n) = 2n^2 + n$, we have\n",
    "\n",
    "$$\n",
    "\\begin{align}\n",
    "f_n \n",
    "&= g(n-1) + f_{n-1} \\\\\n",
    "&= g(n-1) + g(n-2) + f_{n-2} \\\\\n",
    "&= g(n-1) + g(n-2) + g(n-3) + f_{n-3} \\\\\n",
    "&\\quad\\vdots \\\\\n",
    "&= g(n-1) + g(n-2) + g(n-3) + \\cdots + g(1) + f_1 \\\\\n",
    "&= \\sum_{i=1}^{n-1} g(i) + 0 \\\\\n",
    "&= \\sum_{i=1}^{n-1} \\left( 2i^2 + i \\right) \\\\\n",
    "&= \\int_0^n \\left(2x^2 + x\\right)dx + O(n^2) \\\\\n",
    "&= \\fbox{$\\frac23 n^3 + O(n^2)$}. \\\\\n",
    "\\end{align}\n",
    "$$"
   ]
  },
  {
   "cell_type": "markdown",
   "metadata": {},
   "source": [
    "So, we conclude that Gaussian elimination requires about $\\frac23 n^3$ flops (i.e., roughly twice as many flops as Cholesky's algorithm)."
   ]
  },
  {
   "cell_type": "markdown",
   "metadata": {},
   "source": [
    "---"
   ]
  },
  {
   "cell_type": "markdown",
   "metadata": {},
   "source": [
    "## The LU Decomposition Theorem\n",
    "\n",
    "> ### Theorem: (LU Decomposition)\n",
    ">\n",
    "> Let $A$ be an $n \\times n$ matrix whose leading principal submatrices are nonsingular.\n",
    ">\n",
    "> Then there is a **unique** factorization\n",
    ">\n",
    "> $$A = LU$$\n",
    ">\n",
    "> where $L$ is unit lower-triangular and $U$ is upper-triangular."
   ]
  },
  {
   "cell_type": "markdown",
   "metadata": {},
   "source": [
    "### Proof.\n",
    "\n",
    "We will prove this theorem by induction on $n$.\n",
    "\n",
    "If $n = 1$, then $A = [a_{11}]$. If $A = LU$, where $L$ is unit lower-triangular and $U$ is upper-triangular, then $L = [1]$ and $U = [a_{11}]$. Therefore, $A$ has a unique $LU$-decomposition.\n",
    "\n",
    "Now suppose that all $(n-1) \\times (n-1)$ matrices with nonsingular leading principal submatrices have a unique $LU$-decomposition. This is our *induction hypothesis*.\n",
    "\n"
   ]
  },
  {
   "cell_type": "markdown",
   "metadata": {},
   "source": [
    "Let $A$ be an $n \\times n$ matrix with nonsingular leading principal submatrices and consider the following \"bordered\" partition of $A = LU$.\n",
    "\n",
    "$$\n",
    "\\tag{2}\n",
    "\\begin{bmatrix}\n",
    "\\hat{A} & b \\\\\n",
    "c^T & a_{nn}\n",
    "\\end{bmatrix}\n",
    "=\n",
    "\\begin{bmatrix}\n",
    "\\hat{L} & 0 \\\\\n",
    "l^T & 1\n",
    "\\end{bmatrix}\n",
    "\\begin{bmatrix}\n",
    "\\hat{U} & u \\\\\n",
    "0 & u_{nn}\n",
    "\\end{bmatrix}\n",
    "$$\n",
    "\n",
    "We want to show that there is a unique solution to equation (2), where $\\hat{L}$ is unit lower-triangular and $\\hat{U}$ is upper-triangular."
   ]
  },
  {
   "cell_type": "markdown",
   "metadata": {},
   "source": [
    "We can rewrite equation (2) as:\n",
    "\n",
    "$$\n",
    "\\hat{A} = \\hat{L}\\hat{U}, \\quad b = \\hat{L}u, \\quad c^T = l^T\\hat{U}, \\quad a_{nn} = l^Tu + u_{nn}.\n",
    "$$\n",
    "\n",
    "- Since $A$ has nonsingular leading principal submatrices, so does $\\hat{A}$. And since $\\hat{A}$ is $(n-1) \\times (n-1)$, we know that $\\hat{A}$ has a unique $LU$-decomposition, by our induction hypothesis. Thus, there exist a **unique** $\\hat{L}$ that is unit lower-triangular and a **unique** $\\hat{U}$ that is upper-triangular such that $\\hat{A} = \\hat{L}\\hat{U}$.\n",
    "\n",
    "- Since $\\hat{L}$ is nonsingular, there exists a **unique** solution $u$ to the equation $\\hat{L}u = b$.\n",
    "\n",
    "- Also, $\\hat{U}$ is nonsingular because $\\hat{A}$ is nonsingular. Therefore, there exists a **unique** solution $l$ to the equation $\\hat{U}^Tl = c$.\n",
    "\n",
    "- Finally, $u_{nn} = a_{nn} - l^Tu$, so $u_{nn}$ is also **uniquely determined**.\n",
    "\n",
    "Therefore, $A$ has a **unique** $LU$-decomposition. $\\blacksquare$"
   ]
  },
  {
   "cell_type": "markdown",
   "metadata": {},
   "source": [
    "---"
   ]
  }
 ],
 "metadata": {
  "kernelspec": {
   "display_name": "Julia 1.6.2",
   "language": "julia",
   "name": "julia-1.6"
  },
  "language_info": {
   "file_extension": ".jl",
   "mimetype": "application/julia",
   "name": "julia",
   "version": "1.6.2"
  }
 },
 "nbformat": 4,
 "nbformat_minor": 1
}
