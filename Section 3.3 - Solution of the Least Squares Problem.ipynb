{
 "cells": [
  {
   "cell_type": "markdown",
   "metadata": {},
   "source": [
    "---\n",
    "# Section 3.3: Solution of the Least Squares Problem\n",
    "---"
   ]
  },
  {
   "cell_type": "markdown",
   "metadata": {},
   "source": [
    "The least square problem is\n",
    "\n",
    "$$\n",
    "\\min_x \\|b - Ax\\|_2\n",
    "$$\n",
    "\n",
    "where $A \\in \\mathbb{R}^{m \\times n}$, $b \\in \\mathbb{R}^m$, and $m > n$ (i.e., linear system $Ax = b$ is overdetermined)."
   ]
  },
  {
   "cell_type": "markdown",
   "metadata": {},
   "source": [
    "---"
   ]
  },
  {
   "cell_type": "markdown",
   "metadata": {},
   "source": [
    "> ### Theorem: ($QR$ for $m \\times n$ matrix $A$)\n",
    ">\n",
    "> Let $A \\in \\mathbb{R}^{m \\times n}$, $m > n$. Then:\n",
    "> 1. There exists an orthogonal matrix $Q \\in \\mathbb{R}^{m \\times m}$ and \n",
    ">\n",
    ">   $$R = \\begin{bmatrix} \\hat{R} \\\\ 0 \\end{bmatrix} \\in \\mathbb{R}^{m \\times n}$$\n",
    ">\n",
    ">   with $\\hat{R} \\in \\mathbb{R}^{n \\times n}$ upper-triangular such that \n",
    "> $ A = QR$. \n",
    ">\n",
    "> 2. The matrix $A$ has **full column rank** (i.e., $\\mathrm{rank}(A) = n$) if and only if $\\hat{R}$ is nonsingular."
   ]
  },
  {
   "cell_type": "markdown",
   "metadata": {},
   "source": [
    "---"
   ]
  },
  {
   "cell_type": "markdown",
   "metadata": {},
   "source": [
    "### Using $QR$ to solve the least squares problem\n",
    "\n",
    "First factor $A = QR$. Then,\n",
    "\n",
    "$$\n",
    "\\|b - Ax\\|_2 = \\left\\|Q^Tb - Rx\\right\\|_2.\n",
    "$$\n",
    "\n",
    "Let $c = Q^Tb$ and partition $c$ conformably with $R = \\begin{bmatrix} \\hat{R} \\\\ 0 \\end{bmatrix}$; i.e.,\n",
    "$\n",
    "c = \\begin{bmatrix} \\hat{c} \\\\ d \\end{bmatrix},\n",
    "$\n",
    "where $\\hat{c} \\in \\mathbb{R}^n$.\n",
    "\n",
    "\n",
    "Then\n",
    "\n",
    "$$\n",
    "\\|b - Ax\\|_2^2 = \\left\\|\\begin{bmatrix} \\hat{c} - \\hat{R}x \\\\ d \\end{bmatrix}\\right\\|_2^2\n",
    "= \\left\\|\\hat{c} - \\hat{R}x\\right\\|_2^2 + \\|d\\|_2^2 \\geq \\|d\\|_2^2, \\qquad \\text{for all $x \\in \\mathbb{R}^n$.}\n",
    "$$\n",
    "\n",
    "Therefore,\n",
    "\n",
    "$$\n",
    "\\min_x \\|b - Ax\\|_2 \\geq \\|d\\|_2.\n",
    "$$"
   ]
  },
  {
   "cell_type": "markdown",
   "metadata": {},
   "source": [
    "---"
   ]
  },
  {
   "cell_type": "markdown",
   "metadata": {},
   "source": [
    "## Full column rank case\n",
    "\n",
    "When $A$ has full column rank, the matrix $\\hat{R}$ is nonsingular.\n",
    "\n",
    "Let $x$ be the **unique** solution of the upper-triangular system \n",
    "\n",
    "$$\\hat{R}x = \\hat{c}.$$\n",
    "\n",
    "Then\n",
    "\n",
    "$$\n",
    "\\|b - Ax\\|_2^2 \n",
    "= \\left\\|\\hat{c} - \\hat{R}x\\right\\|_2^2 + \\|d\\|_2^2 = \\|d\\|_2^2.\n",
    "$$\n",
    "\n",
    "Thus, the vector $x$ achieves the minimum possible value and is the **unique** solution of the least squares problem."
   ]
  },
  {
   "cell_type": "markdown",
   "metadata": {},
   "source": [
    "---"
   ]
  },
  {
   "cell_type": "markdown",
   "metadata": {},
   "source": [
    "## Algorithm to solve least squares when $A$ has full column rank\n",
    "\n",
    "1. Compute the $QR$ decomposition of $A$, but do not form $Q$.\n",
    "2. Compute $c = Q^Tb$.\n",
    "3. Solve $\\hat{R} x = \\hat{c}$, where $\\hat{c} = c[1:n]$.\n"
   ]
  },
  {
   "cell_type": "markdown",
   "metadata": {},
   "source": [
    "---"
   ]
  },
  {
   "cell_type": "markdown",
   "metadata": {},
   "source": [
    "## Example"
   ]
  },
  {
   "cell_type": "code",
   "execution_count": null,
   "metadata": {},
   "outputs": [],
   "source": [
    "using LinearAlgebra\n",
    "\n",
    "m, n = 5, 2\n",
    "A = rand(m, n)\n",
    "x = rand(n)\n",
    "b = A*x + .1*randn(m)\n",
    "A\\b"
   ]
  },
  {
   "cell_type": "code",
   "execution_count": null,
   "metadata": {},
   "outputs": [],
   "source": [
    "F = qr(A)\n",
    "\n",
    "Q = F.Q\n",
    "\n",
    "c = Q'*b  # Done efficiently without forming Q"
   ]
  },
  {
   "cell_type": "code",
   "execution_count": null,
   "metadata": {},
   "outputs": [],
   "source": [
    "Rhat = F.R\n",
    "xhat = Rhat\\c[1:n]"
   ]
  },
  {
   "cell_type": "code",
   "execution_count": null,
   "metadata": {},
   "outputs": [],
   "source": [
    "norm(b - A*xhat)"
   ]
  },
  {
   "cell_type": "code",
   "execution_count": null,
   "metadata": {},
   "outputs": [],
   "source": [
    "d = c[n+1:m]\n",
    "norm(d)"
   ]
  },
  {
   "cell_type": "markdown",
   "metadata": {},
   "source": [
    "---"
   ]
  },
  {
   "cell_type": "markdown",
   "metadata": {},
   "source": [
    "## Rank-deficient case\n",
    "\n",
    "If $A \\in \\mathbb{R}^{m \\times n}$, $m > n$, is not full column rank because its columns are linearly dependent, \n",
    "\n",
    "$$\n",
    "\\mathrm{rank}(A) = r < n,\n",
    "$$\n",
    "\n",
    "then the $QR$ decomposition is\n",
    "\n",
    "$$\n",
    "\\hat{A} = Q R, \\qquad R = \\begin{bmatrix} R_{11} & R_{12} \\\\ 0 & 0 \\end{bmatrix},\n",
    "$$\n",
    "\n",
    "where $R_{11} \\in \\mathbb{R}^{r \\times r}$ is upper-triangular and nonsingular, and $\\hat{A}$ is $A$ with its columns permuted."
   ]
  },
  {
   "cell_type": "markdown",
   "metadata": {},
   "source": [
    "The pivoted $QR$ factorization of $A$ reorders the columns of $A$ so that\n",
    "\n",
    "$$\n",
    "|r_{11}| \\geq |r_{22}| \\geq \\cdots \\geq |r_{nn}|.\n",
    "$$\n",
    "\n",
    "This reordering can be represented as a vector $p$ or as a permutation matrix $P$ such that\n",
    "\n",
    "$$\n",
    "A[:,p] = QR,\\qquad AP = QR.\n",
    "$$\n",
    "\n",
    "The matrix $P$ is the identity matrix $I$ with columns reordered according to $p$,\n",
    "\n",
    "$$\n",
    "P = I[:,p].\n",
    "$$"
   ]
  },
  {
   "cell_type": "markdown",
   "metadata": {},
   "source": [
    "---"
   ]
  },
  {
   "cell_type": "markdown",
   "metadata": {},
   "source": [
    "## pivoted `qr`"
   ]
  },
  {
   "cell_type": "code",
   "execution_count": null,
   "metadata": {},
   "outputs": [],
   "source": [
    "?qr"
   ]
  },
  {
   "cell_type": "code",
   "execution_count": null,
   "metadata": {},
   "outputs": [],
   "source": [
    "B = rand(1:10, 5, 2)*diagm([1, 10])\n",
    "A = Float64[B B*rand(1:3, 2, 2)]"
   ]
  },
  {
   "cell_type": "code",
   "execution_count": null,
   "metadata": {},
   "outputs": [],
   "source": [
    "r = rank(A)"
   ]
  },
  {
   "cell_type": "code",
   "execution_count": null,
   "metadata": {},
   "outputs": [],
   "source": [
    "pivot = Val(true)\n",
    "Q, R, p = qr(A, pivot)"
   ]
  },
  {
   "cell_type": "code",
   "execution_count": null,
   "metadata": {},
   "outputs": [],
   "source": [
    "R11 = R[1:2, 1:2]"
   ]
  },
  {
   "cell_type": "code",
   "execution_count": null,
   "metadata": {},
   "outputs": [],
   "source": [
    "R12 = R[1:2, 3:4]"
   ]
  },
  {
   "cell_type": "code",
   "execution_count": null,
   "metadata": {},
   "outputs": [],
   "source": [
    "A[:,p] - Q*R"
   ]
  },
  {
   "cell_type": "code",
   "execution_count": null,
   "metadata": {},
   "outputs": [],
   "source": [
    "m, n = size(A)\n",
    "Id = Matrix(I, n, n)\n",
    "P = Id[:,p]"
   ]
  },
  {
   "cell_type": "code",
   "execution_count": null,
   "metadata": {},
   "outputs": [],
   "source": [
    "A*P - Q*R"
   ]
  },
  {
   "cell_type": "markdown",
   "metadata": {},
   "source": [
    "---"
   ]
  },
  {
   "cell_type": "markdown",
   "metadata": {},
   "source": [
    "## Rank-deficient least squares\n",
    "\n",
    "Suppose that the pivoted $QR$ decomposition of $A$ is $AP = QR$, and that $\\mathrm{rank}(A) = r < n$, so that\n",
    "\n",
    "$$\n",
    "R = \\begin{bmatrix} R_{11} & R_{12} \\\\ 0 & 0 \\end{bmatrix},\n",
    "$$\n",
    "\n",
    "where $R_{11}$ is $r \\times r$, upper-triangular, and nonsingular.\n",
    "\n",
    "Then\n",
    "\n",
    "$$\n",
    "\\|b - Ax\\|_2^2 = \\|\\hat{c} - R_{11}\\hat{x}_1 - R_{12}\\hat{x}_2\\|_2^2 + \\|d\\|_2^2 \\geq \\|d\\|_2^2,\n",
    "$$\n",
    "\n",
    "where \n",
    "\n",
    "$$\n",
    "\\hat{x} = P^T x = \\begin{bmatrix} \\hat{x}_1 \\\\ \\hat{x}_2 \\end{bmatrix}, \\qquad \n",
    "\\begin{bmatrix} \\hat{c} \\\\ d \\end{bmatrix}  = Q^T b.\n",
    "$$"
   ]
  },
  {
   "cell_type": "markdown",
   "metadata": {},
   "source": [
    "Also, $\\|b - Ax\\|_2^2 = \\|d\\|_2^2$ when\n",
    "\n",
    "$$\n",
    "R_{11}\\hat{x}_1 + R_{12}\\hat{x}_2 = \\hat{c}.\n",
    "$$\n",
    "\n",
    "Thus, $\\hat{x}_1$ are the dependent variables and $\\hat{x}_2$ are the independent variables, and\n",
    "\n",
    "$$\n",
    "\\hat{x}_1 = R_{11}^{-1}\\left(\\hat{c} - R_{12} \\hat{x}_2\\right).\n",
    "$$"
   ]
  },
  {
   "cell_type": "markdown",
   "metadata": {},
   "source": [
    "---"
   ]
  },
  {
   "cell_type": "markdown",
   "metadata": {},
   "source": [
    "### Sparse solution:\n",
    "\n",
    "$$\n",
    "\\hat{x}_2 = 0 \\quad \\Rightarrow \\quad \\hat{x}_1 = R_{11}^{-1}\\hat{c}\n",
    "$$"
   ]
  },
  {
   "cell_type": "code",
   "execution_count": null,
   "metadata": {},
   "outputs": [],
   "source": [
    "b = rand(m)\n",
    "\n",
    "c = Q'b\n",
    "ĉ = c[1:r]\n",
    "\n",
    "x = zeros(n)\n",
    "x[p[1:r]] = R11\\ĉ\n",
    "x"
   ]
  },
  {
   "cell_type": "code",
   "execution_count": null,
   "metadata": {},
   "outputs": [],
   "source": [
    "norm(b - A*x)"
   ]
  },
  {
   "cell_type": "markdown",
   "metadata": {},
   "source": [
    "---"
   ]
  },
  {
   "cell_type": "markdown",
   "metadata": {},
   "source": [
    "### Least-norm solution:\n",
    "\n",
    "Let $S$ be the set of optimal solutions of the least-squares problem:\n",
    "\n",
    "$$\n",
    "S = \\operatorname*{argmin}_x \\|b - Ax\\|_2.\n",
    "$$\n",
    "\n",
    "Then the least-norm solution is found by solving\n",
    "\n",
    "$$\n",
    "\\min_{x \\in S} \\|x\\|_2 = \\|\\hat{x}\\|_2 \n",
    "= \\left\\| \\begin{bmatrix} R_{11}^{-1}\\hat{c} \\\\ 0 \\end{bmatrix} - \n",
    "\\begin{bmatrix} R_{11}^{-1} R_{12} \\\\ I \\end{bmatrix} \\hat{x}_2 \\right\\|_2,\n",
    "$$\n",
    "\n",
    "which has a unique solution $\\hat{x}_2$ since the matrix \n",
    "\n",
    "$$\n",
    "\\begin{bmatrix} R_{11}^{-1} R_{12} \\\\ I \\end{bmatrix}\n",
    "$$\n",
    "\n",
    "has full column rank."
   ]
  },
  {
   "cell_type": "code",
   "execution_count": null,
   "metadata": {},
   "outputs": [],
   "source": [
    "# The least-squares solution given by \\ is the least-norm solution\n",
    "\n",
    "x = A\\b"
   ]
  },
  {
   "cell_type": "code",
   "execution_count": null,
   "metadata": {},
   "outputs": [],
   "source": [
    "# Using the formulas from above\n",
    "x = zeros(n)\n",
    "x[p[r+1:n]] = [R11\\R12; I]\\[R11\\ĉ; zeros(n-r)]\n",
    "x[p[1:r]] = R11\\(ĉ - R12*x[p[r+1:n]])\n",
    "x"
   ]
  },
  {
   "cell_type": "code",
   "execution_count": null,
   "metadata": {},
   "outputs": [],
   "source": [
    "norm(b - A*x)"
   ]
  },
  {
   "cell_type": "markdown",
   "metadata": {},
   "source": [
    "---"
   ]
  }
 ],
 "metadata": {
  "anaconda-cloud": {},
  "kernelspec": {
   "display_name": "Julia 1.6.2",
   "language": "julia",
   "name": "julia-1.6"
  },
  "language_info": {
   "file_extension": ".jl",
   "mimetype": "application/julia",
   "name": "julia",
   "version": "1.6.2"
  }
 },
 "nbformat": 4,
 "nbformat_minor": 1
}
